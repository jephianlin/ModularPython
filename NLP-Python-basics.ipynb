{
 "cells": [
  {
   "cell_type": "markdown",
   "id": "f87ef446",
   "metadata": {},
   "source": [
    "# NLP: Python basics"
   ]
  },
  {
   "cell_type": "markdown",
   "id": "de0896ec",
   "metadata": {},
   "source": [
    "![Creative Commons License](https://i.creativecommons.org/l/by/4.0/88x31.png)  \n",
    "This work by Jephian Lin is licensed under a [Creative Commons Attribution 4.0 International License](http://creativecommons.org/licenses/by/4.0/)."
   ]
  },
  {
   "cell_type": "markdown",
   "id": "91dd8dd8",
   "metadata": {},
   "source": [
    "### First few things to know"
   ]
  },
  {
   "cell_type": "code",
   "execution_count": null,
   "id": "e263b274",
   "metadata": {},
   "outputs": [],
   "source": [
    "Jupyter, two cells\n",
    "how to run, \n",
    "auto complete, \n",
    "ask for help\n",
    "Google, ChatGPT"
   ]
  },
  {
   "cell_type": "markdown",
   "id": "52cd714e",
   "metadata": {},
   "source": [
    "### Data type"
   ]
  },
  {
   "cell_type": "markdown",
   "id": "d1b6f138",
   "metadata": {},
   "source": [
    "### Input and output"
   ]
  },
  {
   "cell_type": "markdown",
   "id": "0e1b587a",
   "metadata": {},
   "source": [
    "### String"
   ]
  },
  {
   "cell_type": "code",
   "execution_count": null,
   "id": "e664630a",
   "metadata": {},
   "outputs": [],
   "source": [
    "split, join, functions"
   ]
  },
  {
   "cell_type": "markdown",
   "id": "df81a24a",
   "metadata": {},
   "source": [
    "### `for` loop and `if` statment"
   ]
  },
  {
   "cell_type": "code",
   "execution_count": null,
   "id": "1421ee75",
   "metadata": {},
   "outputs": [],
   "source": [
    "count probability\n",
    "pointwise mutual information\n",
    "https://en.wikipedia.org/wiki/Pointwise_mutual_information"
   ]
  },
  {
   "cell_type": "markdown",
   "id": "cbf38fec",
   "metadata": {},
   "source": [
    "### Further reading"
   ]
  },
  {
   "cell_type": "code",
   "execution_count": null,
   "id": "d766e9b9",
   "metadata": {},
   "outputs": [],
   "source": [
    "whirld wind"
   ]
  },
  {
   "cell_type": "code",
   "execution_count": null,
   "id": "c45bcbe5",
   "metadata": {},
   "outputs": [],
   "source": []
  }
 ],
 "metadata": {
  "kernelspec": {
   "display_name": "Python 3 (ipykernel)",
   "language": "python",
   "name": "python3"
  },
  "language_info": {
   "codemirror_mode": {
    "name": "ipython",
    "version": 3
   },
   "file_extension": ".py",
   "mimetype": "text/x-python",
   "name": "python",
   "nbconvert_exporter": "python",
   "pygments_lexer": "ipython3",
   "version": "3.11.3"
  }
 },
 "nbformat": 4,
 "nbformat_minor": 5
}
