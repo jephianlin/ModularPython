{
 "cells": [
  {
   "cell_type": "markdown",
   "id": "f87ef446",
   "metadata": {},
   "source": [
    "# NLP: Python basics"
   ]
  },
  {
   "cell_type": "markdown",
   "id": "de0896ec",
   "metadata": {},
   "source": [
    "![Creative Commons License](https://i.creativecommons.org/l/by/4.0/88x31.png)  \n",
    "This work by Jephian Lin is licensed under a [Creative Commons Attribution 4.0 International License](http://creativecommons.org/licenses/by/4.0/)."
   ]
  },
  {
   "cell_type": "markdown",
   "id": "91dd8dd8",
   "metadata": {},
   "source": [
    "### First few things to know"
   ]
  },
  {
   "cell_type": "markdown",
   "id": "88e50605",
   "metadata": {},
   "source": [
    "Python is a programming language, while Jupyter notebook or Google Colab are environment for you tou develop and run your code.  In the **notebook environment** , there are two types of **cells** : **Markdown** (this one) and **code** (cell you can run your code).  To run a code cell, click on the cell, press `shift + enter` or `ctrl + enter` ."
   ]
  },
  {
   "cell_type": "code",
   "execution_count": null,
   "id": "291093b8",
   "metadata": {},
   "outputs": [],
   "source": [
    "print(\"Press shift + enter to run the cell and move on to the next cell.\")\n",
    "print(\"Press ctrl + enter to run the cell and stay at the current cell.\")"
   ]
  },
  {
   "cell_type": "markdown",
   "id": "fd02e89a",
   "metadata": {},
   "source": [
    "If you have a long object called `my_name_is_unusually_long` , it is hard to remember and type it accurately.  You may type `my_name` and then press `tab` to let the notebook environment **auto-complete** the name.  For Google Colab, instead of `tab` , you may wait or use `ctrl + space` ."
   ]
  },
  {
   "cell_type": "code",
   "execution_count": null,
   "id": "ae25bb37",
   "metadata": {},
   "outputs": [],
   "source": [
    "my_name_is_unusually_long = \"my-name\""
   ]
  },
  {
   "cell_type": "code",
   "execution_count": null,
   "id": "a95a7e78",
   "metadata": {},
   "outputs": [],
   "source": [
    "# put your curse at the end of my_name and wait\n",
    "my_name"
   ]
  },
  {
   "cell_type": "markdown",
   "id": "65fc736c",
   "metadata": {},
   "source": [
    "When seeing a new function, you may use `?` to read its documentation."
   ]
  },
  {
   "cell_type": "code",
   "execution_count": null,
   "id": "a7b563a8",
   "metadata": {},
   "outputs": [],
   "source": [
    "a = \"nsysu\"\n",
    "a.upper?"
   ]
  },
  {
   "cell_type": "markdown",
   "id": "4e0af8de",
   "metadata": {},
   "source": [
    "Whenever you encouter any difficulty or error message, you are encourage to **ask** Google or ChatGPT.  "
   ]
  },
  {
   "cell_type": "markdown",
   "id": "d1b6f138",
   "metadata": {},
   "source": [
    "### Assisgn and print"
   ]
  },
  {
   "cell_type": "markdown",
   "id": "5a1da4c0",
   "metadata": {},
   "source": [
    "Use `=` to assign the value on the right-hand side to the variable on the left-hand side.  \n",
    "Then use `print` to print the variable."
   ]
  },
  {
   "cell_type": "code",
   "execution_count": null,
   "id": "987063f5",
   "metadata": {},
   "outputs": [],
   "source": [
    "greeting = \"hello\"\n",
    "print(greeting)"
   ]
  },
  {
   "cell_type": "code",
   "execution_count": null,
   "id": "6f37a7ea",
   "metadata": {},
   "outputs": [],
   "source": [
    "greeting = greeting + \", how are you?\"\n",
    "print(greeting)"
   ]
  },
  {
   "cell_type": "markdown",
   "id": "5fdfab2f",
   "metadata": {},
   "source": [
    "By default, the notebook environment print the representation of the variable in the last line."
   ]
  },
  {
   "cell_type": "code",
   "execution_count": null,
   "id": "ed139ad2",
   "metadata": {},
   "outputs": [],
   "source": [
    "reply = \"fantastic, how about you?\"\n",
    "greeting\n",
    "reply"
   ]
  },
  {
   "cell_type": "markdown",
   "id": "52cd714e",
   "metadata": {},
   "source": [
    "### Data type"
   ]
  },
  {
   "cell_type": "markdown",
   "id": "4fba8e28",
   "metadata": {},
   "source": [
    "Data type tells Python how to handle your object.  For example, you may ask Python to upper-case a string, but you cannot upper-case an integer."
   ]
  },
  {
   "cell_type": "code",
   "execution_count": null,
   "id": "5d730835",
   "metadata": {},
   "outputs": [],
   "source": [
    "a = 235 # integer\n",
    "b = \"two three five\" # string\n",
    "c = True # boolean\n",
    "d = (2, 3, 5) # tuple\n",
    "e = [2, 3, 5] # list\n",
    "f = {\"two\": 2, \"three\": 3, \"five\": 5} # dictionary\n",
    "type(f)"
   ]
  },
  {
   "cell_type": "code",
   "execution_count": null,
   "id": "bb9cc5c4",
   "metadata": {},
   "outputs": [],
   "source": [
    "a.upper()"
   ]
  },
  {
   "cell_type": "code",
   "execution_count": null,
   "id": "42425216",
   "metadata": {},
   "outputs": [],
   "source": [
    "b.upper()"
   ]
  },
  {
   "cell_type": "markdown",
   "id": "0e1b587a",
   "metadata": {},
   "source": [
    "### String"
   ]
  },
  {
   "cell_type": "markdown",
   "id": "f95d65a9",
   "metadata": {},
   "source": [
    "Python offers different ways to input a string."
   ]
  },
  {
   "cell_type": "code",
   "execution_count": null,
   "id": "bb0bd1e0",
   "metadata": {},
   "outputs": [],
   "source": [
    "a = 'The book \"1984\" is awesome.\\nI enjoyed reading it.'\n",
    "b = \"The book '1984' is awesome.\\nI enjoyed reading it.\"\n",
    "print(a)\n",
    "print(b)"
   ]
  },
  {
   "cell_type": "markdown",
   "id": "14e31b56",
   "metadata": {},
   "source": [
    "To avoid a long line of input, you may use paranetheses to make your code looks better."
   ]
  },
  {
   "cell_type": "code",
   "execution_count": null,
   "id": "d3c59cf3",
   "metadata": {},
   "outputs": [],
   "source": [
    "c = (\"The book '1984' is awesome.\\n\"\n",
    "     \"I enjoyed reading it.\")\n",
    "print(c)"
   ]
  },
  {
   "cell_type": "markdown",
   "id": "751f7c33",
   "metadata": {},
   "source": [
    "The symbol `\\n` is an **escape character** that stands for \"new line\".  You may use `r\"...\"` or `r'...'` to keep the original form instead of converting the escape characters.  This is particularly useful when your string is the code of some programming language.  \n",
    "\n",
    "See a list of escape characters [here](https://www.w3schools.com/python/gloss_python_escape_characters.asp)."
   ]
  },
  {
   "cell_type": "code",
   "execution_count": null,
   "id": "6445517c",
   "metadata": {},
   "outputs": [],
   "source": [
    "d = r\"The book '1984' is awesome.\\nI enjoyed reading it.\"\n",
    "print(d)"
   ]
  },
  {
   "cell_type": "markdown",
   "id": "3bf6e725",
   "metadata": {},
   "source": [
    "To record all the line breaks and tabs, use triple quotes."
   ]
  },
  {
   "cell_type": "code",
   "execution_count": null,
   "id": "abd01232",
   "metadata": {},
   "outputs": [],
   "source": [
    "e = \"\"\"The book '1984' is awesome.\n",
    "I enjoyed reading it.\"\"\"\n",
    "print(e)"
   ]
  },
  {
   "cell_type": "markdown",
   "id": "80336aba",
   "metadata": {},
   "source": [
    "A few functions are powerful on strings.  \n",
    "\n",
    "- `split` : split the string into a list of words\n",
    "- `join` : merge several string together\n",
    "- `upper` , `lower` , `capitalize` : make letters upper-case, lower-case, or capitalize the sentence\n",
    "- `startswith` , `endswith` : check if the string starts or ends with some letters\n",
    "- `isascii` : check if the string is ASCII only"
   ]
  },
  {
   "cell_type": "code",
   "execution_count": null,
   "id": "5ff16293",
   "metadata": {},
   "outputs": [],
   "source": [
    "b = \"The book '1984' is awesome.\\nI enjoyed reading it.\"\n",
    "b.split()"
   ]
  },
  {
   "cell_type": "code",
   "execution_count": null,
   "id": "472df63f",
   "metadata": {},
   "outputs": [],
   "source": [
    "b = \"The book '1984' is awesome.\\nI enjoyed reading it.\"\n",
    "words = b.split()\n",
    "'_'.join(words)"
   ]
  },
  {
   "cell_type": "code",
   "execution_count": null,
   "id": "e664630a",
   "metadata": {},
   "outputs": [],
   "source": [
    "greeting = \"hello, How are you?\"\n",
    "print(greeting.upper())\n",
    "print(greeting.lower())\n",
    "print(greeting.capitalize())"
   ]
  },
  {
   "cell_type": "markdown",
   "id": "da868cb2",
   "metadata": {},
   "source": [
    "Use the `f-string` to embed some variables in your string."
   ]
  },
  {
   "cell_type": "code",
   "execution_count": null,
   "id": "dd211584",
   "metadata": {
    "scrolled": true
   },
   "outputs": [],
   "source": [
    "book_name = \"1984\"\n",
    "description = \"awesome\"\n",
    "text = f\"The book '{book_name}' is {description}.\\n I enjoyed reading it.\"\n",
    "print(text)"
   ]
  },
  {
   "cell_type": "markdown",
   "id": "df81a24a",
   "metadata": {},
   "source": [
    "### `for` loop and `if` statment"
   ]
  },
  {
   "cell_type": "code",
   "execution_count": null,
   "id": "98489569",
   "metadata": {},
   "outputs": [],
   "source": []
  },
  {
   "cell_type": "code",
   "execution_count": null,
   "id": "6f90bcbd",
   "metadata": {},
   "outputs": [],
   "source": []
  },
  {
   "cell_type": "code",
   "execution_count": null,
   "id": "1421ee75",
   "metadata": {},
   "outputs": [],
   "source": [
    "count probability\n",
    "pointwise mutual information\n",
    "https://en.wikipedia.org/wiki/Pointwise_mutual_information"
   ]
  },
  {
   "cell_type": "markdown",
   "id": "cbf38fec",
   "metadata": {},
   "source": [
    "### Further reading"
   ]
  },
  {
   "cell_type": "code",
   "execution_count": null,
   "id": "d766e9b9",
   "metadata": {},
   "outputs": [],
   "source": [
    "whirld wind\n",
    "how to install"
   ]
  },
  {
   "cell_type": "code",
   "execution_count": null,
   "id": "6f00ca8b",
   "metadata": {},
   "outputs": [],
   "source": []
  }
 ],
 "metadata": {
  "kernelspec": {
   "display_name": "Python 3 (ipykernel)",
   "language": "python",
   "name": "python3"
  },
  "language_info": {
   "codemirror_mode": {
    "name": "ipython",
    "version": 3
   },
   "file_extension": ".py",
   "mimetype": "text/x-python",
   "name": "python",
   "nbconvert_exporter": "python",
   "pygments_lexer": "ipython3",
   "version": "3.11.3"
  }
 },
 "nbformat": 4,
 "nbformat_minor": 5
}
