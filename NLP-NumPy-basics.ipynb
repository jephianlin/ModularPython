{
 "cells": [
  {
   "cell_type": "markdown",
   "id": "da68091d",
   "metadata": {},
   "source": [
    "# NLP: NumPy basics"
   ]
  },
  {
   "cell_type": "markdown",
   "id": "178ef63a",
   "metadata": {},
   "source": [
    "![Creative Commons License](https://i.creativecommons.org/l/by/4.0/88x31.png)  \n",
    "This work by Jephian Lin is licensed under a [Creative Commons Attribution 4.0 International License](http://creativecommons.org/licenses/by/4.0/)."
   ]
  },
  {
   "cell_type": "code",
   "execution_count": null,
   "id": "86b76dee",
   "metadata": {},
   "outputs": [],
   "source": [
    "import numpy as np"
   ]
  },
  {
   "cell_type": "markdown",
   "id": "d815fa4b",
   "metadata": {},
   "source": [
    "### TFIDF: an example"
   ]
  },
  {
   "cell_type": "markdown",
   "id": "d4acf9f7",
   "metadata": {},
   "source": [
    "### Shape"
   ]
  },
  {
   "cell_type": "code",
   "execution_count": null,
   "id": "347a8ddd",
   "metadata": {},
   "outputs": [],
   "source": [
    "np.zeros\n",
    "np.zeros_like"
   ]
  },
  {
   "cell_type": "markdown",
   "id": "642c2b19",
   "metadata": {},
   "source": [
    "### Selection and Slicing"
   ]
  },
  {
   "cell_type": "markdown",
   "id": "8379e609",
   "metadata": {},
   "source": [
    "### Distances and similarity"
   ]
  },
  {
   "cell_type": "code",
   "execution_count": null,
   "id": "0ee6779b",
   "metadata": {},
   "outputs": [],
   "source": [
    "distance\n",
    "w2v cosine similarity"
   ]
  },
  {
   "cell_type": "markdown",
   "id": "edb5bdf0",
   "metadata": {},
   "source": [
    "### Further reading"
   ]
  },
  {
   "cell_type": "code",
   "execution_count": null,
   "id": "a9bebde7",
   "metadata": {},
   "outputs": [],
   "source": []
  }
 ],
 "metadata": {
  "kernelspec": {
   "display_name": "Python 3 (ipykernel)",
   "language": "python",
   "name": "python3"
  },
  "language_info": {
   "codemirror_mode": {
    "name": "ipython",
    "version": 3
   },
   "file_extension": ".py",
   "mimetype": "text/x-python",
   "name": "python",
   "nbconvert_exporter": "python",
   "pygments_lexer": "ipython3",
   "version": "3.11.3"
  }
 },
 "nbformat": 4,
 "nbformat_minor": 5
}
