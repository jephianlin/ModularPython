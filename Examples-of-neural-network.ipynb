{
 "cells": [
  {
   "cell_type": "code",
   "execution_count": null,
   "metadata": {},
   "outputs": [],
   "source": [
    "# load required packages\n",
    "\n",
    "import os\n",
    "import numpy as np\n",
    "import matplotlib.pyplot as plt\n",
    "\n",
    "np.set_printoptions(precision=2, suppress=True)"
   ]
  },
  {
   "cell_type": "code",
   "execution_count": null,
   "metadata": {},
   "outputs": [],
   "source": [
    "def arr_stg(arr, row_sep=\" \", col_sep=\"\\n\", fmt=\"%3d\"):\n",
    "    n,m = arr.shape\n",
    "    stg = col_sep.join(\n",
    "        row_sep.join(fmt%arr[i,j] for j in range(m)) \n",
    "        for i in range(n)\n",
    "    )\n",
    "    return stg\n",
    "\n",
    "def sigmoid(x):\n",
    "    return 1 / (1 + np.exp(-x))\n",
    "\n",
    "def sigmoid_prime(x):\n",
    "    return sigmoid(x) * (1 - sigmoid(x))\n",
    "\n",
    "sigma, sigma_prime = sigmoid, sigmoid_prime\n",
    "\n",
    "class nn():\n",
    "    def __init__(self, sizes):\n",
    "        self.n_layers = len(sizes) - 1\n",
    "        # input layer, layer 1 ~ n\n",
    "        self.weights = [None] + [np.random.randn(sizes[i-1], sizes[i]) for i in range(1, self.n_layers + 1)]\n",
    "        self.biases = [None] + [np.random.randn(sizes[i]) for i in range(1, self.n_layers + 1)]\n",
    "\n",
    "    def feedforward(self, X, return_all=False):\n",
    "        acts = [X]\n",
    "        zs = [None]\n",
    "        for i in range(1, self.n_layers + 1):\n",
    "            a_prev = acts[i-1]\n",
    "            W,b = self.weights[i],self.biases[i]\n",
    "            z = a_prev.dot(W) + b\n",
    "            a = sigma(z)\n",
    "            acts.append(a)\n",
    "            zs.append(z)\n",
    "        if return_all:\n",
    "            return acts, zs\n",
    "        else:\n",
    "            return acts[-1]\n",
    "\n",
    "    def backpropagation(self, X, Y, alpha=0.1, return_all=False):\n",
    "        N = X.shape[0]\n",
    "        acts, zs = self.feedforward(X, return_all=True)\n",
    "        grad_Ws = [None] * (self.n_layers + 1)\n",
    "        # grad_bs = [None] * (self.n_layers + 1)\n",
    "        grad_deltas = [None] * (self.n_layers + 1)\n",
    "        grad_deltas[-1] = 2 * (acts[-1] - Y) * sigma_prime(zs[-1])\n",
    "        for i in range(self.n_layers - 1, 0, -1):\n",
    "            # (N, dim_i) = (N, dim_{i+1}).dot(dim_{i+1},dim_i)\n",
    "            grad_deltas[i] = grad_deltas[i + 1].dot(self.weights[i + 1].T)\n",
    "        for i in range(self.n_layers, 0, -1):\n",
    "            # (N, dim_{i-1}, dim_i) = (N, dim_{i-1}, 1) * (N, 1, dim_i)\n",
    "            grad_Ws[i] = acts[i-1][:,:,np.newaxis] * grad_deltas[i][:,np.newaxis,:]\n",
    "            #  did not copy\n",
    "            grad_bs = grad_deltas\n",
    "\n",
    "        # update\n",
    "        for i in range(1, self.n_layers + 1):\n",
    "            self.weights[i] -= alpha / N * grad_Ws[i].sum(axis=0)\n",
    "            self.biases[i] -= alpha / N * grad_bs[i].sum(axis=0)\n",
    "\n",
    "        if return_all==True:\n",
    "            return grad_Ws, grad_bs"
   ]
  },
  {
   "cell_type": "code",
   "execution_count": null,
   "metadata": {},
   "outputs": [],
   "source": [
    "### load NSYSU-digits\n",
    "\n",
    "import urllib\n",
    "import numpy as np\n",
    "\n",
    "base = r\"https://github.com/SageLabTW/auto-grading/raw/master/nsysu-digits/\"\n",
    "for c in ['X', 'y']:\n",
    "    filename = \"nsysu-digits-%s.csv\"%c\n",
    "    if filename not in os.listdir('.'):\n",
    "        print(filename, 'not found --- will download')\n",
    "        urllib.request.urlretrieve(base + c + \".csv\", filename)\n",
    "\n",
    "Xsys = np.genfromtxt('nsysu-digits-X.csv', dtype=int, delimiter=',') ### flattened already\n",
    "ysys = np.genfromtxt('nsysu-digits-y.csv', dtype=int, delimiter=',')\n",
    "ysysone = np.eye(10)[ysys]\n",
    "print(Xsys.shape, ysys.shape)"
   ]
  },
  {
   "cell_type": "code",
   "execution_count": null,
   "metadata": {},
   "outputs": [],
   "source": [
    "# load MNSIT (long)\n",
    "\n",
    "from sklearn.datasets import fetch_openml\n",
    "mnist = fetch_openml('mnist_784')"
   ]
  },
  {
   "cell_type": "code",
   "execution_count": null,
   "metadata": {},
   "outputs": [],
   "source": [
    "# check input\n",
    "\n",
    "print(arr_stg(Xsys[1:2,:], row_sep=\",\", fmt=\"%d\"))\n",
    "print(arr_stg(Xsys[1].reshape(28,28), row_sep=\"\"))"
   ]
  },
  {
   "cell_type": "code",
   "execution_count": null,
   "metadata": {},
   "outputs": [],
   "source": [
    "# check output\n",
    "\n",
    "print(ysys[1])\n",
    "print(ysysone[1])"
   ]
  },
  {
   "cell_type": "code",
   "execution_count": null,
   "metadata": {},
   "outputs": [],
   "source": [
    "# test\n",
    "\n",
    "digits_nn = nn([3,4,2])\n",
    "X = np.ones((10, 3), dtype=float)\n",
    "Y = np.ones((10, 2), dtype=float)"
   ]
  },
  {
   "cell_type": "code",
   "execution_count": null,
   "metadata": {},
   "outputs": [],
   "source": [
    "print(Y[0])\n",
    "for epoch in range(10):\n",
    "    print(epoch, digits_nn.feedforward(X[0]))\n",
    "    for _ in range(100):\n",
    "        digits_nn.backpropagation(X, Y)"
   ]
  },
  {
   "cell_type": "code",
   "execution_count": null,
   "metadata": {},
   "outputs": [],
   "source": [
    "# NSYSY-digits\n",
    "\n",
    "digits_nn = nn([784,36,10])\n",
    "X = Xsys\n",
    "Y = ysysone\n",
    "print(X.shape, Y.shape)"
   ]
  },
  {
   "cell_type": "code",
   "execution_count": null,
   "metadata": {},
   "outputs": [],
   "source": [
    "# MNIST (long)\n",
    "\n",
    "digits_nn = nn([784,36,10])\n",
    "X = mnist['data'].values.astype(float)\n",
    "Y = np.eye(10)[mnist['target'].values.astype(int)]\n",
    "print(X.shape, Y.shape)"
   ]
  },
  {
   "cell_type": "code",
   "execution_count": null,
   "metadata": {},
   "outputs": [],
   "source": [
    "# stochastic gradient descent\n",
    "\n",
    "N = X.shape[0]\n",
    "print(Y[0])\n",
    "for epoch in range(10):\n",
    "    pred_Y = digits_nn.feedforward(X)\n",
    "    preds = np.argmax(pred_Y, axis=1)\n",
    "    labels = np.argmax(Y, axis=1)\n",
    "    accuracy = np.sum(preds == labels) / labels.shape\n",
    "    print(epoch, digits_nn.feedforward(X[0]), \"acc =\", accuracy)\n",
    "    for _ in range(1000):\n",
    "        inds = np.random.choice(N, 10)\n",
    "        digits_nn.backpropagation(X[inds], Y[inds], alpha=0.03)"
   ]
  },
  {
   "cell_type": "code",
   "execution_count": null,
   "metadata": {},
   "outputs": [],
   "source": [
    "# most important feature\n",
    "\n",
    "fig,axs = plt.subplots(2, 5, figsize=(15,6))\n",
    "Ws = digits_nn.weights\n",
    "\n",
    "for n in range(10):\n",
    "    i,j = n // 5, n % 5\n",
    "    max_ind = Ws[2][:,n].argmax() # out of 0 ~ 35\n",
    "    max_feature = Ws[1][:,max_ind]\n",
    "    ax = axs[i,j]\n",
    "    ax.set_title(n)\n",
    "    ax.axis(\"off\")\n",
    "    axs[i,j].imshow(max_feature.reshape(28,28))"
   ]
  },
  {
   "cell_type": "code",
   "execution_count": null,
   "metadata": {},
   "outputs": [],
   "source": []
  }
 ],
 "metadata": {
  "kernelspec": {
   "display_name": "Python 3 (ipykernel)",
   "language": "python",
   "name": "python3"
  },
  "language_info": {
   "codemirror_mode": {
    "name": "ipython",
    "version": 3
   },
   "file_extension": ".py",
   "mimetype": "text/x-python",
   "name": "python",
   "nbconvert_exporter": "python",
   "pygments_lexer": "ipython3",
   "version": "3.13.1"
  }
 },
 "nbformat": 4,
 "nbformat_minor": 4
}
