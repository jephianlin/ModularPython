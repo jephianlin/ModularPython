{
 "cells": [
  {
   "cell_type": "code",
   "execution_count": null,
   "id": "706f6471-823b-4b13-9cfa-5deb631f97f5",
   "metadata": {},
   "outputs": [],
   "source": [
    "import numpy as np\n",
    "import matplotlib.pyplot as plt\n",
    "import pandas as pd"
   ]
  },
  {
   "cell_type": "code",
   "execution_count": null,
   "id": "64d4c8a8-5539-4d3a-a11a-380b451dbbe0",
   "metadata": {},
   "outputs": [],
   "source": [
    "def PLA_no_bias(X, y):\n",
    "    N,d = X.shape\n",
    "    normal = np.random.randn(d,)\n",
    "    \n",
    "    for _ in range(1000):\n",
    "        # find one wrong sample\n",
    "        for i in range(N):\n",
    "            if np.dot(X[i], normal) * y[i] <= 0:\n",
    "                normal += y[i] * X[i]\n",
    "                # print accuracy\n",
    "                if _ % 100 == 99:\n",
    "                    print(\"Iter %s: %s\"\n",
    "                          %(_+1, (np.sign(np.dot(X, normal)) == y).mean()))\n",
    "                break\n",
    "        else:\n",
    "            break\n",
    "\n",
    "    print((np.sign(np.dot(X, normal)) == y).mean())\n",
    "    return normal\n",
    "\n",
    "def PLA_with_bias(X, y):\n",
    "    N,d = X.shape\n",
    "    augX = np.hstack([np.ones((N,1)), X])\n",
    "    bias_normal = PLA_no_bias(augX, y)\n",
    "    return bias_normal[0], bias_normal[1:]"
   ]
  },
  {
   "cell_type": "code",
   "execution_count": null,
   "id": "ef09839d-154a-4e43-8831-0e386d639c5a",
   "metadata": {},
   "outputs": [],
   "source": [
    "def draw_classifier_origin(X, y, normal, bias=0):\n",
    "    \"\"\"\n",
    "    Input:\n",
    "        X, y: the X, y to be used for linear_classifier\n",
    "        normal: a normal vector\n",
    "    Output:\n",
    "        an illustration of the classifier\n",
    "        This function works only when X.shape[1] == 2.\n",
    "    \"\"\"\n",
    "    fig = plt.figure(figsize=(5,5))\n",
    "    ax = plt.axes()\n",
    "    ### draw data points\n",
    "    ax.scatter(X[:,0], X[:,1], c=y, cmap='viridis')\n",
    "    \n",
    "    ### set boundary\n",
    "    xleft, xright = X[:,0].min(), X[:,0].max()\n",
    "    yleft, yright = X[:,1].min(), X[:,1].max()\n",
    "    xwidth = xright - xleft\n",
    "    ywidth = yright - yleft\n",
    "    width = max([xwidth, ywidth])\n",
    "    xleft, xright = xleft - (width-xwidth)/2, xright + (width-xwidth)/2\n",
    "    yleft, yright = yleft - (width-ywidth)/2, yright + (width-ywidth)/2\n",
    "    ax.set_xlim(xleft, xright)\n",
    "    ax.set_ylim(yleft, yright)\n",
    "    \n",
    "    ### draw normal vector and the line\n",
    "    length = np.sqrt(np.sum(normal ** 2))\n",
    "    c1,c2 = normal / length * (0.25*width)\n",
    "    ax.arrow(0, 0, c1, c2, color='red', head_width=0.05*width)\n",
    "    shift = bias / normal.dot(normal) * normal\n",
    "    ax.plot(np.array([-4*width*c2, 4*width*c2]) - shift[0], \n",
    "            np.array([4*width*c1, -4*width*c1]) - shift[1], \n",
    "            color='red')\n",
    "#     fig.savefig('linear_classifier.png')"
   ]
  },
  {
   "cell_type": "code",
   "execution_count": null,
   "id": "a4276afb-0c68-4c31-bb4d-231dc8f250b6",
   "metadata": {},
   "outputs": [],
   "source": [
    "# PLA no bias\n",
    "X = np.random.randn(100,2)\n",
    "y = np.sign(X.dot(np.array([1,1])))\n",
    "plt.axis('equal')\n",
    "plt.scatter(*X.T, c=y)"
   ]
  },
  {
   "cell_type": "code",
   "execution_count": null,
   "id": "ca776e65-68e9-4aa6-bdc1-270493d62327",
   "metadata": {},
   "outputs": [],
   "source": [
    "normal = PLA_no_bias(X, y)\n",
    "draw_classifier_origin(X, y, normal)"
   ]
  },
  {
   "cell_type": "code",
   "execution_count": null,
   "id": "6e1a6a05-5fb1-47fd-aa17-c8deb2e2aec6",
   "metadata": {},
   "outputs": [],
   "source": [
    "# PLA with bias\n",
    "X = np.random.randn(100,2)\n",
    "y = np.sign(X.dot(np.array([1,1])) + 1)\n",
    "plt.axis('equal')\n",
    "plt.scatter(*X.T, c=y)"
   ]
  },
  {
   "cell_type": "code",
   "execution_count": null,
   "id": "c847b170-e13e-4f6e-be51-448d528b274f",
   "metadata": {},
   "outputs": [],
   "source": [
    "bias, normal = PLA_with_bias(X, y)\n",
    "draw_classifier_origin(X, y, normal, bias)"
   ]
  },
  {
   "cell_type": "code",
   "execution_count": null,
   "id": "c268d09f-072a-4e3c-b4fe-f0d53389be68",
   "metadata": {},
   "outputs": [],
   "source": [
    "# still running or not separable?\n",
    "X = np.random.randn(100000,2)\n",
    "y = np.sign(X.dot(np.array([1,1])) + 1)\n",
    "plt.axis('equal')\n",
    "plt.scatter(*X.T, c=y)"
   ]
  },
  {
   "cell_type": "code",
   "execution_count": null,
   "id": "b34f3d5e-6830-4c9f-a5b0-6bad6e9ae9ee",
   "metadata": {},
   "outputs": [],
   "source": [
    "bias, normal = PLA_with_bias(X, y)\n",
    "draw_classifier_origin(X, y, normal, bias)"
   ]
  },
  {
   "cell_type": "code",
   "execution_count": null,
   "id": "6181e798-fa39-4b39-8277-49fa70040c78",
   "metadata": {},
   "outputs": [],
   "source": [
    "# feature engineering\n",
    "X = 5 * np.random.randn(10000,2)\n",
    "lengths = np.linalg.norm(X, axis=1)\n",
    "band1 = (lengths > 1) & (lengths <2)  \n",
    "band2 = (lengths > 3) & (lengths <4)\n",
    "X = np.vstack([X[band1], X[band2]])\n",
    "y = np.array([-1]*band1.sum() + [1]*band2.sum())\n",
    "plt.axis('equal')\n",
    "plt.scatter(*X.T, c=y)"
   ]
  },
  {
   "cell_type": "code",
   "execution_count": null,
   "id": "f1faa0a2-a129-4744-86c5-9f353e8a5c08",
   "metadata": {},
   "outputs": [],
   "source": [
    "X_new = np.hstack([X, X**2])\n",
    "bias, normal = PLA_with_bias(X_new, y)\n",
    "\n",
    "bias, normal"
   ]
  },
  {
   "cell_type": "code",
   "execution_count": null,
   "id": "6f0f9268-c4d0-4e03-8b31-3932351a94c5",
   "metadata": {},
   "outputs": [],
   "source": [
    "# hand written digits of 0's and 1's\n",
    "# load from NSYSU-digits dataset\n",
    "# https://github.com/SageLabTW/auto-grading\n",
    "import os\n",
    "import urllib\n",
    "import numpy as np\n",
    "\n",
    "base = r\"https://github.com/SageLabTW/auto-grading/raw/master/nsysu-digits/\"\n",
    "for c in ['X', 'y']:\n",
    "    filename = \"nsysu-digits-%s.csv\"%c\n",
    "    if filename not in os.listdir('.'):\n",
    "        print(filename, 'not found --- will download')\n",
    "        urllib.request.urlretrieve(base + c + \".csv\", filename)\n",
    "\n",
    "Xsys = np.genfromtxt('nsysu-digits-X.csv', dtype=int, delimiter=',') ### flattened already\n",
    "ysys = np.genfromtxt('nsysu-digits-y.csv', dtype=int, delimiter=',')\n",
    "print(Xsys.shape)"
   ]
  },
  {
   "cell_type": "code",
   "execution_count": null,
   "id": "799b50cc-1f4d-4b00-befa-958b1e793191",
   "metadata": {},
   "outputs": [],
   "source": [
    "# you may try different numbers\n",
    "a,b = 0,1\n",
    "mask = (ysys == a) | (ysys == b)\n",
    "X = Xsys[mask,:]\n",
    "y = ysys[mask]\n",
    "y[y == a] = -1\n",
    "y[y == b] = 1\n",
    "\n",
    "fig,axs = plt.subplots(2, 5, figsize=(10,4))\n",
    "for i in range(10):\n",
    "    ax = axs[i // 5][i % 5]\n",
    "    ax.axis('off')\n",
    "    ax.imshow(X[i].reshape(28,28), vmin=0, vmax=255, cmap=\"binary\")"
   ]
  },
  {
   "cell_type": "code",
   "execution_count": null,
   "id": "ff25c3e6-6a07-4811-9bcd-b5c29d2e447b",
   "metadata": {},
   "outputs": [],
   "source": [
    "from sklearn.model_selection import train_test_split\n",
    "Xtrain,Xtest,ytrain,ytest = train_test_split(X, y)\n",
    "print(ytrain.size, ytest.size)"
   ]
  },
  {
   "cell_type": "code",
   "execution_count": null,
   "id": "7b47ecec-a684-4a19-a636-835d912ee053",
   "metadata": {},
   "outputs": [],
   "source": [
    "bias,normal = PLA_with_bias(Xtrain, ytrain)\n",
    "\n",
    "acc = (np.sign(Xtest.dot(normal) + bias) == ytest).mean()\n",
    "print(\"Test set accuracy:\", acc)"
   ]
  },
  {
   "cell_type": "code",
   "execution_count": null,
   "id": "f07ea9b8-f624-404f-a22e-bcb1d7aad354",
   "metadata": {},
   "outputs": [],
   "source": []
  }
 ],
 "metadata": {
  "kernelspec": {
   "display_name": "Python 3 (ipykernel)",
   "language": "python",
   "name": "python3"
  },
  "language_info": {
   "codemirror_mode": {
    "name": "ipython",
    "version": 3
   },
   "file_extension": ".py",
   "mimetype": "text/x-python",
   "name": "python",
   "nbconvert_exporter": "python",
   "pygments_lexer": "ipython3",
   "version": "3.10.8"
  }
 },
 "nbformat": 4,
 "nbformat_minor": 5
}
