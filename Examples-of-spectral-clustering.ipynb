{
 "cells": [
  {
   "cell_type": "code",
   "execution_count": null,
   "metadata": {},
   "outputs": [],
   "source": [
    "import numpy as np\n",
    "import matplotlib.pyplot as plt\n",
    "from mpl_toolkits import mplot3d\n",
    "import networkx as nx\n",
    "\n",
    "### for computing partial eigenvectors\n",
    "import scipy.linalg as la\n",
    "import scipy.sparse.linalg as sla\n",
    "\n",
    "np.set_printoptions(precision=2, suppress=True)"
   ]
  },
  {
   "cell_type": "code",
   "execution_count": null,
   "metadata": {},
   "outputs": [],
   "source": [
    "def spectral_embedding(g, d=2):\n",
    "    n = g.order()\n",
    "    L = nx.laplacian_matrix(g).toarray()\n",
    "    if d < n:\n",
    "        lam, Y = sla.eigsh(L.astype(float), k=d, which=\"SA\")\n",
    "    if d == n:\n",
    "        lam, Y = la.eigh(L.toarray())\n",
    "            \n",
    "    return Y\n",
    "\n",
    "def draw_graph(g, Y):\n",
    "    n = g.order()\n",
    "    fig = plt.figure()\n",
    "    if Y.shape[1] == 2:\n",
    "        ax = plt.axes()\n",
    "    if Y.shape[1] == 3:\n",
    "        ax = plt.axes(projection='3d')\n",
    "    ### plot points\n",
    "    ax.scatter(*Y.T, s=50, zorder=3)\n",
    "    ### add vertex labels\n",
    "    for i in range(n):\n",
    "        ax.text(*Y[i], i, zorder=4)\n",
    "    ### add lines\n",
    "    for i,j in g.edges():\n",
    "        d = g.get_edge_data(i,j)\n",
    "        style = 'solid'\n",
    "        if 'weight' in d.keys():\n",
    "            if d['weight'] < 0.5:\n",
    "                style = 'dashed'\n",
    "        ax.plot(*Y[[i,j],:].T, 'c', linestyle=style)"
   ]
  },
  {
   "cell_type": "code",
   "execution_count": null,
   "metadata": {},
   "outputs": [],
   "source": [
    "# random layout of K5\n",
    "k5 = nx.complete_graph(5)\n",
    "g1 = nx.disjoint_union_all([k5, k5, k5])\n",
    "pos = nx.random_layout(g1, seed=2)\n",
    "nx.draw_networkx(g1, pos=pos)"
   ]
  },
  {
   "cell_type": "code",
   "execution_count": null,
   "metadata": {},
   "outputs": [],
   "source": [
    "# first three eigenvectors\n",
    "Y = spectral_embedding(g1, 3)\n",
    "Y"
   ]
  },
  {
   "cell_type": "code",
   "execution_count": null,
   "metadata": {},
   "outputs": [],
   "source": [
    "draw_graph(g1, Y)"
   ]
  },
  {
   "cell_type": "code",
   "execution_count": null,
   "metadata": {
    "scrolled": true
   },
   "outputs": [],
   "source": [
    "# random layout of K5 + 2e\n",
    "k5 = nx.complete_graph(5)\n",
    "g2 = nx.disjoint_union_all([k5, k5, k5])\n",
    "g2.add_edges_from([(4,5), (9,10)], weight=0.1)\n",
    "# draw g2 with same pos as g1\n",
    "pos = nx.random_layout(g1, seed=2)\n",
    "elarge = g1.edges\n",
    "esmall = [(4,5), (9,10)]\n",
    "nx.draw_networkx_nodes(g2, pos)\n",
    "nx.draw_networkx_labels(g2, pos)\n",
    "nx.draw_networkx_edges(g2, pos, edgelist=elarge)\n",
    "nx.draw_networkx_edges(g2, pos, edgelist=esmall, \n",
    "                       alpha=0.5, edge_color=\"b\", style=\"dashed\")"
   ]
  },
  {
   "cell_type": "code",
   "execution_count": null,
   "metadata": {},
   "outputs": [],
   "source": [
    "# first three eigenvectors\n",
    "Y = spectral_embedding(g2, 3)\n",
    "Y"
   ]
  },
  {
   "cell_type": "code",
   "execution_count": null,
   "metadata": {},
   "outputs": [],
   "source": [
    "draw_graph(g2, Y)"
   ]
  },
  {
   "cell_type": "code",
   "execution_count": null,
   "metadata": {},
   "outputs": [],
   "source": [
    "# draw path graph\n",
    "g = nx.path_graph(10)\n",
    "Y = spectral_embedding(g, 3)\n",
    "draw_graph(g, Y)"
   ]
  },
  {
   "cell_type": "code",
   "execution_count": null,
   "metadata": {},
   "outputs": [],
   "source": [
    "# draw cycle graph\n",
    "g = nx.cycle_graph(10)\n",
    "Y = spectral_embedding(g, 3)\n",
    "draw_graph(g, Y)"
   ]
  },
  {
   "cell_type": "code",
   "execution_count": null,
   "metadata": {},
   "outputs": [],
   "source": [
    "# draw cube graph\n",
    "g = nx.cubical_graph()\n",
    "Y = spectral_embedding(g, 4)\n",
    "draw_graph(g, Y[:,1:])"
   ]
  },
  {
   "cell_type": "code",
   "execution_count": null,
   "metadata": {},
   "outputs": [],
   "source": [
    "# draw dodecahedron graph\n",
    "g = nx.dodecahedral_graph()\n",
    "Y = spectral_embedding(g, 4)\n",
    "draw_graph(g, Y[:,1:])"
   ]
  },
  {
   "cell_type": "code",
   "execution_count": null,
   "metadata": {},
   "outputs": [],
   "source": [
    "# download an image\n",
    "import requests\n",
    "\n",
    "URL = \"https://github.com/jephianlin/LAwithNumPy/blob/main/incrediville-side.jpg?raw=true\"\n",
    "file = requests.get(URL, allow_redirects=True)\n",
    "\n",
    "open(\"incrediville-side.jpg\", \"wb\").write(file.content)"
   ]
  },
  {
   "cell_type": "code",
   "execution_count": null,
   "metadata": {},
   "outputs": [],
   "source": [
    "from PIL import Image\n",
    "\n",
    "img = Image.open(\"incrediville-side.jpg\")\n",
    "img = img.resize((img.size[0] // 80, img.size[1] // 80))\n",
    "print(img.size)\n",
    "img"
   ]
  },
  {
   "cell_type": "code",
   "execution_count": null,
   "metadata": {},
   "outputs": [],
   "source": [
    "m,n = img.size # width, height\n",
    "grid = nx.grid_2d_graph(n,m)\n",
    "std_pos = {v: (v[0], -v[1]) for v in grid.nodes}\n",
    "arr = np.array(img)\n",
    "colors = arr.reshape(-1,3) / 255\n",
    "nx.draw_networkx_nodes(grid, pos=std_pos, node_size=10, node_color=colors)"
   ]
  },
  {
   "cell_type": "code",
   "execution_count": null,
   "metadata": {},
   "outputs": [],
   "source": [
    "grid.order()"
   ]
  },
  {
   "cell_type": "code",
   "execution_count": null,
   "metadata": {},
   "outputs": [],
   "source": [
    "colors.shape"
   ]
  },
  {
   "cell_type": "code",
   "execution_count": null,
   "metadata": {},
   "outputs": [],
   "source": [
    "arr[0,0]"
   ]
  },
  {
   "cell_type": "code",
   "execution_count": null,
   "metadata": {},
   "outputs": [],
   "source": [
    "list(grid)"
   ]
  },
  {
   "cell_type": "code",
   "execution_count": null,
   "metadata": {},
   "outputs": [],
   "source": []
  }
 ],
 "metadata": {
  "kernelspec": {
   "display_name": "Python 3",
   "language": "python",
   "name": "python3"
  },
  "language_info": {
   "codemirror_mode": {
    "name": "ipython",
    "version": 3
   },
   "file_extension": ".py",
   "mimetype": "text/x-python",
   "name": "python",
   "nbconvert_exporter": "python",
   "pygments_lexer": "ipython3",
   "version": "3.8.10"
  }
 },
 "nbformat": 4,
 "nbformat_minor": 4
}
