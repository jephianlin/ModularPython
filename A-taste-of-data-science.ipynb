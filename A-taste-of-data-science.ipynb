{
 "cells": [
  {
   "cell_type": "markdown",
   "metadata": {
    "hideCode": false,
    "hidePrompt": false
   },
   "source": [
    "# A taste of data science\n",
    "and why we start from Numpy, pandas, and matplotlib..."
   ]
  },
  {
   "cell_type": "markdown",
   "metadata": {
    "hideCode": false,
    "hidePrompt": false
   },
   "source": [
    "Let's import some required packages first."
   ]
  },
  {
   "cell_type": "code",
   "execution_count": null,
   "metadata": {},
   "outputs": [],
   "source": [
    "import numpy as np\n",
    "import matplotlib.pyplot as plt"
   ]
  },
  {
   "cell_type": "markdown",
   "metadata": {
    "hideCode": false,
    "hidePrompt": false
   },
   "source": [
    "## Get data\n",
    "One of the most convenient  \n",
    "and unrealistic way to read the data  \n",
    "is by built-in functions of packages.\n",
    "\n",
    "For example, you can do \n",
    "```Python\n",
    "from sklearn.datasets import <tab>\n",
    "```\n",
    "Here `<tab>` means to press the tab key there."
   ]
  },
  {
   "cell_type": "code",
   "execution_count": null,
   "metadata": {
    "hideCode": false,
    "hidePrompt": false
   },
   "outputs": [],
   "source": [
    "from sklearn.datasets import load_iris\n",
    "iris = load_iris() ### load the dataset and store it into the namespace `iris`"
   ]
  },
  {
   "cell_type": "markdown",
   "metadata": {
    "hideCode": false,
    "hidePrompt": false
   },
   "source": [
    "Now what?\n",
    "\n",
    "Different datasets have different structures.  \n",
    "Usually, the peopl who give you the data need to  \n",
    "tell you the details.\n",
    "\n",
    "For data accessed by the `sklearn` (scikit-learn) package,  \n",
    "each data has its own keys."
   ]
  },
  {
   "cell_type": "code",
   "execution_count": null,
   "metadata": {
    "hideCode": false,
    "hidePrompt": false
   },
   "outputs": [],
   "source": [
    "print(iris.keys())\n",
    "\n",
    "### The general description is stored in `DESCR`\n",
    "### and can be access by `iris['DESCR']`\n",
    "print(iris['DESCR'])"
   ]
  },
  {
   "cell_type": "code",
   "execution_count": null,
   "metadata": {
    "hideCode": false,
    "hidePrompt": false
   },
   "outputs": [],
   "source": [
    "X = iris['data']\n",
    "y = iris['target']\n",
    "### uncomment the following lines to \n",
    "### understand X and y\n",
    "# print(X)\n",
    "# print(y)"
   ]
  },
  {
   "cell_type": "markdown",
   "metadata": {
    "hideCode": false,
    "hidePrompt": false
   },
   "source": [
    "In computer, data is usually stored in an array.  \n",
    "A sample of the data is no different from a collection of numbers.\n",
    "\n",
    "It is important to understand  \n",
    "how many **samples** (rows) there are, and  \n",
    "how many **features** (columns) there are."
   ]
  },
  {
   "cell_type": "code",
   "execution_count": null,
   "metadata": {
    "hideCode": false,
    "hidePrompt": false
   },
   "outputs": [],
   "source": [
    "print(X.shape)\n",
    "print(y.shape)"
   ]
  },
  {
   "cell_type": "markdown",
   "metadata": {
    "hideCode": false,
    "hidePrompt": false
   },
   "source": [
    "So in this case, \n",
    "you understand there are 150 samples of iris flowers are given, and  \n",
    "for each sample, 4 features are recorded.\n",
    "\n",
    "`iris['target']` record the species of each sample,  \n",
    "they are the answers, the **targets**, or the **labels**.\n",
    "\n",
    "`iris['target_names']` tells you the meaning of each target."
   ]
  },
  {
   "cell_type": "code",
   "execution_count": null,
   "metadata": {
    "hideCode": false,
    "hidePrompt": false
   },
   "outputs": [],
   "source": [
    "iris['target_names']"
   ]
  },
  {
   "cell_type": "markdown",
   "metadata": {
    "hideCode": false,
    "hidePrompt": false
   },
   "source": [
    "As you have seen, \n",
    "the structure of the data is important.\n",
    "\n",
    "The real-world data is unlikely to be as clean as this.\n",
    "\n",
    "You might be dealing with:  \n",
    "- pictures of different resolutions (input dimensions)\n",
    "- pictures with noise (inevitable)\n",
    "- text with redundant information or redundant formating (e.g., collecting the gender data by Word)\n",
    "- and so on."
   ]
  },
  {
   "cell_type": "markdown",
   "metadata": {
    "hideCode": false,
    "hidePrompt": false
   },
   "source": [
    "Processing and cleaning the data is important  \n",
    "and has lots of dirty work involved.  \n",
    "\n",
    "However, a good project requires  \n",
    "a smooth cooperation between several reliable works,  \n",
    "such as \n",
    "- collecting the data,\n",
    "- cleaning the data, \n",
    "- analyze the data, \n",
    "- data visualization and selling it out.\n",
    "\n",
    "Each step is important while data analysis  \n",
    "counts only a tiny proportion."
   ]
  },
  {
   "cell_type": "markdown",
   "metadata": {
    "hideCode": false,
    "hideOutput": false,
    "hidePrompt": false
   },
   "source": [
    "## Support-vector machine\n",
    "\n",
    "Find a cutting line (hyperplane) between  \n",
    "data points form different categories.\n",
    "\n",
    "![Illustration of support-vector machine](256px-SVM_margin.png \"Illustration of support-vector machine\")\n",
    "(Source: Wikipedia &mdash; Support-vector machine)  \n",
    "(Larhmam [CC BY-SA 4.0](https://creativecommons.org/licenses/by-sa/4.0))"
   ]
  },
  {
   "cell_type": "markdown",
   "metadata": {
    "hideCode": false,
    "hidePrompt": false
   },
   "source": [
    "Let have a glance of the data points.\n",
    "\n",
    "Think about what are `X[:,0]` and `X[:,1]`.  \n",
    "\n",
    "You may also try combinations other than 0 and 1.  \n",
    "For example, you may try 1 and 2."
   ]
  },
  {
   "cell_type": "code",
   "execution_count": null,
   "metadata": {
    "hideCode": false,
    "hidePrompt": false
   },
   "outputs": [],
   "source": [
    "plt.scatter(X[:,0], X[:,1], c=y, cmap='viridis')"
   ]
  },
  {
   "cell_type": "markdown",
   "metadata": {
    "hideCode": false,
    "hidePrompt": false
   },
   "source": [
    "Let's apply SVM anyway  \n",
    "(without understanding what is going on)."
   ]
  },
  {
   "cell_type": "code",
   "execution_count": null,
   "metadata": {
    "hideCode": false,
    "hidePrompt": false
   },
   "outputs": [],
   "source": [
    "from sklearn.svm import SVC\n",
    "model = SVC() ### create a support-vector classifier\n",
    "model.fit(X, y) ### adjust the parameters of the model to fit the data\n",
    "ymodel = model.predict(X) ### parameters are fixed now, use them to predict the answer"
   ]
  },
  {
   "cell_type": "code",
   "execution_count": null,
   "metadata": {
    "hideCode": false,
    "hidePrompt": false
   },
   "outputs": [],
   "source": [
    "### predicted answers\n",
    "ymodel"
   ]
  },
  {
   "cell_type": "code",
   "execution_count": null,
   "metadata": {
    "hideCode": false,
    "hidePrompt": false
   },
   "outputs": [],
   "source": [
    "### answers given by human\n",
    "y"
   ]
  },
  {
   "cell_type": "markdown",
   "metadata": {
    "hideCode": false,
    "hidePrompt": false
   },
   "source": [
    "How many are correct?  \n",
    "\n",
    "Stop counting, use `accuracy_score`."
   ]
  },
  {
   "cell_type": "code",
   "execution_count": null,
   "metadata": {
    "hideCode": false,
    "hidePrompt": false
   },
   "outputs": [],
   "source": [
    "from sklearn.metrics import accuracy_score\n",
    "accuracy_score(ymodel, y)"
   ]
  },
  {
   "cell_type": "markdown",
   "metadata": {
    "hideCode": false,
    "hidePrompt": false
   },
   "source": [
    "However, this does not make sense  \n",
    "since we use the training data  \n",
    "to test the accuracy???"
   ]
  },
  {
   "cell_type": "markdown",
   "metadata": {
    "hideCode": false,
    "hidePrompt": false
   },
   "source": [
    "Let's separate the given data samples  \n",
    "into **training data** and **test data**."
   ]
  },
  {
   "cell_type": "code",
   "execution_count": null,
   "metadata": {
    "hideCode": false,
    "hidePrompt": false
   },
   "outputs": [],
   "source": [
    "from sklearn.model_selection import train_test_split\n",
    "Xtrain, Xtest, ytrain, ytest = train_test_split(X, y)\n",
    "\n",
    "### see the shape of each set\n",
    "for stg in ['Xtrain', 'Xtest', 'ytrain', 'ytest']:\n",
    "    print(stg,'shape',eval(stg).shape)"
   ]
  },
  {
   "cell_type": "markdown",
   "metadata": {
    "hideCode": false,
    "hidePrompt": false
   },
   "source": [
    "Let's do it again."
   ]
  },
  {
   "cell_type": "code",
   "execution_count": null,
   "metadata": {
    "hideCode": false,
    "hidePrompt": false
   },
   "outputs": [],
   "source": [
    "model = SVC()\n",
    "model.fit(Xtrain, ytrain) ### use training data sets only\n",
    "ymodel = model.predict(Xtest) ### find the prediction of the test data\n",
    "accuracy_score(ymodel, ytest) ### compute the accuracy for test data"
   ]
  },
  {
   "cell_type": "markdown",
   "metadata": {
    "hideCode": false,
    "hidePrompt": false
   },
   "source": [
    "## Neural Network\n",
    "\n",
    "How much you know about a neural network  \n",
    "beyond this graph?\n",
    "\n",
    "![Neural network](256px-Colored_neural_network.svg.png 'Neural network')\n",
    "(Source: Wikipedia &mdash; Artificial Neural Network)  \n",
    "(Glosser.ca [CC BY-SA 3.0](https://creativecommons.org/licenses/by-sa/3.0))"
   ]
  },
  {
   "cell_type": "markdown",
   "metadata": {
    "hideCode": false,
    "hidePrompt": false
   },
   "source": [
    "Use `keras` package  \n",
    "to set up a neural network of the shape  \n",
    "4, 30, 10, and 3.  \n",
    "\n",
    "As you can see, there are lots of arguments  \n",
    "that you have to set up."
   ]
  },
  {
   "cell_type": "markdown",
   "metadata": {},
   "source": [
    "- [Keras Documentation &mdash; Activations](https://keras.io/api/layers/activations/)\n",
    "- [Keras Documentation &mdash; Optimizer](https://keras.io/api/optimizers/)\n",
    "- [Keras Documentation &mdash; Losses](https://keras.io/api/losses/)\n",
    "- [Keras Documentation &mdash; Metrics](https://keras.io/api/metrics/)"
   ]
  },
  {
   "cell_type": "code",
   "execution_count": null,
   "metadata": {
    "hideCode": false,
    "hidePrompt": false
   },
   "outputs": [],
   "source": [
    "from tensorflow import keras\n",
    "from tensorflow.keras import layers\n",
    "\n",
    "model = keras.Sequential()\n",
    "model.add(keras.Input(shape=(4,)))\n",
    "model.add(layers.Dense(30, activation=\"tanh\"))\n",
    "model.add(layers.Dense(10, activation=\"tanh\"))\n",
    "model.add(layers.Dense(3, activation='softmax'))\n",
    "model.compile(optimizer='sgd', loss='categorical_crossentropy', metrics=['accuracy'])"
   ]
  },
  {
   "cell_type": "markdown",
   "metadata": {
    "hideCode": false,
    "hidePrompt": false
   },
   "source": [
    "You get an error when  \n",
    "you make the model to fit the training data."
   ]
  },
  {
   "cell_type": "code",
   "execution_count": null,
   "metadata": {
    "hideCode": false,
    "hidePrompt": false
   },
   "outputs": [],
   "source": [
    "model.fit(Xtrain, ytrain)"
   ]
  },
  {
   "cell_type": "markdown",
   "metadata": {
    "hideCode": false,
    "hidePrompt": false
   },
   "source": [
    "By default, the `sklearn` package  \n",
    "wants the targets to be an integer.  \n",
    "```Python\n",
    "[1,\n",
    "1,\n",
    "3,\n",
    "2]\n",
    "```\n",
    "\n",
    "However, it is common for a neural network  \n",
    "to use the one-hot encoding.\n",
    "```Python\n",
    "[[1,0,0],\n",
    " [1,0,0],\n",
    " [0,0,1],\n",
    " [0,1,0]]\n",
    "```"
   ]
  },
  {
   "cell_type": "code",
   "execution_count": null,
   "metadata": {
    "hideCode": false,
    "hidePrompt": false,
    "scrolled": true
   },
   "outputs": [],
   "source": [
    "from sklearn.preprocessing import OneHotEncoder\n",
    "enc = OneHotEncoder()\n",
    "\n",
    "### create a new training target by one-hot encoding\n",
    "ytrain_onehot = enc.fit_transform(ytrain[:,np.newaxis]).toarray()\n",
    "\n",
    "### create a new test target by one-hot encoding\n",
    "ytest_onehot = enc.fit_transform(ytest[:,np.newaxis]).toarray()"
   ]
  },
  {
   "cell_type": "code",
   "execution_count": null,
   "metadata": {},
   "outputs": [],
   "source": [
    "### current setting of keras will set up some configurations when it first sees the data\n",
    "### so the previous model was contaminated\n",
    "from tensorflow import keras\n",
    "from tensorflow.keras import layers\n",
    "\n",
    "model = keras.Sequential()\n",
    "model.add(keras.Input(shape=(4,)))\n",
    "model.add(layers.Dense(30, activation=\"tanh\"))\n",
    "model.add(layers.Dense(10, activation=\"tanh\"))\n",
    "model.add(layers.Dense(3, activation='softmax'))\n",
    "model.compile(optimizer='sgd', loss='categorical_crossentropy', metrics=['accuracy'], )"
   ]
  },
  {
   "cell_type": "code",
   "execution_count": null,
   "metadata": {
    "hideCode": false,
    "hidePrompt": false
   },
   "outputs": [],
   "source": [
    "model.fit(Xtrain, ytrain_onehot, epochs=20, validation_data=(Xtest, ytest_onehot))"
   ]
  },
  {
   "cell_type": "markdown",
   "metadata": {
    "hideCode": false,
    "hidePrompt": false
   },
   "source": [
    "By using a complicated model, e.g., a neural network,  \n",
    "it can possibly get a better result,  \n",
    "but it can also potentially gets stuck.  \n",
    "\n",
    "The strength of a neural network is its versatility.  \n",
    "It can deal with various problems,  \n",
    "but the outcomes from a neural network  \n",
    "are usually not so interpretable."
   ]
  },
  {
   "cell_type": "markdown",
   "metadata": {
    "hideCode": false,
    "hidePrompt": false
   },
   "source": [
    "`model.evaluate` by default gives you  \n",
    "the value of the loss function and  \n",
    "the accuracy."
   ]
  },
  {
   "cell_type": "code",
   "execution_count": null,
   "metadata": {
    "hideCode": false,
    "hidePrompt": false
   },
   "outputs": [],
   "source": [
    "model.evaluate(Xtest,ytest_onehot)"
   ]
  },
  {
   "cell_type": "markdown",
   "metadata": {
    "hideCode": false,
    "hidePrompt": false
   },
   "source": [
    "## Conclusion\n",
    "There are various tools available,  \n",
    "and they have different strength.  \n",
    "\n",
    "In order to make everything work well,  \n",
    "the structure of your data has to  \n",
    "meet the model's design;  \n",
    "also, selecting appropriate model arguments (aka **hyperparameters**)  \n",
    "is a key factor to reach high performance.\n",
    "\n",
    "Therefore,  \n",
    "- **understand your data structure**,  \n",
    "- **learn how to process and manipulate the data**, and  \n",
    "- **know what you are doing on each model**."
   ]
  },
  {
   "cell_type": "code",
   "execution_count": null,
   "metadata": {
    "hideCode": false,
    "hidePrompt": false
   },
   "outputs": [],
   "source": []
  }
 ],
 "metadata": {
  "hide_code_all_hidden": false,
  "kernelspec": {
   "display_name": "Python 3 (ipykernel)",
   "language": "python",
   "name": "python3"
  },
  "language_info": {
   "codemirror_mode": {
    "name": "ipython",
    "version": 3
   },
   "file_extension": ".py",
   "mimetype": "text/x-python",
   "name": "python",
   "nbconvert_exporter": "python",
   "pygments_lexer": "ipython3",
   "version": "3.10.6"
  }
 },
 "nbformat": 4,
 "nbformat_minor": 2
}
