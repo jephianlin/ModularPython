{
 "cells": [
  {
   "cell_type": "markdown",
   "metadata": {},
   "source": [
    "# A taste of feature engineering"
   ]
  },
  {
   "cell_type": "markdown",
   "metadata": {},
   "source": [
    "![Creative Commons License](https://i.creativecommons.org/l/by/4.0/88x31.png)\n",
    "This work by Jephian Lin is licensed under a [Creative Commons Attribution 4.0 International License](http://creativecommons.org/licenses/by/4.0/)."
   ]
  },
  {
   "cell_type": "code",
   "execution_count": null,
   "metadata": {},
   "outputs": [],
   "source": [
    "import numpy as np\n",
    "import pandas as pd\n",
    "import matplotlib.pyplot as plt"
   ]
  },
  {
   "cell_type": "markdown",
   "metadata": {},
   "source": [
    "## Linear regression\n",
    "Linear regression aims to find  \n",
    "a best-fitting line (or curve)"
   ]
  },
  {
   "cell_type": "code",
   "execution_count": null,
   "metadata": {},
   "outputs": [],
   "source": [
    "def noise(*shape, amp=1):\n",
    "    return amp * np.random.randn(*shape)"
   ]
  },
  {
   "cell_type": "code",
   "execution_count": null,
   "metadata": {},
   "outputs": [],
   "source": [
    "### make some sample data\n",
    "x = np.linspace(0,10,20)\n",
    "X = x[:, np.newaxis]\n",
    "y = 3 + 0.3*x + noise(20, amp=0.2)\n",
    "plt.axis('equal')\n",
    "plt.scatter(x,y)"
   ]
  },
  {
   "cell_type": "code",
   "execution_count": null,
   "metadata": {},
   "outputs": [],
   "source": [
    "from sklearn.linear_model import LinearRegression\n",
    "model = LinearRegression()\n",
    "model.fit(X, y)\n",
    "y_model = model.predict(X)"
   ]
  },
  {
   "cell_type": "code",
   "execution_count": null,
   "metadata": {},
   "outputs": [],
   "source": [
    "plt.axis('equal')\n",
    "plt.scatter(x, y)\n",
    "plt.plot(x, y_model, c='red')"
   ]
  },
  {
   "cell_type": "code",
   "execution_count": null,
   "metadata": {},
   "outputs": [],
   "source": [
    "model.intercept_"
   ]
  },
  {
   "cell_type": "code",
   "execution_count": null,
   "metadata": {},
   "outputs": [],
   "source": [
    "model.coef_"
   ]
  },
  {
   "cell_type": "markdown",
   "metadata": {},
   "source": [
    "A basic model of linear regression  \n",
    "is to find `a` and `b`  \n",
    "such that `a + b*x` is very close to `y`"
   ]
  },
  {
   "cell_type": "code",
   "execution_count": null,
   "metadata": {},
   "outputs": [],
   "source": [
    "a, b = model.intercept_, model.coef_[0]\n",
    "df = pd.DataFrame({'1': np.ones_like(x), \n",
    "                   'x': x, \n",
    "                   'a+bx': a + b*x, \n",
    "                   'y_model': y_model, \n",
    "                   'y': y\n",
    "                  })\n",
    "df.head()"
   ]
  },
  {
   "cell_type": "markdown",
   "metadata": {},
   "source": [
    "It aims to minimize the `error`,  \n",
    "where `error = sum of (y[i] - y_model[i])**2`"
   ]
  },
  {
   "cell_type": "code",
   "execution_count": null,
   "metadata": {},
   "outputs": [],
   "source": [
    "error = ((y - y_model)**2).sum()\n",
    "error"
   ]
  },
  {
   "cell_type": "markdown",
   "metadata": {},
   "source": [
    "If `fit_intercept=False`  \n",
    "then the column `1` will be omitted  \n",
    "and the algorithm uses `bx` to fit `y`"
   ]
  },
  {
   "cell_type": "code",
   "execution_count": null,
   "metadata": {},
   "outputs": [],
   "source": [
    "from sklearn.linear_model import LinearRegression\n",
    "model = LinearRegression(fit_intercept=False)\n",
    "model.fit(X, y)\n",
    "y_model = model.predict(X)"
   ]
  },
  {
   "cell_type": "markdown",
   "metadata": {},
   "source": [
    "The outcome becomes less desired"
   ]
  },
  {
   "cell_type": "code",
   "execution_count": null,
   "metadata": {},
   "outputs": [],
   "source": [
    "plt.axis('equal')\n",
    "plt.scatter(x, y)\n",
    "plt.plot(x, y_model, c='red')"
   ]
  },
  {
   "cell_type": "code",
   "execution_count": null,
   "metadata": {},
   "outputs": [],
   "source": [
    "b = model.coef_[0]\n",
    "df = pd.DataFrame({'1': np.ones_like(x), \n",
    "                   'x': x, \n",
    "                   'bx': b*x, \n",
    "                   'y_model': y_model, \n",
    "                   'y': y\n",
    "                  })\n",
    "df.head()"
   ]
  },
  {
   "cell_type": "markdown",
   "metadata": {},
   "source": [
    "Adding new features (columns)  \n",
    "increase the flexibility of a model|"
   ]
  },
  {
   "cell_type": "markdown",
   "metadata": {},
   "source": [
    "## Adding features\n",
    "one may add `1` or `x**2`  \n",
    "to the features  \n",
    "or even `1/x` or `np.exp(x)`"
   ]
  },
  {
   "cell_type": "code",
   "execution_count": null,
   "metadata": {},
   "outputs": [],
   "source": [
    "### make some sample data\n",
    "x = np.linspace(0,10,20)\n",
    "X = x[:, np.newaxis]\n",
    "y = 3 - 0.5*x + 0.1*x**2 + noise(20, amp=0.2)\n",
    "plt.axis('equal')\n",
    "plt.scatter(x,y)"
   ]
  },
  {
   "cell_type": "code",
   "execution_count": null,
   "metadata": {},
   "outputs": [],
   "source": [
    "from sklearn.linear_model import LinearRegression\n",
    "model = LinearRegression()\n",
    "model.fit(X, y)\n",
    "y_model = model.predict(X)\n",
    "\n",
    "plt.axis('equal')\n",
    "plt.scatter(x, y)\n",
    "plt.plot(x, y_model, c='red')"
   ]
  },
  {
   "cell_type": "code",
   "execution_count": null,
   "metadata": {},
   "outputs": [],
   "source": [
    "df = pd.DataFrame({\n",
    "        '1': np.ones_like(x), \n",
    "        'x': x, \n",
    "        'x**2': x**2\n",
    "    })\n",
    "df.head()"
   ]
  },
  {
   "cell_type": "code",
   "execution_count": null,
   "metadata": {},
   "outputs": [],
   "source": [
    "from sklearn.linear_model import LinearRegression\n",
    "X = df.values ### use the features in df to train\n",
    "model = LinearRegression(fit_intercept=False)\n",
    "model.fit(X, y)\n",
    "y_model = model.predict(X)"
   ]
  },
  {
   "cell_type": "code",
   "execution_count": null,
   "metadata": {},
   "outputs": [],
   "source": [
    "plt.axis('equal')\n",
    "plt.scatter(x, y)\n",
    "plt.plot(x, y_model, c='red')"
   ]
  },
  {
   "cell_type": "code",
   "execution_count": null,
   "metadata": {},
   "outputs": [],
   "source": [
    "a,b,c = model.coef_\n",
    "df = pd.DataFrame({\n",
    "        '1': np.ones_like(x), \n",
    "        'x': x, \n",
    "        'x**2': x**2, \n",
    "        'a+bx+cx**2': a + b*x + c*x**2, \n",
    "        'y_model': y_model, \n",
    "        'y': y\n",
    "    })\n",
    "df.head()"
   ]
  },
  {
   "cell_type": "markdown",
   "metadata": {},
   "source": [
    "$a+bx+cx^2$ is not linear in terms of $x$  \n",
    "but it is linear in terms of $1$, $x$, and $x^2$"
   ]
  },
  {
   "cell_type": "code",
   "execution_count": null,
   "metadata": {},
   "outputs": [],
   "source": [
    "### make some sample data\n",
    "x = np.linspace(0,10,20)\n",
    "X = x[:, np.newaxis]\n",
    "y = 3 - 0.5*x + 0.1*np.exp(x) + noise(20, amp=0.2)\n",
    "plt.scatter(x,y)"
   ]
  },
  {
   "cell_type": "code",
   "execution_count": null,
   "metadata": {},
   "outputs": [],
   "source": [
    "df = pd.DataFrame({\n",
    "        '1': np.ones_like(x), \n",
    "        'x': x, \n",
    "        'exp(x)': np.exp(x)\n",
    "    })\n",
    "df.head()"
   ]
  },
  {
   "cell_type": "code",
   "execution_count": null,
   "metadata": {},
   "outputs": [],
   "source": [
    "from sklearn.linear_model import LinearRegression\n",
    "X = df.values ### use the features in df to train\n",
    "model = LinearRegression(fit_intercept=False)\n",
    "model.fit(X, y)\n",
    "y_model = model.predict(X)"
   ]
  },
  {
   "cell_type": "code",
   "execution_count": null,
   "metadata": {},
   "outputs": [],
   "source": [
    "plt.scatter(x, y)\n",
    "plt.plot(x, y_model, c='red')"
   ]
  },
  {
   "cell_type": "code",
   "execution_count": null,
   "metadata": {},
   "outputs": [],
   "source": [
    "a,b,c = model.coef_\n",
    "df = pd.DataFrame({\n",
    "        '1': np.ones_like(x), \n",
    "        'x': x, \n",
    "        'exp(x)': np.exp(x), \n",
    "        'a+bx+c exp(x)': a + b*x + c*np.exp(x), \n",
    "        'y_model': y_model, \n",
    "        'y': y\n",
    "    })\n",
    "df.head()"
   ]
  },
  {
   "cell_type": "markdown",
   "metadata": {},
   "source": [
    "## Categorial data\n",
    "Categorial data uses numbers to   \n",
    "represent each category  \n",
    "but it does not adopt the order of numbers"
   ]
  },
  {
   "cell_type": "markdown",
   "metadata": {},
   "source": [
    "say `1` means brand A  \n",
    "`2` stands for brand B and  \n",
    "`3` stands for brand C"
   ]
  },
  {
   "cell_type": "code",
   "execution_count": null,
   "metadata": {},
   "outputs": [],
   "source": [
    "### make sample data\n",
    "x = np.array([1]*10 + [2]*10 + [3]*10)\n",
    "x"
   ]
  },
  {
   "cell_type": "code",
   "execution_count": null,
   "metadata": {},
   "outputs": [],
   "source": [
    "y = np.concatenate([170 + noise(10), \n",
    "                    190 + noise(10), \n",
    "                    180 + noise(10)\n",
    "                   ])\n",
    "y"
   ]
  },
  {
   "cell_type": "code",
   "execution_count": null,
   "metadata": {},
   "outputs": [],
   "source": [
    "plt.scatter(x, y)"
   ]
  },
  {
   "cell_type": "code",
   "execution_count": null,
   "metadata": {},
   "outputs": [],
   "source": [
    "from sklearn.linear_model import LinearRegression\n",
    "X = x[:, np.newaxis]\n",
    "model = LinearRegression()\n",
    "model.fit(X, y)\n",
    "y_model = model.predict(X)\n",
    "\n",
    "plt.scatter(x, y)\n",
    "plt.scatter(x, y_model, c='red')"
   ]
  },
  {
   "cell_type": "markdown",
   "metadata": {},
   "source": [
    "One may replace the categorial data  \n",
    "by its **one-hot encoding**"
   ]
  },
  {
   "cell_type": "code",
   "execution_count": null,
   "metadata": {
    "scrolled": true
   },
   "outputs": [],
   "source": [
    "df = pd.get_dummies(x)\n",
    "df"
   ]
  },
  {
   "cell_type": "code",
   "execution_count": null,
   "metadata": {},
   "outputs": [],
   "source": [
    "from sklearn.linear_model import LinearRegression\n",
    "X = df.values ### use the features in df to train\n",
    "model = LinearRegression(fit_intercept=False)\n",
    "model.fit(X, y)\n",
    "y_model = model.predict(X)\n",
    "\n",
    "plt.scatter(x, y)\n",
    "plt.scatter(x, y_model, c='red')"
   ]
  },
  {
   "cell_type": "code",
   "execution_count": null,
   "metadata": {},
   "outputs": [],
   "source": [
    "a,b,c = model.coef_\n",
    "df = pd.get_dummies(x)\n",
    "df['ax1+bx2+cx3'] = a*df[1] + b*df[2] + c*df[3]\n",
    "df['y_model'] = y_model\n",
    "df['y'] = y\n",
    "df.iloc[[0,10,20],:]"
   ]
  },
  {
   "cell_type": "markdown",
   "metadata": {},
   "source": [
    "In this case  \n",
    "`model.coef_` are exactly  \n",
    "the prediction of the prices  \n",
    "of each brand"
   ]
  },
  {
   "cell_type": "code",
   "execution_count": null,
   "metadata": {},
   "outputs": [],
   "source": [
    "model.coef_"
   ]
  },
  {
   "cell_type": "code",
   "execution_count": null,
   "metadata": {},
   "outputs": [],
   "source": []
  }
 ],
 "metadata": {
  "kernelspec": {
   "display_name": "Python 3 (ipykernel)",
   "language": "python",
   "name": "python3"
  },
  "language_info": {
   "codemirror_mode": {
    "name": "ipython",
    "version": 3
   },
   "file_extension": ".py",
   "mimetype": "text/x-python",
   "name": "python",
   "nbconvert_exporter": "python",
   "pygments_lexer": "ipython3",
   "version": "3.10.6"
  }
 },
 "nbformat": 4,
 "nbformat_minor": 2
}
