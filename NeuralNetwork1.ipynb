{
 "cells": [
  {
   "cell_type": "markdown",
   "metadata": {},
   "source": [
    "# Neural Network 1"
   ]
  },
  {
   "cell_type": "markdown",
   "metadata": {},
   "source": [
    "Many concepts are from the book \n",
    "> [Neural Networks and Deep Learning](http://neuralnetworksanddeeplearning.com/) by Michael Nielsen"
   ]
  },
  {
   "cell_type": "markdown",
   "metadata": {},
   "source": [
    "A **neural network** is a machine with lots of parameters  \n",
    "so that when one input a sample (e.g., a picture)  \n",
    "the machine will output **an** answer (e.g., dog or cat)."
   ]
  },
  {
   "cell_type": "markdown",
   "metadata": {},
   "source": [
    "For many cases,  \n",
    "humans are able to make a good program to reach the goal.  \n",
    "(e.g., input a number and output whether the number is even or odd.)"
   ]
  },
  {
   "cell_type": "markdown",
   "metadata": {},
   "source": [
    "In many real-life problem,  \n",
    "such a good program might not easy to implement,  \n",
    "so we ask the machine to tune the parameters **strategically**.\n",
    "\n",
    "One of the strategy is the **gradient descent method**."
   ]
  },
  {
   "cell_type": "markdown",
   "metadata": {},
   "source": [
    "**Run the next cell first to get required packages**"
   ]
  },
  {
   "cell_type": "code",
   "execution_count": 81,
   "metadata": {},
   "outputs": [],
   "source": [
    "import numpy as np\n",
    "import matplotlib.pyplot as plt"
   ]
  },
  {
   "cell_type": "markdown",
   "metadata": {},
   "source": [
    "## Gradient descent method"
   ]
  },
  {
   "cell_type": "markdown",
   "metadata": {},
   "source": [
    "[**Gradient descent**](https://en.wikipedia.org/wiki/Gradient_descent) is an algorithm  \n",
    "to find a local minimum.\n",
    "\n",
    "![gradient descent from wiki](https://upload.wikimedia.org/wikipedia/commons/7/79/Gradient_descent.png \"gradient descent\")\n",
    "(Illustration of gradient descent on a series of level sets.  \n",
    "Source:  [Wikipedia:  Gradient descent](https://en.wikipedia.org/wiki/Gradient_descent))\n",
    "\n",
    "The key idea is that  \n",
    "the gradient points at the direction that locally **increases** the function value,  \n",
    "so going to the reversed direction will decrease the function value."
   ]
  },
  {
   "cell_type": "markdown",
   "metadata": {},
   "source": [
    "Let $f:\\mathbb{R}^d\\rightarrow\\mathbb{R}$ is a differentiable real-value function.  \n",
    "\n",
    "#### Algorithm (with learning rate $\\alpha$)\n",
    "1. Start with a random point $x$.\n",
    "2. Compute the gradient $v=\\nabla f(x)$\n",
    "3. Update $x$ as $x-\\alpha v$."
   ]
  },
  {
   "cell_type": "code",
   "execution_count": 11,
   "metadata": {},
   "outputs": [],
   "source": [
    "def gradient_descent(f, gradf, dim, x=None, steps=10, alpha=1):\n",
    "    if x==None:\n",
    "        x = np.random.randn(dim)\n",
    "        ### x is a list (row vector)\n",
    "    record = [x.copy()]\n",
    "    for _ in range(1,steps):\n",
    "        x = x - alpha * gradf(x)\n",
    "        record.append(x.copy())\n",
    "    return record"
   ]
  },
  {
   "cell_type": "markdown",
   "metadata": {},
   "source": [
    "#### Example\n",
    "Pick $f(x)=x^2$ and $\\nabla f(x)=2x$.  \n",
    "The gradient descent method should reach $x=0$ gradually.\n",
    "\n",
    "Try it with `alpha = 1, 0.5, 0.1` to see the difference."
   ]
  },
  {
   "cell_type": "code",
   "execution_count": 23,
   "metadata": {},
   "outputs": [
    {
     "data": {
      "text/plain": [
       "[array([-0.5260864]),\n",
       " array([-0.42086912]),\n",
       " array([-0.3366953]),\n",
       " array([-0.26935624]),\n",
       " array([-0.21548499]),\n",
       " array([-0.17238799]),\n",
       " array([-0.13791039]),\n",
       " array([-0.11032831]),\n",
       " array([-0.08826265]),\n",
       " array([-0.07061012])]"
      ]
     },
     "execution_count": 23,
     "metadata": {},
     "output_type": "execute_result"
    }
   ],
   "source": [
    "### note that x is a one-dimensional array of length 1\n",
    "f = lambda x: x[0]**2\n",
    "gradf = lambda x: 2*x[0]\n",
    "\n",
    "gradient_descent(f, gradf, dim=1, alpha=0.1)"
   ]
  },
  {
   "cell_type": "markdown",
   "metadata": {},
   "source": [
    "#### Example\n",
    "Pick $f(x,y)=x^2+y^2$ and $\\nabla f(x,y)=\\begin{bmatrix}2x\\\\2y\\end{bmatrix}$.  \n",
    "The gradient descent method should reach $(x,y)=(0,0)$ gradually.\n",
    "\n",
    "Try it with `alpha = 1, 0.5, 0.1` to see the difference."
   ]
  },
  {
   "cell_type": "code",
   "execution_count": 29,
   "metadata": {},
   "outputs": [
    {
     "data": {
      "text/plain": [
       "[array([ 1.64804953,  0.04191363]),\n",
       " array([ 1.31843963,  0.0335309 ]),\n",
       " array([ 1.0547517 ,  0.02682472]),\n",
       " array([ 0.84380136,  0.02145978]),\n",
       " array([ 0.67504109,  0.01716782]),\n",
       " array([ 0.54003287,  0.01373426]),\n",
       " array([ 0.4320263 ,  0.01098741]),\n",
       " array([ 0.34562104,  0.00878992]),\n",
       " array([ 0.27649683,  0.00703194]),\n",
       " array([ 0.22119746,  0.00562555])]"
      ]
     },
     "execution_count": 29,
     "metadata": {},
     "output_type": "execute_result"
    }
   ],
   "source": [
    "### note that x is a one-dimensional array of length 2\n",
    "f = lambda x: x[0]**2 + x[1]**2\n",
    "gradf = lambda x: np.array([2*x[0], 2*x[1]])\n",
    "\n",
    "gradient_descent(f, gradf, dim=2, alpha=0.1)"
   ]
  },
  {
   "cell_type": "markdown",
   "metadata": {},
   "source": [
    "## Artificial neuron\n",
    "An [artificial neuron](https://en.wikipedia.org/wiki/Artificial_neuron) mimicks what happened for a biological neuron:  \n",
    "> a neuron takes several **inputs** and combines them under certain **weights**  \n",
    "> if the total is more than a **threshold**, then the neuron becomes **activated**.\n",
    "\n",
    "![neuron](https://upload.wikimedia.org/wikipedia/commons/b/b0/Artificial_neuron.png \"neuron\")\n",
    "(An illustration of an artificial neuron  \n",
    "Source:  [Wikipedia:  Artificial neuron](https://en.wikipedia.org/wiki/Artificial_neuron))"
   ]
  },
  {
   "cell_type": "markdown",
   "metadata": {},
   "source": [
    "**input**:  a vector $a^0$ in $\\mathbb{R}^{d}$ ($x_1,\\ldots,x_m$ in the picture)  \n",
    "**weight**:  a $1\\times d$ matrix $W=\\begin{bmatrix}w_{0} & \\cdots & w_{d-1}\\end{bmatrix}$  \n",
    "**threshold**:  a vector $b$ in $\\mathbb{R}^1$  \n",
    "**activation function**: the sigmoid function $\\sigma(x)=\\frac{1}{1+e^{-x}}$ ($\\varphi$ in the picture)  "
   ]
  },
  {
   "cell_type": "code",
   "execution_count": 50,
   "metadata": {},
   "outputs": [],
   "source": [
    "def sigmoid(x):\n",
    "    return 1/(1+np.exp(-x))"
   ]
  },
  {
   "cell_type": "code",
   "execution_count": 51,
   "metadata": {},
   "outputs": [
    {
     "data": {
      "text/plain": [
       "[<matplotlib.lines.Line2D at 0x7fe71a4c1710>]"
      ]
     },
     "execution_count": 51,
     "metadata": {},
     "output_type": "execute_result"
    },
    {
     "data": {
      "image/png": "[encoded data removed]",
      "text/plain": [
       "<matplotlib.figure.Figure at 0x7fe71a519ef0>"
      ]
     },
     "metadata": {
      "image/png": {
       "height": 250,
       "width": 373
      }
     },
     "output_type": "display_data"
    }
   ],
   "source": [
    "a = np.linspace(-10,10,21)\n",
    "y = sigmoid(a)\n",
    "plt.plot(a,y)"
   ]
  },
  {
   "cell_type": "markdown",
   "metadata": {},
   "source": [
    "**output** $a^1$:\n",
    "> $z^1 = W a^0 + b$ &nbsp;&nbsp;&nbsp;&nbsp;(F1)  \n",
    "> $a^1 = \\sigma(z^1)$ &nbsp;&nbsp;&nbsp;&nbsp;(F2)\n",
    "\n",
    "(This process is called **feed forward**.)\n",
    "\n",
    "Thus, $a^1$ is between $0$ and $1$.  \n",
    "For example, one may say the answer is yes if $a^1\\geq 0.5$  \n",
    "and no if $a^1<0.5$."
   ]
  },
  {
   "cell_type": "code",
   "execution_count": 114,
   "metadata": {},
   "outputs": [],
   "source": [
    "def feedforward(a0, W, b):\n",
    "    z1 = W @ a0 + b\n",
    "    a1 = sigmoid(z1)\n",
    "    return a1, z1"
   ]
  },
  {
   "cell_type": "markdown",
   "metadata": {},
   "source": [
    "#### Example\n",
    "Take $W=\\begin{bmatrix}1&1\\end{bmatrix}$ and $b=\\begin{bmatrix}5\\end{bmatrix}$.  \n",
    "Then $a^1\\geq 0.5$ if and only if $x+y\\geq -5$,  \n",
    "where the input is $a^0=\\begin{bmatrix}x\\\\y\\end{bmatrix}$.\n",
    "\n",
    "Try $(x,y)=(0,0),(-5,0),(-5,-5),(0,-5)$."
   ]
  },
  {
   "cell_type": "code",
   "execution_count": 115,
   "metadata": {},
   "outputs": [
    {
     "data": {
      "text/plain": [
       "(array([[ 0.99330715]]), array([[5]]))"
      ]
     },
     "execution_count": 115,
     "metadata": {},
     "output_type": "execute_result"
    }
   ],
   "source": [
    "x,y = 0,0\n",
    "\n",
    "W = np.array([1,1]).reshape(1,2)\n",
    "b = np.array([5]).reshape(1,1)\n",
    "a0 = np.array([x,y]).reshape(2,1)\n",
    "\n",
    "feedforward(a0, W, b)"
   ]
  },
  {
   "cell_type": "markdown",
   "metadata": {},
   "source": [
    "#### Example\n",
    "Let $a^0$ be the vector of pixels of a picture.  \n",
    "Can you find $W$ and $b$ so that  \n",
    "$a^1\\geq 0.5$ if the picture is a dog, and   \n",
    "$a^1< 0.5$ if the picture is a cat?"
   ]
  },
  {
   "cell_type": "markdown",
   "metadata": {},
   "source": [
    "#### Question\n",
    "How to find appropriate $W$ and $b$?"
   ]
  },
  {
   "cell_type": "markdown",
   "metadata": {},
   "source": [
    "Suppose we have a data set  \n",
    "> (x1,y1), ... , (xN,yN),\n",
    "\n",
    "where $x$'s are the input and $y$'s are the answers (labels)."
   ]
  },
  {
   "cell_type": "markdown",
   "metadata": {},
   "source": [
    "The goal is to find $W$ and $b$ so that $a^1(x_i)\\sim y_i$ for each $i$."
   ]
  },
  {
   "cell_type": "markdown",
   "metadata": {},
   "source": [
    "### Cost function"
   ]
  },
  {
   "cell_type": "markdown",
   "metadata": {},
   "source": [
    "A **cost function** measures the correctness of $W$ and $b$.  \n",
    "\n",
    "A common cost function is the $\\ell_2$ norm:\n",
    "> $C(W,b) = \\frac{1}{N}\\cdot \\sum_{i} \\frac{1}{2}\\|a^1(x_i)-y_i\\|^2$"
   ]
  },
  {
   "cell_type": "markdown",
   "metadata": {},
   "source": [
    "When $C(W,b)$ is very small,  \n",
    "it means $a^1(x_i)\\sim y_i$ for each $i$."
   ]
  },
  {
   "cell_type": "code",
   "execution_count": 116,
   "metadata": {},
   "outputs": [],
   "source": [
    "def cost(data, W, b):\n",
    "    N = len(data)\n",
    "    total_cost = 0\n",
    "    for x,y in data:\n",
    "        total_cost += 0.5 * np.sum((feedforward(x, W, b)[0] - y)**2)\n",
    "    return total_cost/N"
   ]
  },
  {
   "cell_type": "markdown",
   "metadata": {},
   "source": [
    "#### Example\n",
    "Let $x_1=\\begin{bmatrix}1\\\\1\\end{bmatrix}$ and $y_1=\\begin{bmatrix}1\\end{bmatrix}$.  \n",
    "Let $x_2=\\begin{bmatrix}-1\\\\-1\\end{bmatrix}$ and $y_1=\\begin{bmatrix}0\\end{bmatrix}$.\n",
    "\n",
    "When $W=\\begin{bmatrix}1&1\\end{bmatrix}$ and $b=\\begin{bmatrix}0\\end{bmatrix}$.  \n",
    "\n",
    "The cost is \n",
    "> $\\frac{1}{2}\\left(0.5\\|a^1(x_1)-y_1\\|^2 + 0.5\\|a^1(x_2)-y_2\\|^2\\right)$.\n",
    "\n",
    "If you change $W$ to $\\begin{bmatrix}-1\\\\-1\\end{bmatrix}$, the cost will increase."
   ]
  },
  {
   "cell_type": "code",
   "execution_count": 118,
   "metadata": {},
   "outputs": [
    {
     "data": {
      "text/plain": [
       "0.0071046683093055271"
      ]
     },
     "execution_count": 118,
     "metadata": {},
     "output_type": "execute_result"
    }
   ],
   "source": [
    "x1 = np.array([1,1]).reshape(2,1)\n",
    "y1 = np.array([1]).reshape(1,1)\n",
    "\n",
    "x2 = np.array([-1,-1]).reshape(2,1)\n",
    "y2 = np.array([0]).reshape(1,1)\n",
    "\n",
    "data = [(x1,y1), (x2,y2)]\n",
    "\n",
    "W = np.array([1,1]).reshape(1,2)\n",
    "b = np.array([0]).reshape(1,1)\n",
    "\n",
    "cost(data, W, b)"
   ]
  },
  {
   "cell_type": "markdown",
   "metadata": {},
   "source": [
    "How to minimize the cost function?  \n",
    "> _gradient descent!!_"
   ]
  },
  {
   "cell_type": "markdown",
   "metadata": {},
   "source": [
    "Note: The data are used to create the cost function  \n",
    "**whose variables are $W$ and $b$.**"
   ]
  },
  {
   "cell_type": "markdown",
   "metadata": {},
   "source": [
    "#### Algorithm (with learning rate $\\alpha$)\n",
    "1. Start with a random point $(W,b)$.\n",
    "2. Compute the gradients $\\nabla_W C(W,b)$ and $\\nabla_b C(W,b)$ by (BP1)--(BP4) below.\n",
    "3. Update $W$ as $W-\\alpha \\nabla_W C(W,b)$ and update $b$ as $b-\\alpha \\nabla_b C(W,b)$."
   ]
  },
  {
   "cell_type": "markdown",
   "metadata": {},
   "source": [
    "#### The equations of backpropagation (simplified)\n",
    "> $\\delta^1 = \\nabla_{a^1}C \\odot \\sigma'(z^1)$ &nbsp;&nbsp;&nbsp;&nbsp;(BP1)  \n",
    "> $\\delta^0 = W^\\top\\delta^1 \\odot \\sigma'(z^0)$ &nbsp;&nbsp;&nbsp;&nbsp;(BP2)  \n",
    "> $\\nabla_b C = \\delta^1$ &nbsp;&nbsp;&nbsp;&nbsp;(BP3)  \n",
    "> $\\nabla_W C = \\delta^1 (a^0)^\\top$ &nbsp;&nbsp;&nbsp;&nbsp;(BP4)  \n",
    "\n",
    "Here we let $\\delta^\\ell=\\nabla_{z^\\ell}C$.  \n",
    "Also, $\\odot$ means the entrywise product (default product in NumPy).  "
   ]
  },
  {
   "cell_type": "markdown",
   "metadata": {},
   "source": [
    "#### Example\n",
    "A dataset with 50 yellow dots and 50 purple dots.  \n",
    "Yellow dots are labeled by $\\begin{bmatrix}1\\end{bmatrix}$, and  \n",
    "purple dots are labeled by $\\begin{bmatrix}0\\end{bmatrix}$."
   ]
  },
  {
   "cell_type": "code",
   "execution_count": 154,
   "metadata": {
    "scrolled": false
   },
   "outputs": [
    {
     "data": {
      "text/plain": [
       "<matplotlib.collections.PathCollection at 0x7fe713c21470>"
      ]
     },
     "execution_count": 154,
     "metadata": {},
     "output_type": "execute_result"
    },
    {
     "data": {
      "image/png": "[encoded data removed]",
      "text/plain": [
       "<matplotlib.figure.Figure at 0x7fe713d296a0>"
      ]
     },
     "metadata": {
      "image/png": {
       "height": 252,
       "width": 372
      }
     },
     "output_type": "display_data"
    }
   ],
   "source": [
    "data = [(np.random.randn(2,1)+3,np.ones((1,1))) for _ in range(50)] + [(np.random.randn(2,1)-3,np.zeros((1,1))) for _ in range(50)]\n",
    "\n",
    "x = [p[0][0][0] for p in data]\n",
    "y = [p[0][1][0] for p in data]\n",
    "c = [p[1][0][0] for p in data]\n",
    "plt.scatter(x,y,c=c,cmap='viridis')"
   ]
  },
  {
   "cell_type": "code",
   "execution_count": 119,
   "metadata": {},
   "outputs": [],
   "source": [
    "def gradaLC(aL, y):\n",
    "    \"\"\"\n",
    "    Find nabla_aL C\n",
    "    1/2 * 2 (aL - y)\n",
    "    \"\"\"\n",
    "    return aL - y\n",
    "\n",
    "def sigmoid_derivative(x):\n",
    "    return 1 / (1 + np.exp(x)) / (1 + np.exp(-x))"
   ]
  },
  {
   "cell_type": "markdown",
   "metadata": {},
   "source": [
    "#### The equations of backpropagation (simplified)\n",
    "> $\\delta^1 = \\nabla_{a^1}C \\odot \\sigma'(z^1)$ &nbsp;&nbsp;&nbsp;&nbsp;(BP1)  \n",
    "> $\\delta^0 = W^\\top\\delta^1 \\odot \\sigma'(z^0)$ &nbsp;&nbsp;&nbsp;&nbsp;(BP2)  \n",
    "> $\\nabla_b C = \\delta^1$ &nbsp;&nbsp;&nbsp;&nbsp;(BP3)  \n",
    "> $\\nabla_W C = \\delta^1 (a^0)^\\top$ &nbsp;&nbsp;&nbsp;&nbsp;(BP4)  \n",
    "\n",
    "Examing the equations again.  \n",
    "(BP1) is used to find $\\delta^1$.  \n",
    "(BP2) is not used for computing $\\nabla_bC$ and $\\nabla_WC$ here.  \n",
    "(We will use it for a general neural network.)  \n",
    "With $\\delta^1$, we may find the gradients by (BP3) and (BP4)."
   ]
  },
  {
   "cell_type": "code",
   "execution_count": 125,
   "metadata": {},
   "outputs": [],
   "source": [
    "def backprop(x, y, W, b):\n",
    "    \"\"\"\n",
    "    Find nabla_W C and nabla_b C\n",
    "    \"\"\"\n",
    "    a0 = x.copy()\n",
    "    a1, z1 = feedforward(a0, W, b);\n",
    "    delta1 = gradaLC(a1, y) * sigmoid_derivative(z1) ### (BP1)\n",
    "    nabla_b = delta1.copy()\n",
    "    nabla_W = delta1 * a0.T \n",
    "    return nabla_W, nabla_b "
   ]
  },
  {
   "cell_type": "code",
   "execution_count": 155,
   "metadata": {
    "scrolled": true
   },
   "outputs": [
    {
     "data": {
      "text/plain": [
       "(array([[-0.52612692, -0.23835625]]), array([[-0.125]]))"
      ]
     },
     "execution_count": 155,
     "metadata": {},
     "output_type": "execute_result"
    }
   ],
   "source": [
    "data = [(np.random.randn(2,1)+3,np.ones((1,1))) for _ in range(50)] + [(np.random.randn(2,1)-3,np.zeros((1,1))) for _ in range(50)]\n",
    "x,y = data[0]\n",
    "\n",
    "W = np.zeros((1,2))\n",
    "b = np.zeros((1,1))\n",
    "\n",
    "backprop(x, y, W, b)"
   ]
  },
  {
   "cell_type": "markdown",
   "metadata": {},
   "source": [
    "Apply gradient descent to a neuron.  "
   ]
  },
  {
   "cell_type": "code",
   "execution_count": 131,
   "metadata": {},
   "outputs": [],
   "source": [
    "def neuronGD(data, dim_W, steps=10, alpha=1, print_cost=False):\n",
    "    W = np.random.randn(1,dim_W)\n",
    "    b = np.random.randn(1,1)\n",
    "    N = len(data)\n",
    "    \n",
    "    if print_cost: \n",
    "        print(0, cost(data, W, b))\n",
    "    for _ in range(1,steps):\n",
    "        nabla_W, nabla_b = np.zeros((1,dim_W)), np.zeros((1,1))\n",
    "        for x,y in data:\n",
    "            new_W, new_b = backprop(x, y, W, b)\n",
    "            nabla_W += new_W\n",
    "            nabla_b += new_b\n",
    "        nabla_W /= N\n",
    "        nabla_b /= N\n",
    "        W -= alpha * nabla_W\n",
    "        b -= alpha * nabla_b\n",
    "        if print_cost:\n",
    "            print(_, cost(data, W, b))\n",
    "    return W, b"
   ]
  },
  {
   "cell_type": "code",
   "execution_count": 156,
   "metadata": {},
   "outputs": [
    {
     "name": "stdout",
     "output_type": "stream",
     "text": [
      "0 0.498680371098\n",
      "1 0.498675318227\n",
      "2 0.498670222733\n",
      "3 0.498665084045\n",
      "4 0.498659901582\n",
      "5 0.49865467475\n",
      "6 0.498649402947\n",
      "7 0.498644085557\n",
      "8 0.498638721953\n",
      "9 0.498633311498\n"
     ]
    },
    {
     "data": {
      "text/plain": [
       "(array([[-1.80878342, -1.66242314]]), array([[-0.7004398]]))"
      ]
     },
     "execution_count": 156,
     "metadata": {},
     "output_type": "execute_result"
    }
   ],
   "source": [
    "data = [(np.random.randn(2,1)+3,np.ones((1,1))) for _ in range(50)] + [(np.random.randn(2,1)-3,np.zeros((1,1))) for _ in range(50)]\n",
    "\n",
    "neuronGD(data, dim_W=2, print_cost=True)"
   ]
  },
  {
   "cell_type": "markdown",
   "metadata": {},
   "source": [
    "Beside the cost function,  \n",
    "let's evaluate how accurate is this neuron network."
   ]
  },
  {
   "cell_type": "code",
   "execution_count": 158,
   "metadata": {},
   "outputs": [],
   "source": [
    "def evaluate(data, W, b):\n",
    "    counter = 0\n",
    "    for x,y in data:\n",
    "        a1, z1 = feedforward(x, W, b)\n",
    "        if a1[0][0] >= 0.5 and y[0][0] == 1:\n",
    "            counter += 1\n",
    "        if a1[0][0] < 0.5 and y[0][0] == 0:\n",
    "            counter += 1\n",
    "    return counter/len(data)"
   ]
  },
  {
   "cell_type": "markdown",
   "metadata": {},
   "source": [
    "#### Example\n",
    "Test the accuracy for  \n",
    "1. $W=\\begin{bmatrix}1\\\\1\\end{bmatrix}$ and $b=\\begin{bmatrix}0\\end{bmatrix}$\n",
    "2. $W=\\begin{bmatrix}1\\\\1\\end{bmatrix}$ and $b=\\begin{bmatrix}5\\end{bmatrix}$\n",
    "3. $W=\\begin{bmatrix}-1\\\\-1\\end{bmatrix}$ and $b=\\begin{bmatrix}0\\end{bmatrix}$\n",
    "4. $W=\\begin{bmatrix}1\\\\-1\\end{bmatrix}$ and $b=\\begin{bmatrix}0\\end{bmatrix}$\n",
    "5. $W=\\begin{bmatrix}1\\\\-1\\end{bmatrix}$ and $b=\\begin{bmatrix}5\\end{bmatrix}$"
   ]
  },
  {
   "cell_type": "code",
   "execution_count": 171,
   "metadata": {},
   "outputs": [
    {
     "data": {
      "text/plain": [
       "0.48"
      ]
     },
     "execution_count": 171,
     "metadata": {},
     "output_type": "execute_result"
    }
   ],
   "source": [
    "data = [(np.random.randn(2,1)+3,np.ones((1,1))) for _ in range(50)] + [(np.random.randn(2,1)-3,np.zeros((1,1))) for _ in range(50)]\n",
    "\n",
    "### before training\n",
    "W = np.array([1,-1]).reshape(1,2)\n",
    "b = np.array([0]).reshape(1,1)\n",
    "\n",
    "evaluate(data, W, b)"
   ]
  },
  {
   "cell_type": "markdown",
   "metadata": {},
   "source": [
    "#### Example\n",
    "Now use the neuron to find appropriate $W$ and $b$.  \n",
    "Try `steps=10,100,...` and `alpha=0.1,0.3,1,...`."
   ]
  },
  {
   "cell_type": "code",
   "execution_count": 212,
   "metadata": {},
   "outputs": [
    {
     "data": {
      "text/plain": [
       "0.97"
      ]
     },
     "execution_count": 212,
     "metadata": {},
     "output_type": "execute_result"
    }
   ],
   "source": [
    "### after training\n",
    "data = [(np.random.randn(2,1)+3,np.ones((1,1))) for _ in range(50)] + [(np.random.randn(2,1)-3,np.zeros((1,1))) for _ in range(50)]\n",
    "\n",
    "new_W, new_b = neuronGD(data, dim_W=2, steps=10, alpha=0.1)\n",
    "\n",
    "evaluate(data, new_W, new_b)"
   ]
  },
  {
   "cell_type": "code",
   "execution_count": null,
   "metadata": {},
   "outputs": [],
   "source": []
  },
  {
   "cell_type": "code",
   "execution_count": null,
   "metadata": {},
   "outputs": [],
   "source": []
  },
  {
   "cell_type": "code",
   "execution_count": null,
   "metadata": {},
   "outputs": [],
   "source": []
  },
  {
   "cell_type": "markdown",
   "metadata": {},
   "source": [
    "## Artificial neuron network\n",
    "\n",
    "An [artificial neuron network](https://en.wikipedia.org/wiki/Artificial_neural_network) uses several layers of artificial neurons  \n",
    "to complete various tasks.\n",
    "\n",
    "![An artificial neural network](https://upload.wikimedia.org/wikipedia/commons/4/46/Colored_neural_network.svg \"An artificial neural network\")\n",
    "(An artificial neural network  \n",
    "Source:  [Wikipedia:  Artificial neuron network](https://en.wikipedia.org/wiki/Artificial_neural_network))"
   ]
  },
  {
   "cell_type": "markdown",
   "metadata": {},
   "source": [
    "### Feeding forward (to get prediction)\n",
    "> $z^\\ell = W^\\ell a^{\\ell-1} + b^\\ell$ &nbsp;&nbsp;&nbsp;&nbsp;(F1)  \n",
    "> $a^\\ell = \\sigma(z^\\ell)$ &nbsp;&nbsp;&nbsp;&nbsp;(F2)"
   ]
  },
  {
   "cell_type": "markdown",
   "metadata": {},
   "source": [
    "### Backward propagation (to compute the gradient)\n",
    "> $\\delta^L = \\nabla_{a^L}C \\odot \\sigma'(z^L)$ &nbsp;&nbsp;&nbsp;&nbsp;(BP1)  \n",
    "> $\\delta^\\ell = (W^{\\ell+1})^\\top\\delta^{\\ell+1} \\odot \\sigma'(z^\\ell)$ &nbsp;&nbsp;&nbsp;&nbsp;(BP2)  \n",
    "> $\\nabla_{b^\\ell} C = \\delta^\\ell$ &nbsp;&nbsp;&nbsp;&nbsp;(BP3)  \n",
    "> $\\nabla_{W^\\ell} C = \\delta^\\ell (a^{\\ell-1})^\\top$ &nbsp;&nbsp;&nbsp;&nbsp;(BP4)  "
   ]
  },
  {
   "cell_type": "markdown",
   "metadata": {},
   "source": [
    "#### Exercise\n",
    "Recall how we defined the `gradient_descent` function as below.  \n",
    "\n",
    "Let $f(x)=x^2$ and $\\nabla f(x)=2x$.  \n",
    "What happens if we set `alpha = 1`?  Why?  \n",
    "What happens if we set `alpha = 0.5`?  Why?  "
   ]
  },
  {
   "cell_type": "code",
   "execution_count": 213,
   "metadata": {},
   "outputs": [],
   "source": [
    "def gradient_descent(f, gradf, dim, x=None, steps=10, alpha=1):\n",
    "    if x==None:\n",
    "        x = np.random.randn(dim)\n",
    "        ### x is a list (row vector)\n",
    "    record = [x.copy()]\n",
    "    for _ in range(1,steps):\n",
    "        x = x - alpha * gradf(x)\n",
    "        record.append(x.copy())\n",
    "    return record"
   ]
  },
  {
   "cell_type": "code",
   "execution_count": 216,
   "metadata": {},
   "outputs": [
    {
     "data": {
      "text/plain": [
       "[array([ 0.06740696]),\n",
       " array([-0.06740696]),\n",
       " array([ 0.06740696]),\n",
       " array([-0.06740696]),\n",
       " array([ 0.06740696]),\n",
       " array([-0.06740696]),\n",
       " array([ 0.06740696]),\n",
       " array([-0.06740696]),\n",
       " array([ 0.06740696]),\n",
       " array([-0.06740696])]"
      ]
     },
     "execution_count": 216,
     "metadata": {},
     "output_type": "execute_result"
    }
   ],
   "source": [
    "### note that x is a one-dimensional array of length 1\n",
    "f = lambda x: x[0]**2\n",
    "gradf = lambda x: 2*x[0]\n",
    "\n",
    "gradient_descent(f, gradf, dim=1, alpha=1)"
   ]
  },
  {
   "cell_type": "markdown",
   "metadata": {},
   "source": [
    "#### Exercise \n",
    "Let $f(x,y)=\\cos(x)+y^2$.  \n",
    "\n",
    "What is the limit when we apply the gradient descent method?  Why?  \n",
    "(Note that we randomly initiate $(x,y)$ around $(0,0)$."
   ]
  },
  {
   "cell_type": "code",
   "execution_count": 240,
   "metadata": {},
   "outputs": [
    {
     "data": {
      "text/plain": [
       "[array([  3.11464491e+00,   7.93560113e-10]),\n",
       " array([  3.11733936e+00,   6.34848091e-10]),\n",
       " array([  3.11976445e+00,   5.07878473e-10]),\n",
       " array([  3.12194710e+00,   4.06302778e-10]),\n",
       " array([  3.12391153e+00,   3.25042222e-10]),\n",
       " array([  3.12567955e+00,   2.60033778e-10]),\n",
       " array([  3.12727079e+00,   2.08027022e-10]),\n",
       " array([  3.12870293e+00,   1.66421618e-10]),\n",
       " array([  3.12999187e+00,   1.33137294e-10]),\n",
       " array([  3.13115192e+00,   1.06509835e-10])]"
      ]
     },
     "execution_count": 240,
     "metadata": {},
     "output_type": "execute_result"
    }
   ],
   "source": [
    "### note that x is a one-dimensional array of length 2\n",
    "f = lambda x: np.cos(x[0]) + x[1]**2\n",
    "gradf = lambda x: np.array([-np.sin(x[0]), 2*x[1]])\n",
    "\n",
    "record = gradient_descent(f, gradf, dim=2, steps=100, alpha=0.1)\n",
    "record[-10:]"
   ]
  },
  {
   "cell_type": "markdown",
   "metadata": {},
   "source": [
    "#### Exercise\n",
    "Consider the dataset as below.  \n",
    "Guess how the neuron will choose $W$ and $b$.  \n",
    "What is the highest accuracy you can get?"
   ]
  },
  {
   "cell_type": "code",
   "execution_count": 243,
   "metadata": {},
   "outputs": [
    {
     "data": {
      "text/plain": [
       "<matplotlib.collections.PathCollection at 0x7fe713bbe6a0>"
      ]
     },
     "execution_count": 243,
     "metadata": {},
     "output_type": "execute_result"
    },
    {
     "data": {
      "image/png": "[encoded data removed]",
      "text/plain": [
       "<matplotlib.figure.Figure at 0x7fe713b984a8>"
      ]
     },
     "metadata": {
      "image/png": {
       "height": 250,
       "width": 372
      }
     },
     "output_type": "display_data"
    }
   ],
   "source": [
    "data = ([(np.random.randn(2,1)+0.5,np.ones((1,1))) for _ in range(50)] \n",
    "       + [(np.random.randn(2,1)-0.5,np.zeros((1,1))) for _ in range(50)])\n",
    "\n",
    "x = [p[0][0][0] for p in data]\n",
    "y = [p[0][1][0] for p in data]\n",
    "c = [p[1][0][0] for p in data]\n",
    "plt.scatter(x,y,c=c,cmap='viridis')"
   ]
  },
  {
   "cell_type": "code",
   "execution_count": 276,
   "metadata": {},
   "outputs": [
    {
     "data": {
      "text/plain": [
       "0.42"
      ]
     },
     "execution_count": 276,
     "metadata": {},
     "output_type": "execute_result"
    }
   ],
   "source": [
    "new_W, new_b = neuronGD(data, dim_W=2, steps=10, alpha=0.1)\n",
    "\n",
    "evaluate(data, new_W, new_b)"
   ]
  },
  {
   "cell_type": "code",
   "execution_count": null,
   "metadata": {},
   "outputs": [],
   "source": []
  },
  {
   "cell_type": "code",
   "execution_count": null,
   "metadata": {},
   "outputs": [],
   "source": []
  },
  {
   "cell_type": "code",
   "execution_count": null,
   "metadata": {},
   "outputs": [],
   "source": []
  },
  {
   "cell_type": "code",
   "execution_count": null,
   "metadata": {},
   "outputs": [],
   "source": []
  }
 ],
 "metadata": {
  "kernelspec": {
   "display_name": "Python 3 (Ubuntu Linux)",
   "language": "python",
   "name": "python3"
  },
  "language_info": {
   "codemirror_mode": {
    "name": "ipython",
    "version": 3
   },
   "file_extension": ".py",
   "mimetype": "text/x-python",
   "name": "python",
   "nbconvert_exporter": "python",
   "pygments_lexer": "ipython3",
   "version": "3.6.6"
  }
 },
 "nbformat": 4,
 "nbformat_minor": 2
}
