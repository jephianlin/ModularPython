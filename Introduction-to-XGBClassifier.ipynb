{
 "cells": [
  {
   "cell_type": "markdown",
   "metadata": {},
   "source": [
    "# Classification by XGBClassifier"
   ]
  },
  {
   "cell_type": "markdown",
   "metadata": {},
   "source": [
    "![Creative Commons License](https://i.creativecommons.org/l/by/4.0/88x31.png)  \n",
    "This work by Hsin Hao Hsieh is licensed under a [Creative Commons Attribution 4.0 International License](http://creativecommons.org/licenses/by/4.0/)."
   ]
  },
  {
   "cell_type": "code",
   "execution_count": 14,
   "metadata": {},
   "outputs": [],
   "source": [
    "### load required packages\n",
    "import numpy as np\n",
    "import matplotlib.pyplot as plt"
   ]
  },
  {
   "cell_type": "markdown",
   "metadata": {},
   "source": [
    "## Introduction to digits dataset"
   ]
  },
  {
   "cell_type": "markdown",
   "metadata": {},
   "source": [
    "The data set can be loaded by  \n",
    "```Python\n",
    "from sklearn.datasets import load_digits\n",
    "digits = load_digits()\n",
    "```  "
   ]
  },
  {
   "cell_type": "code",
   "execution_count": 13,
   "metadata": {},
   "outputs": [],
   "source": [
    "from sklearn.datasets import load_digits\n",
    "digits = load_digits()"
   ]
  },
  {
   "cell_type": "markdown",
   "metadata": {},
   "source": [
    "This `digits` contains several keys."
   ]
  },
  {
   "cell_type": "code",
   "execution_count": 15,
   "metadata": {},
   "outputs": [
    {
     "data": {
      "text/plain": [
       "dict_keys(['data', 'target', 'target_names', 'images', 'DESCR'])"
      ]
     },
     "execution_count": 15,
     "metadata": {},
     "output_type": "execute_result"
    }
   ],
   "source": [
    "digits.keys()"
   ]
  },
  {
   "cell_type": "markdown",
   "metadata": {},
   "source": [
    "Found the information about this data set by `digits['DESCRE'].  \n",
    "(You may find the soruce of the data set inside.)"
   ]
  },
  {
   "cell_type": "code",
   "execution_count": 23,
   "metadata": {},
   "outputs": [
    {
     "name": "stdout",
     "output_type": "stream",
     "text": [
      ".. _digits_dataset:\n",
      "\n",
      "Optical recognition of handwritten digits dataset\n",
      "--------------------------------------------------\n",
      "\n",
      "**Data Set Characteristics:**\n",
      "\n",
      "    :Number of Instances: 5620\n",
      "    :Number of Attributes: 64\n",
      "    :Attribute Information: 8x8 image of integer pixels in the range 0..16.\n",
      "    :Missing Attribute Values: None\n",
      "    :Creator: E. Alpaydin (alpaydin '@' boun.edu.tr)\n",
      "    :Date: July; 1998\n",
      "\n",
      "This is a copy of the test set of the UCI ML hand-written digits datasets\n",
      "http://archive.ics.uci.edu/ml/datasets/Optical+Recognition+of+Handwritten+Digits\n",
      "\n",
      "The data set contains images of hand-written digits: 10 classes where\n",
      "each class refers to a digit.\n",
      "\n",
      "Preprocessing programs made available by NIST were used to extract\n",
      "normalized bitmaps of handwritten digits from a preprinted form. From a\n",
      "total of 43 people, 30 contributed to the training set and different 13\n",
      "to the test set. 32x32 bitmaps are divided into nonoverlapping blocks of\n",
      "4x4 and the number of on pixels are counted in each block. This generates\n",
      "an input matrix of 8x8 where each element is an integer in the range\n",
      "0..16. This reduces dimensionality and gives invariance to small\n",
      "distortions.\n",
      "\n",
      "For info on NIST preprocessing routines, see M. D. Garris, J. L. Blue, G.\n",
      "T. Candela, D. L. Dimmick, J. Geist, P. J. Grother, S. A. Janet, and C.\n",
      "L. Wilson, NIST Form-Based Handprint Recognition System, NISTIR 5469,\n",
      "1994.\n",
      "\n",
      ".. topic:: References\n",
      "\n",
      "  - C. Kaynak (1995) Methods of Combining Multiple Classifiers and Their\n",
      "    Applications to Handwritten Digit Recognition, MSc Thesis, Institute of\n",
      "    Graduate Studies in Science and Engineering, Bogazici University.\n",
      "  - E. Alpaydin, C. Kaynak (1998) Cascading Classifiers, Kybernetika.\n",
      "  - Ken Tang and Ponnuthurai N. Suganthan and Xi Yao and A. Kai Qin.\n",
      "    Linear dimensionalityreduction using relevance weighted LDA. School of\n",
      "    Electrical and Electronic Engineering Nanyang Technological University.\n",
      "    2005.\n",
      "  - Claudio Gentile. A New Approximate Maximal Margin Classification\n",
      "    Algorithm. NIPS. 2000.\n"
     ]
    }
   ],
   "source": [
    "print(digits['DESCR'])"
   ]
  },
  {
   "cell_type": "markdown",
   "metadata": {},
   "source": [
    "`digits['data']` is an array of shape `(1797, 64)`  \n",
    "and its entries range from 0 to 16"
   ]
  },
  {
   "cell_type": "code",
   "execution_count": 16,
   "metadata": {},
   "outputs": [
    {
     "data": {
      "text/plain": [
       "(1797, 64)"
      ]
     },
     "execution_count": 16,
     "metadata": {},
     "output_type": "execute_result"
    }
   ],
   "source": [
    "data = digits['data']\n",
    "data.shape"
   ]
  },
  {
   "cell_type": "markdown",
   "metadata": {},
   "source": [
    "`digits['image']` is an array of shape `(1797, 8, 8)`"
   ]
  },
  {
   "cell_type": "code",
   "execution_count": 22,
   "metadata": {},
   "outputs": [
    {
     "data": {
      "text/plain": [
       "(1797, 8, 8)"
      ]
     },
     "execution_count": 22,
     "metadata": {},
     "output_type": "execute_result"
    }
   ],
   "source": [
    "images = digits['images']\n",
    "images.shape"
   ]
  },
  {
   "cell_type": "markdown",
   "metadata": {},
   "source": [
    "The `i`-th data `data[i]`  \n",
    "is the flattened vector of shape `(64,)`  \n",
    "from the `i`-th image `images[i]`  \n",
    "of shape `(8, 8)`"
   ]
  },
  {
   "cell_type": "code",
   "execution_count": 24,
   "metadata": {},
   "outputs": [
    {
     "data": {
      "text/plain": [
       "array([ 0.,  0.,  5., 13.,  9.,  1.,  0.,  0.,  0.,  0., 13., 15., 10.,\n",
       "       15.,  5.,  0.,  0.,  3., 15.,  2.,  0., 11.,  8.,  0.,  0.,  4.,\n",
       "       12.,  0.,  0.,  8.,  8.,  0.,  0.,  5.,  8.,  0.,  0.,  9.,  8.,\n",
       "        0.,  0.,  4., 11.,  0.,  1., 12.,  7.,  0.,  0.,  2., 14.,  5.,\n",
       "       10., 12.,  0.,  0.,  0.,  0.,  6., 13., 10.,  0.,  0.,  0.])"
      ]
     },
     "execution_count": 24,
     "metadata": {},
     "output_type": "execute_result"
    }
   ],
   "source": [
    "data[0]"
   ]
  },
  {
   "cell_type": "code",
   "execution_count": 26,
   "metadata": {},
   "outputs": [
    {
     "data": {
      "text/plain": [
       "array([[ 0.,  0.,  5., 13.,  9.,  1.,  0.,  0.],\n",
       "       [ 0.,  0., 13., 15., 10., 15.,  5.,  0.],\n",
       "       [ 0.,  3., 15.,  2.,  0., 11.,  8.,  0.],\n",
       "       [ 0.,  4., 12.,  0.,  0.,  8.,  8.,  0.],\n",
       "       [ 0.,  5.,  8.,  0.,  0.,  9.,  8.,  0.],\n",
       "       [ 0.,  4., 11.,  0.,  1., 12.,  7.,  0.],\n",
       "       [ 0.,  2., 14.,  5., 10., 12.,  0.,  0.],\n",
       "       [ 0.,  0.,  6., 13., 10.,  0.,  0.,  0.]])"
      ]
     },
     "execution_count": 26,
     "metadata": {},
     "output_type": "execute_result"
    }
   ],
   "source": [
    "images[0] ### can you guess the digit?"
   ]
  },
  {
   "cell_type": "markdown",
   "metadata": {},
   "source": [
    "`digits['target']` is the label of each picture"
   ]
  },
  {
   "cell_type": "code",
   "execution_count": 55,
   "metadata": {},
   "outputs": [
    {
     "data": {
      "text/plain": [
       "(1797,)"
      ]
     },
     "execution_count": 55,
     "metadata": {},
     "output_type": "execute_result"
    }
   ],
   "source": [
    "target = digits['target']\n",
    "target.shape"
   ]
  },
  {
   "cell_type": "markdown",
   "metadata": {},
   "source": [
    "### Handling pictures"
   ]
  },
  {
   "cell_type": "markdown",
   "metadata": {},
   "source": [
    "A gray-scale picture is  \n",
    "the same as a two-dimensional array.  \n",
    "\n",
    "Here we use the colormap `Greys`.  \n",
    "See a list of colormaps [here](https://matplotlib.org/3.1.0/tutorials/colors/colormaps.html).  \n",
    "(Sometimes one might choose `Greys_r` to flip black and white.)"
   ]
  },
  {
   "cell_type": "code",
   "execution_count": 36,
   "metadata": {},
   "outputs": [
    {
     "data": {
      "text/plain": [
       "<matplotlib.image.AxesImage at 0x7f730d342080>"
      ]
     },
     "execution_count": 36,
     "metadata": {},
     "output_type": "execute_result"
    },
    {
     "data": {
      "image/png": "[encoded data removed]",
      "text/plain": [
       "<Figure size 432x288 with 1 Axes>"
      ]
     },
     "metadata": {},
     "output_type": "display_data"
    }
   ],
   "source": [
    "plt.imshow(images[0], cmap='Greys')"
   ]
  },
  {
   "cell_type": "markdown",
   "metadata": {},
   "source": [
    "If you want to see many pictures at the same time  \n",
    "use `plt.subplots`."
   ]
  },
  {
   "cell_type": "code",
   "execution_count": 50,
   "metadata": {},
   "outputs": [
    {
     "data": {
      "image/png": "[encoded data removed]",
      "text/plain": [
       "<Figure size 864x576 with 12 Axes>"
      ]
     },
     "metadata": {},
     "output_type": "display_data"
    }
   ],
   "source": [
    "fig,axs = plt.subplots(3, 4, figsize=(12,8))\n",
    "for i in range(3):\n",
    "    for j in range(4):\n",
    "        k = 4*i + j\n",
    "        axs[i,j].imshow(images[k], cmap='Greys')"
   ]
  },
  {
   "cell_type": "markdown",
   "metadata": {},
   "source": [
    "If preferred,  \n",
    "use `[axes].axis('off')` to remove the coordinates and  \n",
    "use `[axes].set_title([title_string])` to set the title."
   ]
  },
  {
   "cell_type": "code",
   "execution_count": 56,
   "metadata": {},
   "outputs": [
    {
     "data": {
      "image/png": "[encoded data removed]",
      "text/plain": [
       "<Figure size 864x576 with 12 Axes>"
      ]
     },
     "metadata": {},
     "output_type": "display_data"
    }
   ],
   "source": [
    "fig,axs = plt.subplots(3, 4, figsize=(12,8))\n",
    "for i in range(3):\n",
    "    for j in range(4):\n",
    "        k = 4*i + j\n",
    "        axs[i,j].axis('off')\n",
    "        axs[i,j].set_title(target[k])\n",
    "        axs[i,j].imshow(images[k], cmap='Greys')"
   ]
  },
  {
   "cell_type": "markdown",
   "metadata": {},
   "source": [
    "### Switching between different shapes"
   ]
  },
  {
   "cell_type": "code",
   "execution_count": 57,
   "metadata": {},
   "outputs": [
    {
     "name": "stdout",
     "output_type": "stream",
     "text": [
      "(64,)\n",
      "(8, 8)\n"
     ]
    }
   ],
   "source": [
    "vec = data[0]\n",
    "pic = images[0]\n",
    "print(vec.shape)\n",
    "print(pic.shape)"
   ]
  },
  {
   "cell_type": "markdown",
   "metadata": {},
   "source": [
    "Use `np.reshape` to convert  \n",
    "a vector to a two-dimensional array."
   ]
  },
  {
   "cell_type": "code",
   "execution_count": 58,
   "metadata": {},
   "outputs": [
    {
     "data": {
      "text/plain": [
       "array([[ 0.,  0.,  5., 13.,  9.,  1.,  0.,  0.],\n",
       "       [ 0.,  0., 13., 15., 10., 15.,  5.,  0.],\n",
       "       [ 0.,  3., 15.,  2.,  0., 11.,  8.,  0.],\n",
       "       [ 0.,  4., 12.,  0.,  0.,  8.,  8.,  0.],\n",
       "       [ 0.,  5.,  8.,  0.,  0.,  9.,  8.,  0.],\n",
       "       [ 0.,  4., 11.,  0.,  1., 12.,  7.,  0.],\n",
       "       [ 0.,  2., 14.,  5., 10., 12.,  0.,  0.],\n",
       "       [ 0.,  0.,  6., 13., 10.,  0.,  0.,  0.]])"
      ]
     },
     "execution_count": 58,
     "metadata": {},
     "output_type": "execute_result"
    }
   ],
   "source": [
    "vec.reshape(8,8)"
   ]
  },
  {
   "cell_type": "code",
   "execution_count": 59,
   "metadata": {},
   "outputs": [
    {
     "data": {
      "text/plain": [
       "True"
      ]
     },
     "execution_count": 59,
     "metadata": {},
     "output_type": "execute_result"
    }
   ],
   "source": [
    "np.all(pic == vec.reshape(8,8))"
   ]
  },
  {
   "cell_type": "markdown",
   "metadata": {},
   "source": [
    "There are several ways to flatten a two-dimensional array:  \n",
    "`pic.ravel()`  \n",
    "`pic.reshape(-1)`  \n",
    "`pic.flatten()`\n",
    "all have the same effect."
   ]
  },
  {
   "cell_type": "code",
   "execution_count": 68,
   "metadata": {},
   "outputs": [
    {
     "data": {
      "text/plain": [
       "array([ 0.,  0.,  5., 13.,  9.,  1.,  0.,  0.,  0.,  0., 13., 15., 10.,\n",
       "       15.,  5.,  0.,  0.,  3., 15.,  2.,  0., 11.,  8.,  0.,  0.,  4.,\n",
       "       12.,  0.,  0.,  8.,  8.,  0.,  0.,  5.,  8.,  0.,  0.,  9.,  8.,\n",
       "        0.,  0.,  4., 11.,  0.,  1., 12.,  7.,  0.,  0.,  2., 14.,  5.,\n",
       "       10., 12.,  0.,  0.,  0.,  0.,  6., 13., 10.,  0.,  0.,  0.])"
      ]
     },
     "execution_count": 68,
     "metadata": {},
     "output_type": "execute_result"
    }
   ],
   "source": [
    "pic.ravel()"
   ]
  },
  {
   "cell_type": "code",
   "execution_count": 69,
   "metadata": {},
   "outputs": [
    {
     "data": {
      "text/plain": [
       "array([ 0.,  0.,  5., 13.,  9.,  1.,  0.,  0.,  0.,  0., 13., 15., 10.,\n",
       "       15.,  5.,  0.,  0.,  3., 15.,  2.,  0., 11.,  8.,  0.,  0.,  4.,\n",
       "       12.,  0.,  0.,  8.,  8.,  0.,  0.,  5.,  8.,  0.,  0.,  9.,  8.,\n",
       "        0.,  0.,  4., 11.,  0.,  1., 12.,  7.,  0.,  0.,  2., 14.,  5.,\n",
       "       10., 12.,  0.,  0.,  0.,  0.,  6., 13., 10.,  0.,  0.,  0.])"
      ]
     },
     "execution_count": 69,
     "metadata": {},
     "output_type": "execute_result"
    }
   ],
   "source": [
    "pic.reshape(-1)"
   ]
  },
  {
   "cell_type": "code",
   "execution_count": 70,
   "metadata": {},
   "outputs": [
    {
     "data": {
      "text/plain": [
       "array([ 0.,  0.,  5., 13.,  9.,  1.,  0.,  0.,  0.,  0., 13., 15., 10.,\n",
       "       15.,  5.,  0.,  0.,  3., 15.,  2.,  0., 11.,  8.,  0.,  0.,  4.,\n",
       "       12.,  0.,  0.,  8.,  8.,  0.,  0.,  5.,  8.,  0.,  0.,  9.,  8.,\n",
       "        0.,  0.,  4., 11.,  0.,  1., 12.,  7.,  0.,  0.,  2., 14.,  5.,\n",
       "       10., 12.,  0.,  0.,  0.,  0.,  6., 13., 10.,  0.,  0.,  0.])"
      ]
     },
     "execution_count": 70,
     "metadata": {},
     "output_type": "execute_result"
    }
   ],
   "source": [
    "pic.flatten()"
   ]
  },
  {
   "cell_type": "code",
   "execution_count": 71,
   "metadata": {},
   "outputs": [
    {
     "data": {
      "text/plain": [
       "True"
      ]
     },
     "execution_count": 71,
     "metadata": {},
     "output_type": "execute_result"
    }
   ],
   "source": [
    "np.all(vec == pic.ravel())"
   ]
  },
  {
   "cell_type": "markdown",
   "metadata": {},
   "source": [
    "## XGBClassifier model"
   ]
  },
  {
   "cell_type": "markdown",
   "metadata": {},
   "source": [
    "[XGBoost](https://xgboost.readthedocs.io/en/latest/) is  \n",
    "a library that implements various machine learning algorithms  \n",
    "under the **gradient tree boosting** framework.  \n",
    "\n",
    "[XGBoost Tutorial](https://xgboost.readthedocs.io/en/latest/tutorials/index.html)"
   ]
  },
  {
   "cell_type": "markdown",
   "metadata": {},
   "source": [
    "Use  \n",
    "```Python\n",
    "pip install xgboost --user\n",
    "```\n",
    "to install.  \n",
    "\n",
    "See the [Installation Guide](https://xgboost.readthedocs.io/en/latest/build.html)."
   ]
  },
  {
   "cell_type": "markdown",
   "metadata": {},
   "source": [
    "For the theory and details behind it,  \n",
    "see [XGBoost: A Scalable Tree Boosting System](https://arxiv.org/abs/1603.02754)."
   ]
  },
  {
   "cell_type": "markdown",
   "metadata": {},
   "source": [
    "Use  \n",
    "```Pythotn\n",
    "import xgboost as xgb\n",
    "```\n",
    "to import XGBoost."
   ]
  },
  {
   "cell_type": "code",
   "execution_count": 78,
   "metadata": {},
   "outputs": [],
   "source": [
    "import xgboost as xgb"
   ]
  },
  {
   "cell_type": "markdown",
   "metadata": {},
   "source": [
    "The current version  \n",
    "contains an experimental scikit-learn API.  \n",
    "\n",
    "It includes two functions    \n",
    "`xgb.XGBClassifier`, `xgb.XGBRegressor`  \n",
    "and more."
   ]
  },
  {
   "cell_type": "markdown",
   "metadata": {},
   "source": [
    "Before training, let's partition the data into training and test data."
   ]
  },
  {
   "cell_type": "code",
   "execution_count": 72,
   "metadata": {},
   "outputs": [],
   "source": [
    "from sklearn.model_selection import train_test_split"
   ]
  },
  {
   "cell_type": "code",
   "execution_count": 73,
   "metadata": {},
   "outputs": [],
   "source": [
    "X_train, X_test, y_train, y_test = train_test_split(data, target)"
   ]
  },
  {
   "cell_type": "code",
   "execution_count": 74,
   "metadata": {},
   "outputs": [
    {
     "data": {
      "text/plain": [
       "(1347, 64)"
      ]
     },
     "execution_count": 74,
     "metadata": {},
     "output_type": "execute_result"
    }
   ],
   "source": [
    "X_train.shape"
   ]
  },
  {
   "cell_type": "code",
   "execution_count": 76,
   "metadata": {
    "scrolled": true
   },
   "outputs": [
    {
     "data": {
      "text/plain": [
       "(450, 64)"
      ]
     },
     "execution_count": 76,
     "metadata": {},
     "output_type": "execute_result"
    }
   ],
   "source": [
    "X_test.shape"
   ]
  },
  {
   "cell_type": "markdown",
   "metadata": {},
   "source": [
    "The scikit-learn API  \n",
    "make it easy for users who is familiar with scikit-learn,  \n",
    "since it follows the same steps."
   ]
  },
  {
   "cell_type": "code",
   "execution_count": 116,
   "metadata": {},
   "outputs": [],
   "source": [
    "model = xgb.XGBClassifier()\n",
    "model.fit(X_train, y_train)\n",
    "y_model = model.predict(X_test)"
   ]
  },
  {
   "cell_type": "markdown",
   "metadata": {},
   "source": [
    "Use `accuracy_score` to see the performance."
   ]
  },
  {
   "cell_type": "code",
   "execution_count": 96,
   "metadata": {},
   "outputs": [
    {
     "data": {
      "text/plain": [
       "0.9555555555555556"
      ]
     },
     "execution_count": 96,
     "metadata": {},
     "output_type": "execute_result"
    }
   ],
   "source": [
    "from sklearn.metrics import accuracy_score\n",
    "\n",
    "accuracy_score(y_test, y_model)"
   ]
  },
  {
   "cell_type": "markdown",
   "metadata": {},
   "source": [
    "## Cross-validation and hyperparameter"
   ]
  },
  {
   "cell_type": "markdown",
   "metadata": {},
   "source": [
    "### Cross-validation"
   ]
  },
  {
   "cell_type": "markdown",
   "metadata": {},
   "source": [
    "![cross validation](https://upload.wikimedia.org/wikipedia/commons/thumb/4/4b/KfoldCV.gif/640px-KfoldCV.gif)  \n",
    "(Source: Cross-validation (statistics) - Wikipedia  \n",
    "MBanuelos22 / [CC BY-SA](https://creativecommons.org/licenses/by-sa/4.0))"
   ]
  },
  {
   "cell_type": "markdown",
   "metadata": {},
   "source": [
    "Cross-validation means  \n",
    "to train-test split the data in different ways   \n",
    "and compare the performances.  \n",
    "\n",
    "A standard way is called **$k$-fold cross-validation**  \n",
    "as shown in the picture above."
   ]
  },
  {
   "cell_type": "code",
   "execution_count": 84,
   "metadata": {},
   "outputs": [],
   "source": [
    "from sklearn.model_selection import cross_val_score"
   ]
  },
  {
   "cell_type": "code",
   "execution_count": 88,
   "metadata": {},
   "outputs": [
    {
     "data": {
      "text/plain": [
       "array([0.92582418, 0.88950276, 0.94428969, 0.94397759, 0.89859155])"
      ]
     },
     "execution_count": 88,
     "metadata": {},
     "output_type": "execute_result"
    }
   ],
   "source": [
    "cv_score = cross_val_score(model, data, target, cv=5)\n",
    "cv_score"
   ]
  },
  {
   "cell_type": "markdown",
   "metadata": {},
   "source": [
    "The average score can be an index  \n",
    "for the performance of a model."
   ]
  },
  {
   "cell_type": "code",
   "execution_count": 89,
   "metadata": {},
   "outputs": [
    {
     "data": {
      "text/plain": [
       "0.9204371544361238"
      ]
     },
     "execution_count": 89,
     "metadata": {},
     "output_type": "execute_result"
    }
   ],
   "source": [
    "cv_score.mean()"
   ]
  },
  {
   "cell_type": "markdown",
   "metadata": {},
   "source": [
    "### Hyperparameters in XGBoost\n",
    "Use `xgb.XGBClassifier?` to read the parameters."
   ]
  },
  {
   "cell_type": "code",
   "execution_count": 119,
   "metadata": {},
   "outputs": [],
   "source": [
    "xgb.XGBClassifier?"
   ]
  },
  {
   "cell_type": "markdown",
   "metadata": {},
   "source": [
    "`max_depth`: int;  Maximum tree depth for base learners.  \n",
    "`learning_rate`: float;  Boosting learning rate (xgb's \"eta\" $\\eta$)  \n",
    "`subsample`: float;  Subsample ratio of the training instances.  \n",
    "`colsample_bytree`: float;  Subsample ratio of columns when constructing each tree.  \n",
    "`n_estimators`: Tune the number of trees.  \n",
    "`reg_alpha`: float;  L1 regularization term on weights (xgb's alpha)\n",
    "\n",
    "See a list [here](https://xgboost.readthedocs.io/en/latest/parameter.html)."
   ]
  },
  {
   "cell_type": "markdown",
   "metadata": {},
   "source": [
    "Recall that we chose the default parameters  \n",
    "by `model = xgb.XGBClassifier()`.  \n",
    "\n",
    "Once the model is trained,  \n",
    "use `model.get_params()` to   \n",
    "to see the parameters in use."
   ]
  },
  {
   "cell_type": "code",
   "execution_count": 198,
   "metadata": {},
   "outputs": [
    {
     "data": {
      "text/plain": [
       "{'base_score': 0.5,\n",
       " 'booster': None,\n",
       " 'colsample_bylevel': 1,\n",
       " 'colsample_bynode': 1,\n",
       " 'colsample_bytree': 1,\n",
       " 'gamma': 0,\n",
       " 'gpu_id': -1,\n",
       " 'importance_type': 'gain',\n",
       " 'interaction_constraints': None,\n",
       " 'learning_rate': 0.300000012,\n",
       " 'max_delta_step': 0,\n",
       " 'max_depth': 6,\n",
       " 'min_child_weight': 1,\n",
       " 'missing': nan,\n",
       " 'monotone_constraints': None,\n",
       " 'n_estimators': 100,\n",
       " 'n_jobs': 0,\n",
       " 'num_parallel_tree': 1,\n",
       " 'objective': 'multi:softprob',\n",
       " 'random_state': 0,\n",
       " 'reg_alpha': 0,\n",
       " 'reg_lambda': 1,\n",
       " 'scale_pos_weight': None,\n",
       " 'subsample': 1,\n",
       " 'tree_method': None,\n",
       " 'validate_parameters': False,\n",
       " 'verbosity': None}"
      ]
     },
     "execution_count": 198,
     "metadata": {},
     "output_type": "execute_result"
    }
   ],
   "source": [
    "model = xgb.XGBClassifier()\n",
    "model.fit(X_train, y_train)\n",
    "model.get_params()"
   ]
  },
  {
   "cell_type": "markdown",
   "metadata": {},
   "source": [
    "apply grid search to find good hyperparameter"
   ]
  },
  {
   "cell_type": "markdown",
   "metadata": {},
   "source": [
    "### Dig into the model"
   ]
  },
  {
   "cell_type": "markdown",
   "metadata": {},
   "source": [
    "Use `model._Booster.trees_to_dataframe()`  \n",
    "to show the information of the trees and their nodes."
   ]
  },
  {
   "cell_type": "code",
   "execution_count": 223,
   "metadata": {},
   "outputs": [
    {
     "data": {
      "text/html": [
       "<div>\n",
       "<style scoped>\n",
       "    .dataframe tbody tr th:only-of-type {\n",
       "        vertical-align: middle;\n",
       "    }\n",
       "\n",
       "    .dataframe tbody tr th {\n",
       "        vertical-align: top;\n",
       "    }\n",
       "\n",
       "    .dataframe thead th {\n",
       "        text-align: right;\n",
       "    }\n",
       "</style>\n",
       "<table border=\"1\" class=\"dataframe\">\n",
       "  <thead>\n",
       "    <tr style=\"text-align: right;\">\n",
       "      <th></th>\n",
       "      <th>Tree</th>\n",
       "      <th>Node</th>\n",
       "      <th>ID</th>\n",
       "      <th>Feature</th>\n",
       "      <th>Split</th>\n",
       "      <th>Yes</th>\n",
       "      <th>No</th>\n",
       "      <th>Missing</th>\n",
       "      <th>Gain</th>\n",
       "      <th>Cover</th>\n",
       "    </tr>\n",
       "  </thead>\n",
       "  <tbody>\n",
       "    <tr>\n",
       "      <th>0</th>\n",
       "      <td>0</td>\n",
       "      <td>0</td>\n",
       "      <td>0-0</td>\n",
       "      <td>f36</td>\n",
       "      <td>0.5</td>\n",
       "      <td>0-1</td>\n",
       "      <td>0-2</td>\n",
       "      <td>0-1</td>\n",
       "      <td>423.462036</td>\n",
       "      <td>242.459991</td>\n",
       "    </tr>\n",
       "    <tr>\n",
       "      <th>1</th>\n",
       "      <td>0</td>\n",
       "      <td>1</td>\n",
       "      <td>0-1</td>\n",
       "      <td>f33</td>\n",
       "      <td>0.5</td>\n",
       "      <td>0-3</td>\n",
       "      <td>0-4</td>\n",
       "      <td>0-3</td>\n",
       "      <td>172.836395</td>\n",
       "      <td>38.699997</td>\n",
       "    </tr>\n",
       "    <tr>\n",
       "      <th>2</th>\n",
       "      <td>0</td>\n",
       "      <td>2</td>\n",
       "      <td>0-2</td>\n",
       "      <td>f36</td>\n",
       "      <td>3.5</td>\n",
       "      <td>0-5</td>\n",
       "      <td>0-6</td>\n",
       "      <td>0-5</td>\n",
       "      <td>0.850925</td>\n",
       "      <td>203.759995</td>\n",
       "    </tr>\n",
       "    <tr>\n",
       "      <th>3</th>\n",
       "      <td>0</td>\n",
       "      <td>3</td>\n",
       "      <td>0-3</td>\n",
       "      <td>f26</td>\n",
       "      <td>14.5</td>\n",
       "      <td>0-7</td>\n",
       "      <td>0-8</td>\n",
       "      <td>0-7</td>\n",
       "      <td>0.672976</td>\n",
       "      <td>10.440000</td>\n",
       "    </tr>\n",
       "    <tr>\n",
       "      <th>4</th>\n",
       "      <td>0</td>\n",
       "      <td>4</td>\n",
       "      <td>0-4</td>\n",
       "      <td>f6</td>\n",
       "      <td>1.5</td>\n",
       "      <td>0-9</td>\n",
       "      <td>0-10</td>\n",
       "      <td>0-9</td>\n",
       "      <td>44.691711</td>\n",
       "      <td>28.259998</td>\n",
       "    </tr>\n",
       "  </tbody>\n",
       "</table>\n",
       "</div>"
      ],
      "text/plain": [
       "   Tree  Node   ID Feature  Split  Yes    No Missing        Gain       Cover\n",
       "0     0     0  0-0     f36    0.5  0-1   0-2     0-1  423.462036  242.459991\n",
       "1     0     1  0-1     f33    0.5  0-3   0-4     0-3  172.836395   38.699997\n",
       "2     0     2  0-2     f36    3.5  0-5   0-6     0-5    0.850925  203.759995\n",
       "3     0     3  0-3     f26   14.5  0-7   0-8     0-7    0.672976   10.440000\n",
       "4     0     4  0-4      f6    1.5  0-9  0-10     0-9   44.691711   28.259998"
      ]
     },
     "execution_count": 223,
     "metadata": {},
     "output_type": "execute_result"
    }
   ],
   "source": [
    "model = xgb.XGBClassifier()\n",
    "model.fit(X_train, y_train)\n",
    "df = model._Booster.trees_to_dataframe()\n",
    "df.head()"
   ]
  },
  {
   "cell_type": "markdown",
   "metadata": {},
   "source": [
    "Use `model.feature_importances_`  \n",
    "to see the importance of each feature."
   ]
  },
  {
   "cell_type": "code",
   "execution_count": 200,
   "metadata": {},
   "outputs": [],
   "source": [
    "bster = model._Booster"
   ]
  },
  {
   "cell_type": "code",
   "execution_count": 217,
   "metadata": {},
   "outputs": [
    {
     "data": {
      "text/plain": [
       "array([0.        , 0.04976973, 0.01267716, 0.00661055, 0.00583999,\n",
       "       0.03125682, 0.01363682, 0.08733138, 0.        , 0.0057889 ,\n",
       "       0.01410916, 0.00398867, 0.00827266, 0.01000091, 0.00280194,\n",
       "       0.00481134, 0.        , 0.00486748, 0.00554999, 0.03628401,\n",
       "       0.00852873, 0.04095206, 0.00434361, 0.        , 0.        ,\n",
       "       0.00563017, 0.02316677, 0.00694104, 0.01296786, 0.02211315,\n",
       "       0.01187706, 0.        , 0.        , 0.08654386, 0.00321986,\n",
       "       0.00697935, 0.04222421, 0.01231347, 0.03186822, 0.        ,\n",
       "       0.        , 0.0120804 , 0.0317903 , 0.04146388, 0.0141572 ,\n",
       "       0.02332503, 0.01448064, 0.        , 0.        , 0.00514344,\n",
       "       0.00426403, 0.0125551 , 0.01369224, 0.01253697, 0.02224253,\n",
       "       0.0001286 , 0.        , 0.00898507, 0.01836952, 0.00266445,\n",
       "       0.06220851, 0.00997267, 0.04532693, 0.02134559], dtype=float32)"
      ]
     },
     "execution_count": 217,
     "metadata": {},
     "output_type": "execute_result"
    }
   ],
   "source": [
    "model.feature_importances_"
   ]
  },
  {
   "cell_type": "code",
   "execution_count": 224,
   "metadata": {},
   "outputs": [
    {
     "data": {
      "text/plain": [
       "array([0.        , 0.        , 0.        , 0.        , 0.        ,\n",
       "       0.        , 0.        , 0.        , 0.        , 0.        ,\n",
       "       0.        , 0.        , 0.0001286 , 0.00266445, 0.00280194,\n",
       "       0.00321986, 0.00398867, 0.00426403, 0.00434361, 0.00481134,\n",
       "       0.00486748, 0.00514344, 0.00554999, 0.00563017, 0.0057889 ,\n",
       "       0.00583999, 0.00661055, 0.00694104, 0.00697935, 0.00827266,\n",
       "       0.00852873, 0.00898507, 0.00997267, 0.01000091, 0.01187706,\n",
       "       0.0120804 , 0.01231347, 0.01253697, 0.0125551 , 0.01267716,\n",
       "       0.01296786, 0.01363682, 0.01369224, 0.01410916, 0.0141572 ,\n",
       "       0.01448064, 0.01836952, 0.02134559, 0.02211315, 0.02224253,\n",
       "       0.02316677, 0.02332503, 0.03125682, 0.0317903 , 0.03186822,\n",
       "       0.03628401, 0.04095206, 0.04146388, 0.04222421, 0.04532693,\n",
       "       0.04976973, 0.06220851, 0.08654386, 0.08733138], dtype=float32)"
      ]
     },
     "execution_count": 224,
     "metadata": {},
     "output_type": "execute_result"
    }
   ],
   "source": [
    "f = model.feature_importances_\n",
    "f.sort()\n",
    "f"
   ]
  },
  {
   "cell_type": "code",
   "execution_count": 225,
   "metadata": {},
   "outputs": [
    {
     "data": {
      "text/plain": [
       "array([0.        , 0.        , 0.        , 0.        , 0.        ,\n",
       "       0.        , 0.        , 0.        , 0.        , 0.        ,\n",
       "       0.        , 0.        , 0.00029377, 0.00029377, 0.00029377,\n",
       "       0.00088132, 0.00176263, 0.00293772, 0.00352526, 0.00558167,\n",
       "       0.00616921, 0.00822562, 0.00822562, 0.01028202, 0.01057579,\n",
       "       0.01086957, 0.01175088, 0.0126322 , 0.0126322 , 0.01380729,\n",
       "       0.01439483, 0.01586369, 0.01615746, 0.01645123, 0.01645123,\n",
       "       0.01703878, 0.01703878, 0.01792009, 0.01850764, 0.01968273,\n",
       "       0.02056404, 0.02115159, 0.02115159, 0.02144536, 0.0220329 ,\n",
       "       0.02232667, 0.02408931, 0.02438308, 0.02497062, 0.02497062,\n",
       "       0.02555817, 0.02585194, 0.02643948, 0.02702703, 0.02702703,\n",
       "       0.02820212, 0.02967098, 0.03525264, 0.0367215 , 0.03848414,\n",
       "       0.03965922, 0.04318449, 0.04817861, 0.05141011])"
      ]
     },
     "execution_count": 225,
     "metadata": {},
     "output_type": "execute_result"
    }
   ],
   "source": [
    "d = bster.get_score(importance_type='weight')\n",
    "ws = []\n",
    "for i in range(64):\n",
    "    try: \n",
    "        w = d['f%s'%i]\n",
    "    except KeyError:\n",
    "        w = 0\n",
    "    ws.append(w)\n",
    "ws = np.array(ws)\n",
    "ws = ws / ws.sum()\n",
    "ws.sort()\n",
    "ws"
   ]
  },
  {
   "cell_type": "markdown",
   "metadata": {},
   "source": [
    "In this case, one may  \n",
    "visualize the importance as an image."
   ]
  },
  {
   "cell_type": "code",
   "execution_count": 180,
   "metadata": {},
   "outputs": [
    {
     "data": {
      "text/plain": [
       "<matplotlib.image.AxesImage at 0x7f72edd395c0>"
      ]
     },
     "execution_count": 180,
     "metadata": {},
     "output_type": "execute_result"
    },
    {
     "data": {
      "image/png": "[encoded data removed]",
      "text/plain": [
       "<Figure size 432x288 with 1 Axes>"
      ]
     },
     "metadata": {},
     "output_type": "display_data"
    }
   ],
   "source": [
    "im8x8 = model.feature_importances_.reshape(8,8)\n",
    "plt.imshow(im8x8, cmap='Greys')"
   ]
  },
  {
   "cell_type": "code",
   "execution_count": 182,
   "metadata": {},
   "outputs": [
    {
     "data": {
      "text/plain": [
       "array([0.        , 0.00114382, 0.01747059, 0.01629768, 0.03485756,\n",
       "       0.0233235 , 0.00835793, 0.00456177, 0.        , 0.00711969,\n",
       "       0.01744325, 0.00516703, 0.01636559, 0.01206179, 0.01151827,\n",
       "       0.00015901, 0.        , 0.0098032 , 0.02595735, 0.03968846,\n",
       "       0.01821358, 0.08388599, 0.012967  , 0.        , 0.        ,\n",
       "       0.01115241, 0.05423742, 0.01866631, 0.01869862, 0.02013816,\n",
       "       0.01921635, 0.        , 0.        , 0.02991621, 0.01755355,\n",
       "       0.01376254, 0.04445621, 0.02193585, 0.03525393, 0.        ,\n",
       "       0.        , 0.01187334, 0.04711704, 0.04734038, 0.01831898,\n",
       "       0.01396361, 0.01922465, 0.        , 0.        , 0.00704469,\n",
       "       0.01466885, 0.01163219, 0.00932014, 0.01833797, 0.01783302,\n",
       "       0.0005904 , 0.        , 0.0014043 , 0.01742394, 0.00344345,\n",
       "       0.02727408, 0.01767659, 0.02077789, 0.00338385])"
      ]
     },
     "execution_count": 182,
     "metadata": {},
     "output_type": "execute_result"
    }
   ],
   "source": [
    "covers = np.array([df.Cover[df.Feature == 'f%s'%i].sum() for i in range(64)])\n",
    "covers = covers / covers.sum()\n",
    "covers"
   ]
  },
  {
   "cell_type": "code",
   "execution_count": 183,
   "metadata": {},
   "outputs": [
    {
     "data": {
      "text/plain": [
       "array([0.        , 0.04976973, 0.01267716, 0.00661055, 0.00583999,\n",
       "       0.03125682, 0.01363682, 0.08733138, 0.        , 0.0057889 ,\n",
       "       0.01410916, 0.00398867, 0.00827266, 0.01000091, 0.00280194,\n",
       "       0.00481134, 0.        , 0.00486748, 0.00554999, 0.03628401,\n",
       "       0.00852873, 0.04095206, 0.00434361, 0.        , 0.        ,\n",
       "       0.00563017, 0.02316677, 0.00694104, 0.01296786, 0.02211315,\n",
       "       0.01187706, 0.        , 0.        , 0.08654386, 0.00321986,\n",
       "       0.00697935, 0.04222421, 0.01231347, 0.03186822, 0.        ,\n",
       "       0.        , 0.0120804 , 0.0317903 , 0.04146388, 0.0141572 ,\n",
       "       0.02332503, 0.01448064, 0.        , 0.        , 0.00514344,\n",
       "       0.00426403, 0.0125551 , 0.01369224, 0.01253697, 0.02224253,\n",
       "       0.0001286 , 0.        , 0.00898507, 0.01836952, 0.00266445,\n",
       "       0.06220851, 0.00997267, 0.04532693, 0.02134559], dtype=float32)"
      ]
     },
     "execution_count": 183,
     "metadata": {},
     "output_type": "execute_result"
    }
   ],
   "source": [
    "model.feature_importances_"
   ]
  },
  {
   "cell_type": "code",
   "execution_count": 187,
   "metadata": {},
   "outputs": [
    {
     "data": {
      "text/plain": [
       "array([ 0, 56, 48, 47, 40, 39, 32, 24, 23, 16, 31,  8, 15, 55,  1, 57, 63,\n",
       "       59,  7, 11, 49,  9,  6, 52, 17, 25, 14, 51, 41, 13, 22, 35, 45, 50,\n",
       "        3, 12, 58, 10,  2, 34, 61, 54, 20, 44, 53, 27, 28, 30, 46, 29, 62,\n",
       "       37,  5, 18, 60, 33,  4, 38, 19, 36, 42, 43, 26, 21])"
      ]
     },
     "execution_count": 187,
     "metadata": {},
     "output_type": "execute_result"
    }
   ],
   "source": [
    "covers.argsort()"
   ]
  },
  {
   "cell_type": "code",
   "execution_count": 188,
   "metadata": {},
   "outputs": [
    {
     "data": {
      "text/plain": [
       "array([ 0, 56, 48, 47, 40, 39, 32, 24, 23, 16, 31,  8, 55, 59, 14, 34, 11,\n",
       "       50, 22, 15, 17, 49, 18, 25,  9,  4,  3, 27, 35, 12, 20, 57, 61, 13,\n",
       "       30, 41, 37, 53, 51,  2, 28,  6, 52, 10, 44, 46, 58, 63, 29, 54, 26,\n",
       "       45,  5, 42, 38, 19, 21, 43, 36, 62,  1, 60, 33,  7])"
      ]
     },
     "execution_count": 188,
     "metadata": {},
     "output_type": "execute_result"
    }
   ],
   "source": [
    "model.feature_importances_.argsort()"
   ]
  },
  {
   "cell_type": "code",
   "execution_count": 192,
   "metadata": {},
   "outputs": [
    {
     "data": {
      "text/plain": [
       "<matplotlib.axes._subplots.AxesSubplot at 0x7f72ed7df358>"
      ]
     },
     "execution_count": 192,
     "metadata": {},
     "output_type": "execute_result"
    },
    {
     "data": {
      "image/png": "[encoded data removed]",
      "text/plain": [
       "<Figure size 1152x1152 with 1 Axes>"
      ]
     },
     "metadata": {},
     "output_type": "display_data"
    }
   ],
   "source": [
    "fig = plt.figure(figsize=(16,16))\n",
    "ax = plt.gca()\n",
    "xgb.plot_importance(model, ax=ax)"
   ]
  },
  {
   "cell_type": "code",
   "execution_count": 193,
   "metadata": {},
   "outputs": [],
   "source": [
    "xgb.plot_importance??"
   ]
  },
  {
   "cell_type": "code",
   "execution_count": 194,
   "metadata": {},
   "outputs": [],
   "source": [
    "booster = model._Booster"
   ]
  },
  {
   "cell_type": "code",
   "execution_count": 197,
   "metadata": {},
   "outputs": [
    {
     "data": {
      "text/plain": [
       "{'f1': 6,\n",
       " 'f10': 70,\n",
       " 'f11': 21,\n",
       " 'f12': 85,\n",
       " 'f13': 82,\n",
       " 'f14': 28,\n",
       " 'f15': 1,\n",
       " 'f17': 43,\n",
       " 'f18': 131,\n",
       " 'f19': 96,\n",
       " 'f2': 76,\n",
       " 'f20': 92,\n",
       " 'f21': 175,\n",
       " 'f22': 40,\n",
       " 'f25': 37,\n",
       " 'f26': 164,\n",
       " 'f27': 125,\n",
       " 'f28': 61,\n",
       " 'f29': 73,\n",
       " 'f3': 49,\n",
       " 'f30': 47,\n",
       " 'f33': 56,\n",
       " 'f34': 83,\n",
       " 'f35': 54,\n",
       " 'f36': 135,\n",
       " 'f37': 58,\n",
       " 'f38': 67,\n",
       " 'f4': 90,\n",
       " 'f41': 28,\n",
       " 'f42': 147,\n",
       " 'f43': 120,\n",
       " 'f44': 92,\n",
       " 'f45': 75,\n",
       " 'f46': 56,\n",
       " 'f49': 10,\n",
       " 'f5': 101,\n",
       " 'f50': 85,\n",
       " 'f51': 87,\n",
       " 'f52': 58,\n",
       " 'f53': 88,\n",
       " 'f54': 63,\n",
       " 'f55': 1,\n",
       " 'f57': 1,\n",
       " 'f58': 72,\n",
       " 'f59': 19,\n",
       " 'f6': 35,\n",
       " 'f60': 55,\n",
       " 'f61': 72,\n",
       " 'f62': 43,\n",
       " 'f63': 12,\n",
       " 'f7': 3,\n",
       " 'f9': 36}"
      ]
     },
     "execution_count": 197,
     "metadata": {},
     "output_type": "execute_result"
    }
   ],
   "source": [
    "booster.get_score(importance_type='weight')"
   ]
  },
  {
   "cell_type": "code",
   "execution_count": 226,
   "metadata": {},
   "outputs": [],
   "source": [
    "model.feature_importances_?"
   ]
  },
  {
   "cell_type": "code",
   "execution_count": 227,
   "metadata": {},
   "outputs": [
    {
     "data": {
      "text/plain": [
       "XGBClassifier(base_score=0.5, booster=None, colsample_bylevel=1,\n",
       "       colsample_bynode=1, colsample_bytree=1, gamma=0, gpu_id=-1,\n",
       "       importance_type='gain', interaction_constraints=None,\n",
       "       learning_rate=0.300000012, max_delta_step=0, max_depth=6,\n",
       "       min_child_weight=1, missing=nan, monotone_constraints=None,\n",
       "       n_estimators=100, n_jobs=0, num_parallel_tree=1,\n",
       "       objective='multi:softprob', random_state=0, reg_alpha=0,\n",
       "       reg_lambda=1, scale_pos_weight=None, subsample=1, tree_method=None,\n",
       "       validate_parameters=False, verbosity=None)"
      ]
     },
     "execution_count": 227,
     "metadata": {},
     "output_type": "execute_result"
    }
   ],
   "source": [
    "model"
   ]
  },
  {
   "cell_type": "code",
   "execution_count": 228,
   "metadata": {},
   "outputs": [
    {
     "data": {
      "text/html": [
       "<div>\n",
       "<style scoped>\n",
       "    .dataframe tbody tr th:only-of-type {\n",
       "        vertical-align: middle;\n",
       "    }\n",
       "\n",
       "    .dataframe tbody tr th {\n",
       "        vertical-align: top;\n",
       "    }\n",
       "\n",
       "    .dataframe thead th {\n",
       "        text-align: right;\n",
       "    }\n",
       "</style>\n",
       "<table border=\"1\" class=\"dataframe\">\n",
       "  <thead>\n",
       "    <tr style=\"text-align: right;\">\n",
       "      <th></th>\n",
       "      <th>Tree</th>\n",
       "      <th>Node</th>\n",
       "      <th>ID</th>\n",
       "      <th>Feature</th>\n",
       "      <th>Split</th>\n",
       "      <th>Yes</th>\n",
       "      <th>No</th>\n",
       "      <th>Missing</th>\n",
       "      <th>Gain</th>\n",
       "      <th>Cover</th>\n",
       "    </tr>\n",
       "  </thead>\n",
       "  <tbody>\n",
       "    <tr>\n",
       "      <th>0</th>\n",
       "      <td>0</td>\n",
       "      <td>0</td>\n",
       "      <td>0-0</td>\n",
       "      <td>f36</td>\n",
       "      <td>0.5</td>\n",
       "      <td>0-1</td>\n",
       "      <td>0-2</td>\n",
       "      <td>0-1</td>\n",
       "      <td>423.462036</td>\n",
       "      <td>242.459991</td>\n",
       "    </tr>\n",
       "    <tr>\n",
       "      <th>1</th>\n",
       "      <td>0</td>\n",
       "      <td>1</td>\n",
       "      <td>0-1</td>\n",
       "      <td>f33</td>\n",
       "      <td>0.5</td>\n",
       "      <td>0-3</td>\n",
       "      <td>0-4</td>\n",
       "      <td>0-3</td>\n",
       "      <td>172.836395</td>\n",
       "      <td>38.699997</td>\n",
       "    </tr>\n",
       "    <tr>\n",
       "      <th>2</th>\n",
       "      <td>0</td>\n",
       "      <td>2</td>\n",
       "      <td>0-2</td>\n",
       "      <td>f36</td>\n",
       "      <td>3.5</td>\n",
       "      <td>0-5</td>\n",
       "      <td>0-6</td>\n",
       "      <td>0-5</td>\n",
       "      <td>0.850925</td>\n",
       "      <td>203.759995</td>\n",
       "    </tr>\n",
       "    <tr>\n",
       "      <th>3</th>\n",
       "      <td>0</td>\n",
       "      <td>3</td>\n",
       "      <td>0-3</td>\n",
       "      <td>f26</td>\n",
       "      <td>14.5</td>\n",
       "      <td>0-7</td>\n",
       "      <td>0-8</td>\n",
       "      <td>0-7</td>\n",
       "      <td>0.672976</td>\n",
       "      <td>10.440000</td>\n",
       "    </tr>\n",
       "    <tr>\n",
       "      <th>4</th>\n",
       "      <td>0</td>\n",
       "      <td>4</td>\n",
       "      <td>0-4</td>\n",
       "      <td>f6</td>\n",
       "      <td>1.5</td>\n",
       "      <td>0-9</td>\n",
       "      <td>0-10</td>\n",
       "      <td>0-9</td>\n",
       "      <td>44.691711</td>\n",
       "      <td>28.259998</td>\n",
       "    </tr>\n",
       "  </tbody>\n",
       "</table>\n",
       "</div>"
      ],
      "text/plain": [
       "   Tree  Node   ID Feature  Split  Yes    No Missing        Gain       Cover\n",
       "0     0     0  0-0     f36    0.5  0-1   0-2     0-1  423.462036  242.459991\n",
       "1     0     1  0-1     f33    0.5  0-3   0-4     0-3  172.836395   38.699997\n",
       "2     0     2  0-2     f36    3.5  0-5   0-6     0-5    0.850925  203.759995\n",
       "3     0     3  0-3     f26   14.5  0-7   0-8     0-7    0.672976   10.440000\n",
       "4     0     4  0-4      f6    1.5  0-9  0-10     0-9   44.691711   28.259998"
      ]
     },
     "execution_count": 228,
     "metadata": {},
     "output_type": "execute_result"
    }
   ],
   "source": [
    "model = xgb.XGBClassifier()\n",
    "model.fit(X_train, y_train)\n",
    "df = model._Booster.trees_to_dataframe()\n",
    "df.head()"
   ]
  },
  {
   "cell_type": "code",
   "execution_count": 232,
   "metadata": {},
   "outputs": [
    {
     "data": {
      "text/plain": [
       "XGBClassifier(base_score=0.5, booster=None, colsample_bylevel=1,\n",
       "       colsample_bynode=1, colsample_bytree=1, gamma=0, gpu_id=-1,\n",
       "       importance_type='weight', interaction_constraints=None,\n",
       "       learning_rate=0.300000012, max_delta_step=0, max_depth=6,\n",
       "       min_child_weight=1, missing=nan, monotone_constraints=None,\n",
       "       n_estimators=100, n_jobs=0, num_parallel_tree=1,\n",
       "       objective='multi:softprob', random_state=0, reg_alpha=0,\n",
       "       reg_lambda=1, scale_pos_weight=None, subsample=1, tree_method=None,\n",
       "       validate_parameters=False, verbosity=None)"
      ]
     },
     "execution_count": 232,
     "metadata": {},
     "output_type": "execute_result"
    }
   ],
   "source": [
    "model.set_params(importance_type='weight')"
   ]
  },
  {
   "cell_type": "code",
   "execution_count": 233,
   "metadata": {},
   "outputs": [
    {
     "data": {
      "text/plain": [
       "array([0.        , 0.        , 0.        , 0.        , 0.        ,\n",
       "       0.        , 0.        , 0.        , 0.        , 0.        ,\n",
       "       0.        , 0.        , 0.00029377, 0.00029377, 0.00029377,\n",
       "       0.00088132, 0.00176263, 0.00293772, 0.00352526, 0.00558167,\n",
       "       0.00616921, 0.00822562, 0.00822562, 0.01028202, 0.01057579,\n",
       "       0.01086957, 0.01175088, 0.0126322 , 0.0126322 , 0.01380729,\n",
       "       0.01439483, 0.01586369, 0.01615746, 0.01645123, 0.01645123,\n",
       "       0.01703878, 0.01703878, 0.01792009, 0.01850764, 0.01968273,\n",
       "       0.02056404, 0.02115159, 0.02115159, 0.02144536, 0.0220329 ,\n",
       "       0.02232667, 0.02408931, 0.02438308, 0.02497062, 0.02497062,\n",
       "       0.02555817, 0.02585194, 0.02643948, 0.02702703, 0.02702703,\n",
       "       0.02820211, 0.02967098, 0.03525265, 0.03672151, 0.03848414,\n",
       "       0.03965922, 0.04318449, 0.04817861, 0.05141011], dtype=float32)"
      ]
     },
     "execution_count": 233,
     "metadata": {},
     "output_type": "execute_result"
    }
   ],
   "source": [
    "f = model.feature_importances_\n",
    "f.sort()\n",
    "f"
   ]
  },
  {
   "cell_type": "code",
   "execution_count": 271,
   "metadata": {},
   "outputs": [
    {
     "data": {
      "text/plain": [
       "array([0.        , 0.        , 0.        , 0.        , 0.        ,\n",
       "       0.        , 0.        , 0.        , 0.        , 0.        ,\n",
       "       0.        , 0.        , 0.0001286 , 0.00266445, 0.00280194,\n",
       "       0.00321986, 0.00398867, 0.00426403, 0.00434361, 0.00481134,\n",
       "       0.00486748, 0.00514344, 0.00554999, 0.00563017, 0.0057889 ,\n",
       "       0.00583999, 0.00661055, 0.00694104, 0.00697935, 0.00827266,\n",
       "       0.00852873, 0.00898507, 0.00997267, 0.01000091, 0.01187706,\n",
       "       0.0120804 , 0.01231346, 0.01253697, 0.0125551 , 0.01267716,\n",
       "       0.01296786, 0.01363682, 0.01369224, 0.01410916, 0.0141572 ,\n",
       "       0.01448064, 0.01836952, 0.02134559, 0.02211315, 0.02224253,\n",
       "       0.02316677, 0.02332503, 0.03125682, 0.0317903 , 0.03186822,\n",
       "       0.03628401, 0.04095207, 0.04146388, 0.0422242 , 0.04532692,\n",
       "       0.04976973, 0.06220851, 0.08654386, 0.08733139])"
      ]
     },
     "execution_count": 271,
     "metadata": {},
     "output_type": "execute_result"
    }
   ],
   "source": [
    "d = bster.get_score(importance_type='gain')\n",
    "ws = []\n",
    "for i in range(64):\n",
    "    try: \n",
    "        w = d['f%s'%i]\n",
    "    except KeyError:\n",
    "        w = 0\n",
    "    ws.append(w)\n",
    "ws = np.array(ws)\n",
    "ws = ws / ws.sum()\n",
    "ws.sort()\n",
    "ws"
   ]
  },
  {
   "cell_type": "code",
   "execution_count": 272,
   "metadata": {},
   "outputs": [
    {
     "data": {
      "text/plain": [
       "array([0.        , 0.        , 0.        , 0.        , 0.        ,\n",
       "       0.        , 0.        , 0.        , 0.        , 0.        ,\n",
       "       0.        , 0.        , 0.0001286 , 0.00266445, 0.00280194,\n",
       "       0.00321986, 0.00398867, 0.00426403, 0.00434361, 0.00481134,\n",
       "       0.00486748, 0.00514344, 0.00554999, 0.00563017, 0.0057889 ,\n",
       "       0.00583999, 0.00661055, 0.00694104, 0.00697935, 0.00827266,\n",
       "       0.00852873, 0.00898507, 0.00997267, 0.01000091, 0.01187706,\n",
       "       0.0120804 , 0.01231346, 0.01253697, 0.0125551 , 0.01267716,\n",
       "       0.01296786, 0.01363682, 0.01369224, 0.01410916, 0.0141572 ,\n",
       "       0.01448064, 0.01836952, 0.02134559, 0.02211315, 0.02224253,\n",
       "       0.02316677, 0.02332503, 0.03125682, 0.0317903 , 0.03186822,\n",
       "       0.03628401, 0.04095207, 0.04146388, 0.0422242 , 0.04532692,\n",
       "       0.04976973, 0.06220851, 0.08654386, 0.08733139])"
      ]
     },
     "execution_count": 272,
     "metadata": {},
     "output_type": "execute_result"
    }
   ],
   "source": [
    "g = np.array([df.Gain[df.Feature == 'f%s'%i].mean() for i in range(64)])\n",
    "g = np.nan_to_num(g)\n",
    "g = g / g.sum()\n",
    "g.sort()\n",
    "g"
   ]
  },
  {
   "cell_type": "code",
   "execution_count": 247,
   "metadata": {},
   "outputs": [],
   "source": [
    "a = [df.Gain[df.Feature == 'f%s'%i] for i in range(64)]"
   ]
  },
  {
   "cell_type": "code",
   "execution_count": 250,
   "metadata": {},
   "outputs": [
    {
     "data": {
      "text/plain": [
       "0.9664046911214437"
      ]
     },
     "execution_count": 250,
     "metadata": {},
     "output_type": "execute_result"
    }
   ],
   "source": [
    "a[4].mean()"
   ]
  },
  {
   "cell_type": "code",
   "execution_count": 255,
   "metadata": {},
   "outputs": [],
   "source": [
    "g[ g == np.nan] = 0"
   ]
  },
  {
   "cell_type": "code",
   "execution_count": 260,
   "metadata": {},
   "outputs": [
    {
     "data": {
      "text/plain": [
       "array([        nan,  8.23592221,  2.09782314,  1.09391788,  0.96640469,\n",
       "        5.17239608,  2.2566283 , 14.45164693,         nan,  0.95794989,\n",
       "        2.33479104,  0.66004775,  1.36896386,  1.6549554 ,  0.46366709,\n",
       "        0.79618353,         nan,  0.80547306,  0.91841475,  6.00429889,\n",
       "        1.41133842,  6.77677081,  0.71878286,         nan,         nan,\n",
       "        0.9316844 ,  3.83364933,  1.14860781,  2.14592923,  3.65929675,\n",
       "        1.96542238,         nan,         nan, 14.32132618,  0.53282444,\n",
       "        1.15494756,  6.98728504,  2.03763908,  5.27357106,         nan,\n",
       "               nan,  1.99907124,  5.26067696,  6.86146594,  2.34274134,\n",
       "        3.85983947,  2.39626414,         nan,         nan,  0.85113889,\n",
       "        0.70561387,  2.07762466,  2.26580007,  2.07462435,  3.68070574,\n",
       "        0.02128029,         nan,  1.48685455,  3.03979826,  0.44091474,\n",
       "       10.29429885,  1.65028311,  7.50072466,  3.53228047])"
      ]
     },
     "execution_count": 260,
     "metadata": {},
     "output_type": "execute_result"
    }
   ],
   "source": [
    "g"
   ]
  },
  {
   "cell_type": "code",
   "execution_count": 262,
   "metadata": {},
   "outputs": [
    {
     "data": {
      "text/plain": [
       "numpy.float64"
      ]
     },
     "execution_count": 262,
     "metadata": {},
     "output_type": "execute_result"
    }
   ],
   "source": [
    "type(g[0])"
   ]
  },
  {
   "cell_type": "code",
   "execution_count": 264,
   "metadata": {},
   "outputs": [],
   "source": [
    "g.sum?"
   ]
  },
  {
   "cell_type": "code",
   "execution_count": 265,
   "metadata": {},
   "outputs": [],
   "source": [
    "np.sum?"
   ]
  },
  {
   "cell_type": "code",
   "execution_count": 269,
   "metadata": {},
   "outputs": [
    {
     "data": {
      "text/plain": [
       "array([ 0.        ,  8.23592221,  2.09782314,  1.09391788,  0.96640469,\n",
       "        5.17239608,  2.2566283 , 14.45164693,  0.        ,  0.95794989,\n",
       "        2.33479104,  0.66004775,  1.36896386,  1.6549554 ,  0.46366709,\n",
       "        0.79618353,  0.        ,  0.80547306,  0.91841475,  6.00429889,\n",
       "        1.41133842,  6.77677081,  0.71878286,  0.        ,  0.        ,\n",
       "        0.9316844 ,  3.83364933,  1.14860781,  2.14592923,  3.65929675,\n",
       "        1.96542238,  0.        ,  0.        , 14.32132618,  0.53282444,\n",
       "        1.15494756,  6.98728504,  2.03763908,  5.27357106,  0.        ,\n",
       "        0.        ,  1.99907124,  5.26067696,  6.86146594,  2.34274134,\n",
       "        3.85983947,  2.39626414,  0.        ,  0.        ,  0.85113889,\n",
       "        0.70561387,  2.07762466,  2.26580007,  2.07462435,  3.68070574,\n",
       "        0.02128029,  0.        ,  1.48685455,  3.03979826,  0.44091474,\n",
       "       10.29429885,  1.65028311,  7.50072466,  3.53228047])"
      ]
     },
     "execution_count": 269,
     "metadata": {},
     "output_type": "execute_result"
    }
   ],
   "source": [
    "np.nan_to_num(g)"
   ]
  },
  {
   "cell_type": "code",
   "execution_count": null,
   "metadata": {},
   "outputs": [],
   "source": []
  }
 ],
 "metadata": {
  "kernelspec": {
   "display_name": "Python 3",
   "language": "python",
   "name": "python3"
  },
  "language_info": {
   "codemirror_mode": {
    "name": "ipython",
    "version": 3
   },
   "file_extension": ".py",
   "mimetype": "text/x-python",
   "name": "python",
   "nbconvert_exporter": "python",
   "pygments_lexer": "ipython3",
   "version": "3.6.9"
  }
 },
 "nbformat": 4,
 "nbformat_minor": 2
}
