{
 "cells": [
  {
   "cell_type": "markdown",
   "id": "cb6ce81c",
   "metadata": {},
   "source": [
    "# NLP: pandas basics"
   ]
  },
  {
   "cell_type": "markdown",
   "id": "947a36a6",
   "metadata": {},
   "source": [
    "![Creative Commons License](https://i.creativecommons.org/l/by/4.0/88x31.png)  \n",
    "This work by Jephian Lin is licensed under a [Creative Commons Attribution 4.0 International License](http://creativecommons.org/licenses/by/4.0/)."
   ]
  },
  {
   "cell_type": "markdown",
   "id": "b1842d36",
   "metadata": {},
   "source": [
    "### Better display format"
   ]
  },
  {
   "cell_type": "markdown",
   "id": "8c6a0024",
   "metadata": {},
   "source": [
    "### DataFrame"
   ]
  },
  {
   "cell_type": "code",
   "execution_count": null,
   "id": "faf281c7",
   "metadata": {},
   "outputs": [],
   "source": [
    "construction: dict of Sers, Ser of \n",
    "selection: loc, iloc"
   ]
  },
  {
   "cell_type": "markdown",
   "id": "e1a0a24d",
   "metadata": {},
   "source": [
    "### Index and columns"
   ]
  },
  {
   "cell_type": "code",
   "execution_count": null,
   "id": "d3cbbe4b",
   "metadata": {},
   "outputs": [],
   "source": [
    "how to set them"
   ]
  },
  {
   "cell_type": "markdown",
   "id": "19433ccb",
   "metadata": {},
   "source": [
    "### Selection and slicing"
   ]
  },
  {
   "cell_type": "code",
   "execution_count": null,
   "id": "97d033e4",
   "metadata": {},
   "outputs": [],
   "source": [
    "assign value, change column"
   ]
  },
  {
   "cell_type": "markdown",
   "id": "e2288dc8",
   "metadata": {},
   "source": [
    "### Groupby and apply"
   ]
  },
  {
   "cell_type": "markdown",
   "id": "687cb3a0",
   "metadata": {},
   "source": []
  },
  {
   "cell_type": "markdown",
   "id": "5cbf7f8d",
   "metadata": {},
   "source": [
    "### Visualization"
   ]
  },
  {
   "cell_type": "code",
   "execution_count": null,
   "id": "75e073a6",
   "metadata": {},
   "outputs": [],
   "source": []
  }
 ],
 "metadata": {
  "kernelspec": {
   "display_name": "Python 3 (ipykernel)",
   "language": "python",
   "name": "python3"
  },
  "language_info": {
   "codemirror_mode": {
    "name": "ipython",
    "version": 3
   },
   "file_extension": ".py",
   "mimetype": "text/x-python",
   "name": "python",
   "nbconvert_exporter": "python",
   "pygments_lexer": "ipython3",
   "version": "3.11.3"
  }
 },
 "nbformat": 4,
 "nbformat_minor": 5
}
