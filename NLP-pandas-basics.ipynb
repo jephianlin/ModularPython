{
 "cells": [
  {
   "cell_type": "markdown",
   "id": "cb6ce81c",
   "metadata": {},
   "source": [
    "# NLP: pandas basics"
   ]
  },
  {
   "cell_type": "markdown",
   "id": "947a36a6",
   "metadata": {},
   "source": [
    "![Creative Commons License](https://i.creativecommons.org/l/by/4.0/88x31.png)  \n",
    "This work by Jephian Lin is licensed under a [Creative Commons Attribution 4.0 International License](http://creativecommons.org/licenses/by/4.0/)."
   ]
  },
  {
   "cell_type": "code",
   "execution_count": null,
   "id": "4352e573",
   "metadata": {},
   "outputs": [],
   "source": [
    "import numpy as np\n",
    "import pandas as pd"
   ]
  },
  {
   "cell_type": "markdown",
   "id": "b1842d36",
   "metadata": {},
   "source": [
    "### Better display format"
   ]
  },
  {
   "cell_type": "code",
   "execution_count": null,
   "id": "62e5149e",
   "metadata": {},
   "outputs": [],
   "source": [
    "import nltk\n",
    "nltk.download('inaugural')\n",
    "\n",
    "from nltk.corpus import inaugural"
   ]
  },
  {
   "cell_type": "code",
   "execution_count": null,
   "id": "24f6d6a6",
   "metadata": {},
   "outputs": [],
   "source": [
    "files = inaugural.fileids()\n",
    "texts = [inaugural.raw(file) for file in files]"
   ]
  },
  {
   "cell_type": "code",
   "execution_count": null,
   "id": "8189f980",
   "metadata": {},
   "outputs": [],
   "source": [
    "print(len(files))\n",
    "files[-10:] # print last few files"
   ]
  },
  {
   "cell_type": "code",
   "execution_count": null,
   "id": "fd5ae5d8",
   "metadata": {},
   "outputs": [],
   "source": [
    "inaugural.raw(files[-1])"
   ]
  },
  {
   "cell_type": "code",
   "execution_count": null,
   "id": "222fca7f",
   "metadata": {},
   "outputs": [],
   "source": [
    "# ignore the last 4 characters \".txt\"\n",
    "years = [file[:-4].split(\"-\")[0] for file in files]\n",
    "presidents = [file[:-4].split(\"-\")[1] for file in files]\n",
    "print(years[-10:]) # print last few files\n",
    "print(presidents[-10:]) # print last few files"
   ]
  },
  {
   "cell_type": "code",
   "execution_count": null,
   "id": "792af7df",
   "metadata": {},
   "outputs": [],
   "source": [
    "df = pd.DataFrame({\n",
    "    \"year\": years,\n",
    "    \"president\": presidents,\n",
    "    \"file\": files,\n",
    "    \"text\": texts\n",
    "})\n",
    "df.set_index(\"year\", inplace=True)\n",
    "df.tail() # print last few files"
   ]
  },
  {
   "cell_type": "code",
   "execution_count": null,
   "id": "1dd7a8ac",
   "metadata": {},
   "outputs": [],
   "source": [
    "df[\"length\"] = df.text.str.split().str.len()\n",
    "df.tail() # print last few files"
   ]
  },
  {
   "cell_type": "code",
   "execution_count": null,
   "id": "f0a6f8ff",
   "metadata": {},
   "outputs": [],
   "source": [
    "df.length.plot(hover_data={'president': df.president}, backend='plotly')"
   ]
  },
  {
   "cell_type": "code",
   "execution_count": null,
   "id": "05e64f19",
   "metadata": {},
   "outputs": [],
   "source": [
    "i = df.length.argmax()\n",
    "print(df.iloc[i])"
   ]
  },
  {
   "cell_type": "markdown",
   "id": "8c6a0024",
   "metadata": {},
   "source": [
    "### DataFrame"
   ]
  },
  {
   "cell_type": "markdown",
   "id": "8a9cac6c",
   "metadata": {},
   "source": [
    "The pandas package can be viewed as a powerful Excel.  It loses the graphic user interface, but its much more flexible and efficient --- which is a fair compromise.  In pandas, it uses `Series` for list data and `DataFrame` for table data.  "
   ]
  },
  {
   "cell_type": "markdown",
   "id": "4647e892",
   "metadata": {},
   "source": [
    "A `Series` is a list with index."
   ]
  },
  {
   "cell_type": "code",
   "execution_count": null,
   "id": "bfe21f10",
   "metadata": {},
   "outputs": [],
   "source": [
    "years = list(range(1911, 2030))\n",
    "y2z = [\"rat\", \"ox\", \"tiger\", \"rabbit\", \"dragon\", \"snake\", \"horse\", \"goat\", \"monkey\", \"rooster\", \"dog\", \"pig\"]\n",
    "zodiac = [y2z[(y - 1912) % 12] for y in years]\n",
    "Z = pd.Series(zodiac, index=years)\n",
    "Z"
   ]
  },
  {
   "cell_type": "markdown",
   "id": "1982432b",
   "metadata": {},
   "source": [
    "A `DataFrame` is \n",
    "\n",
    "- a dictionary of `Series` (columns), or \n",
    "- a list of lists (rows).\n",
    "\n",
    "Recall the example.  \n",
    "\n",
    "| student \\ subject | A | B | C | D | E | decision | comments |\n",
    "|----|----|----|----|----|----|----|----|\n",
    "| 1 | 10 | 10 | 10 | 10 | 10 | accept | good |\n",
    "| 2 | 10 | 10 | 10 | 10 | 0 | accept | so so |\n",
    "| 3 | 0 | 0 | 15 | 0 | 0 | decline | need improvement |"
   ]
  },
  {
   "cell_type": "code",
   "execution_count": null,
   "id": "bda9f22a",
   "metadata": {},
   "outputs": [],
   "source": [
    "cht = [10, 10, 0]\n",
    "eng = [10, 10, 15]\n",
    "math = [10, 10, 15]\n",
    "nsci = [10, 10, 0]\n",
    "ssci = [10, 0, 0]\n",
    "df = pd.DataFrame({\n",
    "    \"Chinese\": cht, \n",
    "    \"English\": eng, \n",
    "    \"Math\": math, \n",
    "    \"N. Science\": nsci, \n",
    "    \"S. Science\": ssci\n",
    "})\n",
    "df"
   ]
  },
  {
   "cell_type": "code",
   "execution_count": null,
   "id": "3771978a",
   "metadata": {},
   "outputs": [],
   "source": [
    "arr = [[10, 10, 10, 10, 10], \n",
    "       [10, 10, 10, 10, 0], \n",
    "       [0, 0, 15, 0, 0]]\n",
    "df = pd.DataFrame(arr)\n",
    "df"
   ]
  },
  {
   "cell_type": "markdown",
   "id": "e1a0a24d",
   "metadata": {},
   "source": [
    "### Index and columns"
   ]
  },
  {
   "cell_type": "markdown",
   "id": "eea4b626",
   "metadata": {},
   "source": [
    "The names of the rows are stored in `df.index` , while the names of the columns are stored in `df.columns' ."
   ]
  },
  {
   "cell_type": "code",
   "execution_count": null,
   "id": "d3cbbe4b",
   "metadata": {},
   "outputs": [],
   "source": [
    "arr = [[10, 10, 10, 10, 10], \n",
    "       [10, 10, 10, 10, 0], \n",
    "       [0, 0, 15, 0, 0]]\n",
    "df = pd.DataFrame(arr)\n",
    "df.index = [\"Amy\", \"Bill\", \"Charles\"]\n",
    "df.columns =  [\"Chinese\", \"English\", \"Math\", \"N. Science\", \"S. Science\"]\n",
    "df"
   ]
  },
  {
   "cell_type": "markdown",
   "id": "59c0a3a0",
   "metadata": {},
   "source": [
    "Adding a new column is easy."
   ]
  },
  {
   "cell_type": "code",
   "execution_count": null,
   "id": "f0b4e07d",
   "metadata": {},
   "outputs": [],
   "source": [
    "df[\"decision\"] = [\"accept\", \"accept\", \"decline\"]\n",
    "df[\"comments\"] = [\"good\", \"so so\", \"need improvement\"]\n",
    "df"
   ]
  },
  {
   "cell_type": "markdown",
   "id": "19433ccb",
   "metadata": {},
   "source": [
    "### Selection and slicing"
   ]
  },
  {
   "cell_type": "code",
   "execution_count": null,
   "id": "d616b9b1",
   "metadata": {},
   "outputs": [],
   "source": [
    "arr = [[10, 10, 10, 10, 10], \n",
    "       [10, 10, 10, 10, 0], \n",
    "       [0, 0, 15, 0, 0]]\n",
    "df = pd.DataFrame(arr)\n",
    "df.index = [\"Amy\", \"Bill\", \"Charles\"]\n",
    "df.columns =  [\"Chinese\", \"English\", \"Math\", \"N. Science\", \"S. Science\"]\n",
    "df[\"decision\"] = [\"accept\", \"accept\", \"decline\"]\n",
    "df[\"comments\"] = [\"good\", \"so so\", \"need improvement\"]\n",
    "df"
   ]
  },
  {
   "cell_type": "markdown",
   "id": "34582889",
   "metadata": {},
   "source": [
    "Each row or column has a numerical index and a name.  For the numerical index, use `df.iloc` to select the entry, while for the name, use `df.loc` instead."
   ]
  },
  {
   "cell_type": "code",
   "execution_count": null,
   "id": "cc15a8b1",
   "metadata": {},
   "outputs": [],
   "source": [
    "df.loc['Bill']"
   ]
  },
  {
   "cell_type": "code",
   "execution_count": null,
   "id": "4da66090",
   "metadata": {},
   "outputs": [],
   "source": [
    "df.iloc[1]"
   ]
  },
  {
   "cell_type": "markdown",
   "id": "501d75bd",
   "metadata": {},
   "source": [
    "The idea of slicing in NumPy also works in pandas.  In addition, it allows you to slice by names."
   ]
  },
  {
   "cell_type": "code",
   "execution_count": null,
   "id": "9f28e503",
   "metadata": {},
   "outputs": [],
   "source": [
    "df.loc[:, \"Chinese\":\"S. Science\"]"
   ]
  },
  {
   "cell_type": "markdown",
   "id": "79210e15",
   "metadata": {},
   "source": [
    "Instead of `df.iloc[:,i]` , getting a column is easy."
   ]
  },
  {
   "cell_type": "code",
   "execution_count": null,
   "id": "7e15dd9e",
   "metadata": {},
   "outputs": [],
   "source": [
    "df[\"decision\"]"
   ]
  },
  {
   "cell_type": "code",
   "execution_count": null,
   "id": "51b9a657",
   "metadata": {},
   "outputs": [],
   "source": [
    "df.decision"
   ]
  },
  {
   "cell_type": "markdown",
   "id": "e2288dc8",
   "metadata": {},
   "source": [
    "### Groupby and apply"
   ]
  },
  {
   "cell_type": "code",
   "execution_count": null,
   "id": "1f061158",
   "metadata": {},
   "outputs": [],
   "source": [
    "arr = [[10, 10, 10, 10, 10], \n",
    "       [10, 10, 10, 10, 0], \n",
    "       [0, 0, 15, 0, 0]]\n",
    "df = pd.DataFrame(arr)\n",
    "df.index = [\"Amy\", \"Bill\", \"Charles\"]\n",
    "df.columns =  [\"Chinese\", \"English\", \"Math\", \"N. Science\", \"S. Science\"]\n",
    "df[\"decision\"] = [\"accept\", \"accept\", \"decline\"]\n",
    "df[\"comments\"] = [\"good\", \"so so\", \"need improvement\"]\n",
    "df"
   ]
  },
  {
   "cell_type": "markdown",
   "id": "fa73d1a5",
   "metadata": {},
   "source": [
    "There are several ways to manipulate the data to extract new features.  "
   ]
  },
  {
   "cell_type": "code",
   "execution_count": null,
   "id": "fdcff1c4",
   "metadata": {},
   "outputs": [],
   "source": [
    "df[\"total\"] = df.loc[:,\"Chinese\":\"S. Science\"].sum(axis=1)\n",
    "df"
   ]
  },
  {
   "cell_type": "code",
   "execution_count": null,
   "id": "75e073a6",
   "metadata": {},
   "outputs": [],
   "source": [
    "df[\"w. total\"] = df[\"Chinese\"] + 2*df[\"English\"] + 2*df[\"Math\"] + 2*df[\"N. Science\"]\n",
    "df"
   ]
  },
  {
   "cell_type": "markdown",
   "id": "49eac2d3",
   "metadata": {},
   "source": [
    "If there are no appropriate built-in function for your purpose or the function is too complicated, you may use `apply` to apply a function to the data."
   ]
  },
  {
   "cell_type": "code",
   "execution_count": null,
   "id": "85daf3dc",
   "metadata": {},
   "outputs": [],
   "source": [
    "df[\"pre-decision\"] = df[\"w. total\"].apply(lambda k: \"accept\" if k >= 60 else \"decline\")\n",
    "df"
   ]
  },
  {
   "cell_type": "markdown",
   "id": "4e969cff",
   "metadata": {},
   "source": [
    "Lastly, you may group the data by the values of some column and get collective information.  \n",
    "\n",
    "    groupby = split + apply + combine"
   ]
  },
  {
   "cell_type": "code",
   "execution_count": null,
   "id": "0dd63d5a",
   "metadata": {},
   "outputs": [],
   "source": [
    "df.loc[:,\"Chinese\":\"decision\"].groupby(\"decision\").mean()"
   ]
  },
  {
   "cell_type": "markdown",
   "id": "5cbf7f8d",
   "metadata": {},
   "source": [
    "### NLP task: find themes in each centrury"
   ]
  },
  {
   "cell_type": "markdown",
   "id": "10565e73",
   "metadata": {},
   "source": [
    "Let's try to find the most frequent words in the inaugural addresses in each period of times."
   ]
  },
  {
   "cell_type": "code",
   "execution_count": null,
   "id": "fa0c381e",
   "metadata": {},
   "outputs": [],
   "source": [
    "import nltk\n",
    "nltk.download('inaugural')\n",
    "\n",
    "from nltk.corpus import inaugural\n",
    "\n",
    "files = inaugural.fileids()\n",
    "texts = [inaugural.raw(file) for file in files]\n",
    "years = [file[:-4].split(\"-\")[0] for file in files]\n",
    "presidents = [file[:-4].split(\"-\")[1] for file in files]\n",
    "df = pd.DataFrame({\n",
    "    \"year\": years,\n",
    "    \"president\": presidents,\n",
    "    \"file\": files,\n",
    "    \"text\": texts\n",
    "})\n",
    "df.set_index(\"year\", inplace=True)\n",
    "df.tail() # print last few files"
   ]
  },
  {
   "cell_type": "code",
   "execution_count": null,
   "id": "2c5d4408",
   "metadata": {},
   "outputs": [],
   "source": [
    "from sklearn.feature_extraction.text import CountVectorizer\n",
    "cvec = CountVectorizer(stop_words='english')\n",
    "X = cvec.fit_transform(df.text).toarray()\n",
    "X.shape"
   ]
  },
  {
   "cell_type": "code",
   "execution_count": null,
   "id": "f80c7ba3",
   "metadata": {},
   "outputs": [],
   "source": [
    "keywords_indices = X.argpartition(-5, axis=1)[:,-5:]\n",
    "keywords_indices[-5:,:] # print last few files"
   ]
  },
  {
   "cell_type": "code",
   "execution_count": null,
   "id": "9a649e1a",
   "metadata": {},
   "outputs": [],
   "source": [
    "keywords = cvec.get_feature_names_out()[keywords_indices]\n",
    "keywords_list = [list(k) for k in keywords]\n",
    "df[\"keywords\"] = keywords_list\n",
    "df.tail() # print last few files"
   ]
  },
  {
   "cell_type": "code",
   "execution_count": null,
   "id": "b920b1a4",
   "metadata": {},
   "outputs": [],
   "source": [
    "df[\"five-year\"] = df.index.to_series().astype(int) // 10 * 10\n",
    "df.tail() # print last few files"
   ]
  },
  {
   "cell_type": "code",
   "execution_count": null,
   "id": "e5e7fa33",
   "metadata": {},
   "outputs": [],
   "source": [
    "df.loc[:, \"keywords\":\"five-year\"].groupby(\"five-year\").sum()"
   ]
  },
  {
   "cell_type": "markdown",
   "id": "1720ca27",
   "metadata": {},
   "source": [
    "### Further reading"
   ]
  },
  {
   "cell_type": "markdown",
   "id": "8877b517",
   "metadata": {},
   "source": [
    "- [_Python Data Science Handbook_](https://jakevdp.github.io/PythonDataScienceHandbook/) by Jake VanderPlas"
   ]
  }
 ],
 "metadata": {
  "kernelspec": {
   "display_name": "Python 3 (ipykernel)",
   "language": "python",
   "name": "python3"
  },
  "language_info": {
   "codemirror_mode": {
    "name": "ipython",
    "version": 3
   },
   "file_extension": ".py",
   "mimetype": "text/x-python",
   "name": "python",
   "nbconvert_exporter": "python",
   "pygments_lexer": "ipython3",
   "version": "3.11.3"
  }
 },
 "nbformat": 4,
 "nbformat_minor": 5
}
