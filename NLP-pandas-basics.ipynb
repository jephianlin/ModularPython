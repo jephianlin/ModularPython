{
 "cells": [
  {
   "cell_type": "markdown",
   "id": "cb6ce81c",
   "metadata": {},
   "source": [
    "# NLP: pandas basics"
   ]
  },
  {
   "cell_type": "markdown",
   "id": "947a36a6",
   "metadata": {},
   "source": [
    "![Creative Commons License](https://i.creativecommons.org/l/by/4.0/88x31.png)  \n",
    "This work by Jephian Lin is licensed under a [Creative Commons Attribution 4.0 International License](http://creativecommons.org/licenses/by/4.0/)."
   ]
  },
  {
   "cell_type": "code",
   "execution_count": null,
   "id": "b284286b",
   "metadata": {},
   "outputs": [],
   "source": [
    "import numpy as np\n",
    "import pandas as pd"
   ]
  },
  {
   "cell_type": "markdown",
   "id": "b1842d36",
   "metadata": {},
   "source": [
    "### Better display format"
   ]
  },
  {
   "cell_type": "code",
   "execution_count": null,
   "id": "ea37f040",
   "metadata": {},
   "outputs": [],
   "source": [
    "import nltk\n",
    "nltk.download('inaugural')\n",
    "\n",
    "from nltk.corpus import inaugural"
   ]
  },
  {
   "cell_type": "code",
   "execution_count": null,
   "id": "b9407a60",
   "metadata": {},
   "outputs": [],
   "source": [
    "files = inaugural.fileids()\n",
    "texts = [inaugural.raw(file) for file in files]"
   ]
  },
  {
   "cell_type": "code",
   "execution_count": null,
   "id": "a83f2f18",
   "metadata": {},
   "outputs": [],
   "source": [
    "print(len(files))\n",
    "files[-10:] # print last few files"
   ]
  },
  {
   "cell_type": "code",
   "execution_count": null,
   "id": "4f3a181a",
   "metadata": {},
   "outputs": [],
   "source": [
    "inaugural.raw(files[-1])"
   ]
  },
  {
   "cell_type": "code",
   "execution_count": null,
   "id": "fc540e76",
   "metadata": {},
   "outputs": [],
   "source": [
    "# ignore the last 4 characters \".txt\"\n",
    "years = [file[:-4].split(\"-\")[0] for file in files]\n",
    "presidents = [file[:-4].split(\"-\")[1] for file in files]\n",
    "print(years[-10:]) # print last few files\n",
    "print(presidents[-10:]) # print last few files"
   ]
  },
  {
   "cell_type": "code",
   "execution_count": null,
   "id": "2b9e47e7",
   "metadata": {},
   "outputs": [],
   "source": [
    "df = pd.DataFrame({\n",
    "    \"year\": years,\n",
    "    \"president\": presidents,\n",
    "    \"file\": files,\n",
    "    \"text\": texts\n",
    "})\n",
    "df.set_index(\"year\", inplace=True)\n",
    "df.tail() # print last few files"
   ]
  },
  {
   "cell_type": "code",
   "execution_count": null,
   "id": "af914b06",
   "metadata": {},
   "outputs": [],
   "source": [
    "df[\"length\"] = df.text.str.split().str.len()\n",
    "df.tail() # print last few files"
   ]
  },
  {
   "cell_type": "code",
   "execution_count": null,
   "id": "f714d876",
   "metadata": {},
   "outputs": [],
   "source": [
    "df.length.plot(figsize=(10,3))"
   ]
  },
  {
   "cell_type": "code",
   "execution_count": null,
   "id": "4f65fe8c",
   "metadata": {},
   "outputs": [],
   "source": [
    "i = df.length.argmax()\n",
    "print(df.iloc[i])"
   ]
  },
  {
   "cell_type": "markdown",
   "id": "8c6a0024",
   "metadata": {},
   "source": [
    "### DataFrame"
   ]
  },
  {
   "cell_type": "markdown",
   "id": "3d18d054",
   "metadata": {},
   "source": [
    "The pandas package can be viewed as a powerful Excel.  It loses the graphic user interface, but its much more flexible and efficient --- which is a fair compromise.  In pandas, it uses `Series` for list data and `DataFrame` for table data.  "
   ]
  },
  {
   "cell_type": "markdown",
   "id": "1eb15726",
   "metadata": {},
   "source": [
    "A `Series` is a list with index."
   ]
  },
  {
   "cell_type": "code",
   "execution_count": null,
   "id": "e6961704",
   "metadata": {},
   "outputs": [],
   "source": [
    "years = list(range(2000, 2030))\n",
    "y2z = [\"rat\", \"ox\", \"tiger\", \"rabbit\", \"dragon\", \"snake\", \"horse\", \"goat\", \"monkey\", \"rooster\", \"dog\", \"pig\"]\n",
    "zodiac = [y2z[(y - 1912) % 12] for y in years]\n",
    "Z = pd.Series(zodiac, index=years)\n",
    "Z"
   ]
  },
  {
   "cell_type": "markdown",
   "id": "821512d0",
   "metadata": {},
   "source": [
    "A `DataFrame` is \n",
    "\n",
    "- a dictionary of `Series` (columns), or \n",
    "- a list of lists (rows)."
   ]
  },
  {
   "cell_type": "code",
   "execution_count": null,
   "id": "faf281c7",
   "metadata": {},
   "outputs": [],
   "source": [
    "construction: dict of Sers, Ser of \n",
    "selection: loc, iloc"
   ]
  },
  {
   "cell_type": "markdown",
   "id": "e1a0a24d",
   "metadata": {},
   "source": [
    "### Index and columns"
   ]
  },
  {
   "cell_type": "code",
   "execution_count": null,
   "id": "d3cbbe4b",
   "metadata": {},
   "outputs": [],
   "source": [
    "how to set them"
   ]
  },
  {
   "cell_type": "markdown",
   "id": "19433ccb",
   "metadata": {},
   "source": [
    "### Selection and slicing"
   ]
  },
  {
   "cell_type": "code",
   "execution_count": null,
   "id": "97d033e4",
   "metadata": {},
   "outputs": [],
   "source": [
    "assign value, change column"
   ]
  },
  {
   "cell_type": "markdown",
   "id": "e2288dc8",
   "metadata": {},
   "source": [
    "### Groupby and apply"
   ]
  },
  {
   "cell_type": "markdown",
   "id": "687cb3a0",
   "metadata": {},
   "source": []
  },
  {
   "cell_type": "markdown",
   "id": "5cbf7f8d",
   "metadata": {},
   "source": [
    "### Visualization"
   ]
  },
  {
   "cell_type": "code",
   "execution_count": null,
   "id": "75e073a6",
   "metadata": {},
   "outputs": [],
   "source": []
  }
 ],
 "metadata": {
  "kernelspec": {
   "display_name": "Python 3 (ipykernel)",
   "language": "python",
   "name": "python3"
  },
  "language_info": {
   "codemirror_mode": {
    "name": "ipython",
    "version": 3
   },
   "file_extension": ".py",
   "mimetype": "text/x-python",
   "name": "python",
   "nbconvert_exporter": "python",
   "pygments_lexer": "ipython3",
   "version": "3.11.3"
  }
 },
 "nbformat": 4,
 "nbformat_minor": 5
}
