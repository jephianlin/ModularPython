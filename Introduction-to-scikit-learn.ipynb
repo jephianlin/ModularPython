{
 "cells": [
  {
   "cell_type": "markdown",
   "metadata": {},
   "source": [
    "# Introduction to scikit-learn"
   ]
  },
  {
   "cell_type": "markdown",
   "metadata": {},
   "source": [
    "![Creative Commons License](https://i.creativecommons.org/l/by/4.0/88x31.png)\n",
    "This work by Jephian Lin is licensed under a [Creative Commons Attribution 4.0 International License](http://creativecommons.org/licenses/by/4.0/)."
   ]
  },
  {
   "cell_type": "code",
   "execution_count": 47,
   "metadata": {},
   "outputs": [],
   "source": [
    "import numpy as np\n",
    "import pandas as pd\n",
    "import matplotlib.pyplot as plt"
   ]
  },
  {
   "cell_type": "markdown",
   "metadata": {},
   "source": [
    "## scikit-learn framework\n",
    "`pip install scikit-learn`"
   ]
  },
  {
   "cell_type": "markdown",
   "metadata": {},
   "source": [
    "scikit-learn (sklearn) is a library  \n",
    "containing various machine learning algorithms"
   ]
  },
  {
   "cell_type": "markdown",
   "metadata": {},
   "source": [
    "The nice thing about sklearn  \n",
    "is its universal framework to all models:  \n",
    "**model**, **fit**, and **predict**/**transform**"
   ]
  },
  {
   "cell_type": "markdown",
   "metadata": {},
   "source": [
    "The basic input of `fit` is `X` and `y`  \n",
    "where `X` is a dataset matrix  \n",
    "and `y` is an array of labels"
   ]
  },
  {
   "cell_type": "markdown",
   "metadata": {},
   "source": [
    "The convension of a dataset matrix  \n",
    "in sklearn  \n",
    "is each row is a sample while  \n",
    "each column is a feature"
   ]
  },
  {
   "cell_type": "markdown",
   "metadata": {},
   "source": [
    "#### datasets"
   ]
  },
  {
   "cell_type": "markdown",
   "metadata": {},
   "source": [
    "`sklearn.datasets` module  \n",
    "contains many functions  \n",
    "for loading a datasets"
   ]
  },
  {
   "cell_type": "code",
   "execution_count": 36,
   "metadata": {},
   "outputs": [],
   "source": [
    "from sklearn.datasets import load_digits\n",
    "digits = load_digits()\n",
    "X = digits['data']\n",
    "y = digits['target']"
   ]
  },
  {
   "cell_type": "markdown",
   "metadata": {},
   "source": [
    "Each model may locates  \n",
    "in a different module"
   ]
  },
  {
   "cell_type": "markdown",
   "metadata": {},
   "source": [
    "An easy way to find  \n",
    "how to import a model  \n",
    "is to Google and  \n",
    "find it in the sklearn document"
   ]
  },
  {
   "cell_type": "markdown",
   "metadata": {},
   "source": [
    "#### $k$-nearest neighbors classifier"
   ]
  },
  {
   "cell_type": "code",
   "execution_count": 37,
   "metadata": {},
   "outputs": [],
   "source": [
    "from sklearn.neighbors import KNeighborsClassifier\n",
    "model = KNeighborsClassifier() ### select a model\n",
    "model.fit(X, y) ### fit the model\n",
    "y_model = model.predict(X) ### make prediction"
   ]
  },
  {
   "cell_type": "code",
   "execution_count": 38,
   "metadata": {},
   "outputs": [
    {
     "data": {
      "text/plain": [
       "0.9905397885364496"
      ]
     },
     "execution_count": 38,
     "metadata": {},
     "output_type": "execute_result"
    }
   ],
   "source": [
    "from sklearn.metrics import accuracy_score\n",
    "### the high score is because\n",
    "### we used the training set to test\n",
    "accuracy_score(y, y_model)"
   ]
  },
  {
   "cell_type": "markdown",
   "metadata": {},
   "source": [
    "use `??` to read the docstring  \n",
    "and find information  \n",
    "about the hyperparameters"
   ]
  },
  {
   "cell_type": "code",
   "execution_count": 39,
   "metadata": {},
   "outputs": [],
   "source": [
    "KNeighborsClassifier??"
   ]
  },
  {
   "cell_type": "markdown",
   "metadata": {},
   "source": [
    "after training  \n",
    "use `vars(model)`  \n",
    "to see the trained parameters  \n",
    "of the model"
   ]
  },
  {
   "cell_type": "code",
   "execution_count": 40,
   "metadata": {},
   "outputs": [
    {
     "data": {
      "text/plain": [
       "{'_fit_X': array([[ 0.,  0.,  5., ...,  0.,  0.,  0.],\n",
       "        [ 0.,  0.,  0., ..., 10.,  0.,  0.],\n",
       "        [ 0.,  0.,  0., ..., 16.,  9.,  0.],\n",
       "        ...,\n",
       "        [ 0.,  0.,  1., ...,  6.,  0.,  0.],\n",
       "        [ 0.,  0.,  2., ..., 12.,  0.,  0.],\n",
       "        [ 0.,  0., 10., ..., 12.,  1.,  0.]]),\n",
       " '_fit_method': 'kd_tree',\n",
       " '_tree': <sklearn.neighbors.kd_tree.KDTree at 0x23ed2a8>,\n",
       " '_y': array([0, 1, 2, ..., 8, 9, 8]),\n",
       " 'algorithm': 'auto',\n",
       " 'classes_': array([0, 1, 2, 3, 4, 5, 6, 7, 8, 9]),\n",
       " 'effective_metric_': 'euclidean',\n",
       " 'effective_metric_params_': {},\n",
       " 'leaf_size': 30,\n",
       " 'metric': 'minkowski',\n",
       " 'metric_params': None,\n",
       " 'n_jobs': None,\n",
       " 'n_neighbors': 5,\n",
       " 'outputs_2d_': False,\n",
       " 'p': 2,\n",
       " 'radius': None,\n",
       " 'weights': 'uniform'}"
      ]
     },
     "execution_count": 40,
     "metadata": {},
     "output_type": "execute_result"
    }
   ],
   "source": [
    "vars(model)"
   ]
  },
  {
   "cell_type": "code",
   "execution_count": 41,
   "metadata": {},
   "outputs": [
    {
     "data": {
      "text/plain": [
       "(1797, 64)"
      ]
     },
     "execution_count": 41,
     "metadata": {},
     "output_type": "execute_result"
    }
   ],
   "source": [
    "model._fit_X.shape ### same as X"
   ]
  },
  {
   "cell_type": "markdown",
   "metadata": {},
   "source": [
    "#### $k$-means clustering"
   ]
  },
  {
   "cell_type": "code",
   "execution_count": 42,
   "metadata": {},
   "outputs": [],
   "source": [
    "from sklearn.cluster import KMeans\n",
    "model = KMeans()\n",
    "model.fit(X)\n",
    "y_model = model.predict(X)"
   ]
  },
  {
   "cell_type": "code",
   "execution_count": 43,
   "metadata": {},
   "outputs": [],
   "source": [
    "KMeans?"
   ]
  },
  {
   "cell_type": "code",
   "execution_count": 44,
   "metadata": {},
   "outputs": [
    {
     "data": {
      "text/plain": [
       "{'algorithm': 'auto',\n",
       " 'cluster_centers_': array([[ 0.00000000e+00,  9.16030534e-02,  3.23282443e+00,\n",
       "          1.02480916e+01,  1.25458015e+01,  6.25190840e+00,\n",
       "          7.13740458e-01,  3.81679389e-03,  7.63358779e-03,\n",
       "          7.06106870e-01,  6.97328244e+00,  1.27862595e+01,\n",
       "          1.31374046e+01,  1.04389313e+01,  1.76335878e+00,\n",
       "          4.71844785e-16, -1.69135539e-17,  1.16030534e+00,\n",
       "          8.01908397e+00,  1.22251908e+01,  1.27404580e+01,\n",
       "          9.82824427e+00,  1.06870229e+00, -1.80411242e-16,\n",
       "          4.33680869e-19,  1.46183206e+00,  7.98091603e+00,\n",
       "          1.40190840e+01,  1.43244275e+01,  6.01145038e+00,\n",
       "          2.44274809e-01,  8.67361738e-19,  0.00000000e+00,\n",
       "          9.42748092e-01,  7.94274809e+00,  1.39389313e+01,\n",
       "          1.33702290e+01,  3.49236641e+00,  8.77862595e-02,\n",
       "          0.00000000e+00,  3.46944695e-18,  1.16030534e+00,\n",
       "          9.31297710e+00,  1.10190840e+01,  1.26488550e+01,\n",
       "          5.22519084e+00,  2.93893130e-01,  6.59194921e-17,\n",
       "          1.14503817e-02,  7.36641221e-01,  8.20610687e+00,\n",
       "          1.05839695e+01,  1.25114504e+01,  6.83206107e+00,\n",
       "          8.32061069e-01,  3.81679389e-03,  3.81679389e-03,\n",
       "          8.77862595e-02,  3.38167939e+00,  1.03435115e+01,\n",
       "          1.27671756e+01,  6.22519084e+00,  1.07633588e+00,\n",
       "          7.63358779e-03],\n",
       "        [ 0.00000000e+00, -1.16573418e-15,  1.21546961e+00,\n",
       "          1.13370166e+01,  9.52486188e+00,  1.48618785e+00,\n",
       "          2.76243094e-02, -3.05311332e-16, -2.51534904e-17,\n",
       "          6.07734807e-02,  7.23756906e+00,  1.45801105e+01,\n",
       "          6.16022099e+00,  7.90055249e-01,  2.76243094e-02,\n",
       "          3.74700271e-16, -1.25767452e-17,  7.79005525e-01,\n",
       "          1.25469613e+01,  9.45303867e+00,  9.06077348e-01,\n",
       "          4.41988950e-02,  0.00000000e+00,  4.85722573e-17,\n",
       "         -3.03576608e-18,  2.35911602e+00,  1.37348066e+01,\n",
       "          8.04972376e+00,  3.90055249e+00,  1.87845304e+00,\n",
       "          1.04972376e-01, -6.07153217e-18,  0.00000000e+00,\n",
       "          3.56353591e+00,  1.47679558e+01,  1.29116022e+01,\n",
       "          1.22541436e+01,  1.03646409e+01,  2.76243094e+00,\n",
       "          0.00000000e+00, -2.42861287e-17,  1.87845304e+00,\n",
       "          1.44806630e+01,  1.05635359e+01,  5.49171271e+00,\n",
       "          1.01602210e+01,  9.24309392e+00,  2.32044199e-01,\n",
       "         -2.42861287e-17,  1.76795580e-01,  1.02541436e+01,\n",
       "          1.25580110e+01,  5.35911602e+00,  1.13204420e+01,\n",
       "          1.09392265e+01,  6.29834254e-01, -1.51788304e-18,\n",
       "         -6.10622664e-16,  1.50276243e+00,  1.08453039e+01,\n",
       "          1.51546961e+01,  1.31491713e+01,  4.59116022e+00,\n",
       "          1.71270718e-01],\n",
       "        [ 0.00000000e+00,  3.29545455e-01,  6.89772727e+00,\n",
       "          1.25022727e+01,  1.25272727e+01,  6.87500000e+00,\n",
       "          9.79545455e-01,  4.31818182e-02,  6.81818182e-03,\n",
       "          3.02500000e+00,  1.26931818e+01,  9.09090909e+00,\n",
       "          1.04977273e+01,  1.13659091e+01,  1.86136364e+00,\n",
       "          4.31818182e-02,  2.27272727e-03,  3.25681818e+00,\n",
       "          9.17954545e+00,  4.75909091e+00,  9.23636364e+00,\n",
       "          1.10568182e+01,  1.74772727e+00,  1.59090909e-02,\n",
       "          9.54097912e-18,  1.52045455e+00,  6.80227273e+00,\n",
       "          1.03818182e+01,  1.33159091e+01,  1.03613636e+01,\n",
       "          1.77954545e+00,  1.90819582e-17,  0.00000000e+00,\n",
       "          2.40909091e-01,  2.13636364e+00,  5.10909091e+00,\n",
       "          8.61590909e+00,  1.20522727e+01,  3.50454545e+00,\n",
       "          0.00000000e+00,  7.63278329e-17,  3.09090909e-01,\n",
       "          1.78863636e+00,  1.20227273e+00,  3.06363636e+00,\n",
       "          1.17522727e+01,  6.13181818e+00,  1.13636364e-02,\n",
       "          4.59701721e-17,  7.90909091e-01,  7.26363636e+00,\n",
       "          5.54090909e+00,  6.59090909e+00,  1.29181818e+01,\n",
       "          5.84090909e+00,  1.22727273e-01,  4.77048956e-18,\n",
       "          2.63636364e-01,  7.14545455e+00,  1.31522727e+01,\n",
       "          1.41204545e+01,  9.73863636e+00,  2.11363636e+00,\n",
       "          1.95454545e-01],\n",
       "        [ 0.00000000e+00, -1.16573418e-15,  2.68156425e-01,\n",
       "          6.64245810e+00,  1.17988827e+01,  2.55865922e+00,\n",
       "          5.53072626e-01,  7.26256983e-02, -2.51534904e-17,\n",
       "          1.11731844e-02,  3.04469274e+00,  1.34245810e+01,\n",
       "          8.80446927e+00,  1.86033520e+00,  1.35195531e+00,\n",
       "          3.29608939e-01, -1.25767452e-17,  5.81005587e-01,\n",
       "          1.03798883e+01,  1.16648045e+01,  4.48044693e+00,\n",
       "          5.58100559e+00,  4.04469274e+00,  3.35195531e-01,\n",
       "          5.58659218e-03,  4.54189944e+00,  1.46424581e+01,\n",
       "          6.31284916e+00,  7.07262570e+00,  1.10167598e+01,\n",
       "          6.11173184e+00,  1.67597765e-02,  0.00000000e+00,\n",
       "          8.57541899e+00,  1.47877095e+01,  9.55865922e+00,\n",
       "          1.25754190e+01,  1.44413408e+01,  5.36312849e+00,\n",
       "          0.00000000e+00,  8.93854749e-02,  6.18435754e+00,\n",
       "          1.11899441e+01,  1.18100559e+01,  1.44245810e+01,\n",
       "          1.09832402e+01,  1.56424581e+00, -2.08166817e-17,\n",
       "          5.58659218e-02,  1.05027933e+00,  2.78212291e+00,\n",
       "          7.21229050e+00,  1.37821229e+01,  4.60335196e+00,\n",
       "          2.23463687e-02, -5.27355937e-16, -1.40946282e-18,\n",
       "          2.23463687e-02,  3.24022346e-01,  7.35754190e+00,\n",
       "          1.22122905e+01,  2.16759777e+00, -6.21724894e-15,\n",
       "         -6.66133815e-16],\n",
       "        [ 0.00000000e+00,  1.07792208e+00,  9.92857143e+00,\n",
       "          1.33246753e+01,  1.40389610e+01,  1.24675325e+01,\n",
       "          4.27272727e+00,  3.89610390e-02,  6.49350649e-03,\n",
       "          4.47402597e+00,  1.48701299e+01,  1.24675325e+01,\n",
       "          8.52597403e+00,  6.99350649e+00,  2.50649351e+00,\n",
       "          3.24675325e-02,  1.29870130e-02,  5.96753247e+00,\n",
       "          1.44870130e+01,  5.88311688e+00,  2.00649351e+00,\n",
       "          1.16883117e+00,  1.94805195e-01,  1.45716772e-16,\n",
       "          6.49350649e-03,  5.17532468e+00,  1.42077922e+01,\n",
       "          1.23831169e+01,  7.92207792e+00,  2.32467532e+00,\n",
       "          1.49350649e-01, -5.20417043e-18,  0.00000000e+00,\n",
       "          1.94155844e+00,  8.16233766e+00,  1.02792208e+01,\n",
       "          1.01428571e+01,  5.46103896e+00,  6.55844156e-01,\n",
       "          0.00000000e+00, -2.08166817e-17,  3.50649351e-01,\n",
       "          1.66883117e+00,  5.00000000e+00,  9.72077922e+00,\n",
       "          6.94155844e+00,  8.44155844e-01, -6.59194921e-17,\n",
       "         -2.08166817e-17,  8.18181818e-01,  5.25324675e+00,\n",
       "          9.31818182e+00,  1.20649351e+01,  5.29870130e+00,\n",
       "          4.87012987e-01, -4.16333634e-16, -1.30104261e-18,\n",
       "          1.03246753e+00,  1.08376623e+01,  1.45259740e+01,\n",
       "          7.92207792e+00,  1.13636364e+00,  1.94805195e-02,\n",
       "         -6.66133815e-16],\n",
       "        [ 0.00000000e+00,  1.73515982e-01,  4.86757991e+00,\n",
       "          1.27397260e+01,  1.38675799e+01,  1.07808219e+01,\n",
       "          4.84931507e+00,  8.85844749e-01, -2.94902991e-17,\n",
       "          1.10502283e+00,  1.06347032e+01,  1.14931507e+01,\n",
       "          1.02328767e+01,  1.25844749e+01,  5.60273973e+00,\n",
       "          5.06849315e-01, -1.47451495e-17,  1.25114155e+00,\n",
       "          5.84018265e+00,  2.41552511e+00,  6.76712329e+00,\n",
       "          1.16666667e+01,  3.52054795e+00,  1.05022831e-01,\n",
       "         -3.25260652e-18,  1.04109589e+00,  5.40639269e+00,\n",
       "          6.70319635e+00,  1.23059361e+01,  1.20182648e+01,\n",
       "          4.65296804e+00,  4.56621005e-03,  0.00000000e+00,\n",
       "          1.44292237e+00,  8.35159817e+00,  1.27351598e+01,\n",
       "          1.44885845e+01,  1.05159817e+01,  3.76712329e+00,\n",
       "          0.00000000e+00, -2.60208521e-17,  1.06392694e+00,\n",
       "          4.95433790e+00,  1.12511416e+01,  1.08949772e+01,\n",
       "          3.91780822e+00,  5.43378995e-01,  3.12250226e-17,\n",
       "         -2.77555756e-17,  9.58904110e-02,  2.94520548e+00,\n",
       "          1.21506849e+01,  6.59817352e+00,  6.07305936e-01,\n",
       "          2.28310502e-02, -6.10622664e-16, -1.62630326e-18,\n",
       "          1.46118721e-01,  6.01369863e+00,  1.19680365e+01,\n",
       "          2.94977169e+00,  3.19634703e-01,  3.19634703e-02,\n",
       "         -7.21644966e-16],\n",
       "        [ 0.00000000e+00,  9.23497268e-01,  1.01092896e+01,\n",
       "          1.44590164e+01,  7.87431694e+00,  1.06010929e+00,\n",
       "         -1.33226763e-15, -3.05311332e-16,  2.18579235e-02,\n",
       "          5.26775956e+00,  1.36666667e+01,  1.26010929e+01,\n",
       "          1.16612022e+01,  3.35519126e+00,  2.18579235e-02,\n",
       "          3.74700271e-16,  1.09289617e-02,  4.50273224e+00,\n",
       "          8.05464481e+00,  6.05464481e+00,  1.21475410e+01,\n",
       "          3.69945355e+00,  3.82513661e-02,  4.16333634e-17,\n",
       "         -3.03576608e-18,  9.28961749e-01,  2.79781421e+00,\n",
       "          7.04918033e+00,  1.25300546e+01,  2.75956284e+00,\n",
       "          6.01092896e-02, -6.07153217e-18,  0.00000000e+00,\n",
       "          4.37158470e-02,  1.59562842e+00,  9.89617486e+00,\n",
       "          1.08907104e+01,  1.72131148e+00,  1.63934426e-02,\n",
       "          0.00000000e+00, -2.42861287e-17,  2.40437158e-01,\n",
       "          4.37158470e+00,  1.10163934e+01,  7.71038251e+00,\n",
       "          2.73224044e+00,  1.02185792e+00,  1.09289617e-02,\n",
       "         -2.42861287e-17,  1.16939891e+00,  1.08688525e+01,\n",
       "          1.36010929e+01,  1.17978142e+01,  1.12622951e+01,\n",
       "          7.64480874e+00,  1.08196721e+00, -1.51788304e-18,\n",
       "          9.12568306e-01,  1.03278689e+01,  1.45081967e+01,\n",
       "          1.35355191e+01,  1.22513661e+01,  8.77595628e+00,\n",
       "          2.91256831e+00],\n",
       "        [ 0.00000000e+00,  2.23463687e-02,  4.23463687e+00,\n",
       "          1.31508380e+01,  1.12625698e+01,  2.93296089e+00,\n",
       "          3.35195531e-02, -2.77555756e-16, -2.51534904e-17,\n",
       "          8.88268156e-01,  1.26815642e+01,  1.33631285e+01,\n",
       "          1.13519553e+01,  1.13575419e+01,  9.66480447e-01,\n",
       "          3.60822483e-16, -1.25767452e-17,  3.77653631e+00,\n",
       "          1.42067039e+01,  5.17877095e+00,  2.08379888e+00,\n",
       "          1.21173184e+01,  3.53631285e+00,  5.55111512e-17,\n",
       "         -2.81892565e-18,  5.31284916e+00,  1.26368715e+01,\n",
       "          2.00558659e+00,  2.62569832e-01,  9.10055866e+00,\n",
       "          6.43575419e+00, -5.63785130e-18,  0.00000000e+00,\n",
       "          5.85474860e+00,  1.15027933e+01,  9.55307263e-01,\n",
       "          1.17318436e-01,  8.79888268e+00,  7.11731844e+00,\n",
       "          0.00000000e+00, -2.25514052e-17,  3.50837989e+00,\n",
       "          1.32569832e+01,  1.65921788e+00,  1.42458101e+00,\n",
       "          1.13351955e+01,  5.84916201e+00, -2.08166817e-17,\n",
       "         -2.42861287e-17,  8.04469274e-01,  1.31117318e+01,\n",
       "          9.95530726e+00,  1.03016760e+01,  1.33072626e+01,\n",
       "          2.47486034e+00,  2.23463687e-02, -1.40946282e-18,\n",
       "          5.58659218e-03,  4.19553073e+00,  1.35977654e+01,\n",
       "          1.33575419e+01,  5.49720670e+00,  3.18435754e-01,\n",
       "          1.67597765e-02]]),\n",
       " 'copy_x': True,\n",
       " 'inertia_': 1265035.0612781567,\n",
       " 'init': 'k-means++',\n",
       " 'labels_': array([7, 0, 0, ..., 0, 2, 2], dtype=int32),\n",
       " 'max_iter': 300,\n",
       " 'n_clusters': 8,\n",
       " 'n_init': 10,\n",
       " 'n_iter_': 12,\n",
       " 'n_jobs': None,\n",
       " 'precompute_distances': 'auto',\n",
       " 'random_state': None,\n",
       " 'tol': 0.0001,\n",
       " 'verbose': 0}"
      ]
     },
     "execution_count": 44,
     "metadata": {},
     "output_type": "execute_result"
    }
   ],
   "source": [
    "vars(model)"
   ]
  },
  {
   "cell_type": "code",
   "execution_count": 45,
   "metadata": {},
   "outputs": [
    {
     "data": {
      "text/plain": [
       "(8, 64)"
      ]
     },
     "execution_count": 45,
     "metadata": {},
     "output_type": "execute_result"
    }
   ],
   "source": [
    "model.cluster_centers_.shape \n",
    "### 8 centers in R^64"
   ]
  },
  {
   "cell_type": "markdown",
   "metadata": {},
   "source": [
    "#### Linear regression"
   ]
  },
  {
   "cell_type": "code",
   "execution_count": 48,
   "metadata": {},
   "outputs": [],
   "source": [
    "### make sample data\n",
    "x = np.linspace(0,10,20)\n",
    "y = 3 + 0.5*x + 0.2*np.random.randn(20)"
   ]
  },
  {
   "cell_type": "code",
   "execution_count": 69,
   "metadata": {},
   "outputs": [],
   "source": [
    "from sklearn.linear_model import LinearRegression\n",
    "model = LinearRegression()\n",
    "X = x[:, np.newaxis]\n",
    "model.fit(X, y)\n",
    "y_model = model.predict(X)"
   ]
  },
  {
   "cell_type": "code",
   "execution_count": null,
   "metadata": {},
   "outputs": [],
   "source": [
    "LinearRegression?"
   ]
  },
  {
   "cell_type": "code",
   "execution_count": 51,
   "metadata": {},
   "outputs": [
    {
     "data": {
      "text/plain": [
       "{'_residues': 1.0332626694540439,\n",
       " 'coef_': array([0.5070146]),\n",
       " 'copy_X': True,\n",
       " 'fit_intercept': True,\n",
       " 'intercept_': 2.9574823707599176,\n",
       " 'n_jobs': None,\n",
       " 'normalize': False,\n",
       " 'rank_': 1,\n",
       " 'singular_': array([13.57241785])}"
      ]
     },
     "execution_count": 51,
     "metadata": {},
     "output_type": "execute_result"
    }
   ],
   "source": [
    "vars(model)"
   ]
  },
  {
   "cell_type": "markdown",
   "metadata": {},
   "source": [
    "`model.coef_` contains  \n",
    "the coefficients of each columns"
   ]
  },
  {
   "cell_type": "markdown",
   "metadata": {},
   "source": [
    "`model.intercept_` is the constant term"
   ]
  },
  {
   "cell_type": "markdown",
   "metadata": {},
   "source": [
    "## Scores of a model\n",
    "Each model has different default score"
   ]
  },
  {
   "cell_type": "markdown",
   "metadata": {},
   "source": [
    "Many metrics for measuring  \n",
    "the performance of a model  \n",
    "are contained in `sklearn.metrics`  \n",
    "\n",
    "See [here](https://scikit-learn.org/stable/modules/classes.html#module-sklearn.metrics) for a list of scores"
   ]
  },
  {
   "cell_type": "markdown",
   "metadata": {},
   "source": [
    "For classification problems  \n",
    "the score can be the **accuracy**  "
   ]
  },
  {
   "cell_type": "code",
   "execution_count": 54,
   "metadata": {},
   "outputs": [],
   "source": [
    "from sklearn.datasets import load_digits\n",
    "digits = load_digits()\n",
    "X = digits['data']\n",
    "y = digits['target']"
   ]
  },
  {
   "cell_type": "code",
   "execution_count": 55,
   "metadata": {},
   "outputs": [],
   "source": [
    "from sklearn.neighbors import KNeighborsClassifier\n",
    "model = KNeighborsClassifier()\n",
    "model.fit(X, y)\n",
    "y_model = model.predict(X)"
   ]
  },
  {
   "cell_type": "markdown",
   "metadata": {},
   "source": [
    "The default score  \n",
    "for `KNeighborsClassifier`  \n",
    "is the accuracy"
   ]
  },
  {
   "cell_type": "code",
   "execution_count": null,
   "metadata": {},
   "outputs": [],
   "source": [
    "model?"
   ]
  },
  {
   "cell_type": "code",
   "execution_count": 57,
   "metadata": {},
   "outputs": [
    {
     "data": {
      "text/plain": [
       "0.9905397885364496"
      ]
     },
     "execution_count": 57,
     "metadata": {},
     "output_type": "execute_result"
    }
   ],
   "source": [
    "model.score(X, y)"
   ]
  },
  {
   "cell_type": "code",
   "execution_count": 58,
   "metadata": {},
   "outputs": [
    {
     "data": {
      "text/plain": [
       "0.9905397885364496"
      ]
     },
     "execution_count": 58,
     "metadata": {},
     "output_type": "execute_result"
    }
   ],
   "source": [
    "from sklearn.metrics import accuracy_score\n",
    "accuracy_score(y_model, y)"
   ]
  },
  {
   "cell_type": "markdown",
   "metadata": {},
   "source": [
    "For clustering problems  \n",
    "the score can be  \n",
    "the **adjusted Rand index**\n",
    "\n",
    "See more [here](https://scikit-learn.org/stable/modules/clustering.html#clustering-performance-evaluation)"
   ]
  },
  {
   "cell_type": "code",
   "execution_count": 60,
   "metadata": {},
   "outputs": [],
   "source": [
    "from sklearn.cluster import KMeans\n",
    "model = KMeans()\n",
    "model.fit(X)\n",
    "y_model = model.predict(X)"
   ]
  },
  {
   "cell_type": "markdown",
   "metadata": {},
   "source": [
    "The default score  \n",
    "for `KMeans`  \n",
    "is the negation of the sum of distances"
   ]
  },
  {
   "cell_type": "code",
   "execution_count": 64,
   "metadata": {},
   "outputs": [],
   "source": [
    "model.score?"
   ]
  },
  {
   "cell_type": "code",
   "execution_count": 63,
   "metadata": {},
   "outputs": [
    {
     "data": {
      "text/plain": [
       "-1264988.112404823"
      ]
     },
     "execution_count": 63,
     "metadata": {},
     "output_type": "execute_result"
    }
   ],
   "source": [
    "model.score(X)"
   ]
  },
  {
   "cell_type": "code",
   "execution_count": 66,
   "metadata": {},
   "outputs": [
    {
     "data": {
      "text/plain": [
       "0.5751372605057907"
      ]
     },
     "execution_count": 66,
     "metadata": {},
     "output_type": "execute_result"
    }
   ],
   "source": [
    "from sklearn.metrics import adjusted_rand_score\n",
    "adjusted_rand_score(y, y_model)"
   ]
  },
  {
   "cell_type": "markdown",
   "metadata": {},
   "source": [
    "For regression problems  \n",
    "the score can be  \n",
    "the the mean of squared errors  \n",
    "or the $R^2$ score"
   ]
  },
  {
   "cell_type": "code",
   "execution_count": 68,
   "metadata": {},
   "outputs": [],
   "source": [
    "### make sample data\n",
    "x = np.linspace(0,10,20)\n",
    "y = 3 + 0.5*x + 0.2*np.random.randn(20)"
   ]
  },
  {
   "cell_type": "code",
   "execution_count": 2,
   "metadata": {},
   "outputs": [],
   "source": [
    "from sklearn.linear_model import LinearRegression\n",
    "model = LinearRegression()\n",
    "X = x[:, np.newaxis]\n",
    "model.fit(X, y)\n",
    "y_model = model.predict(X)"
   ]
  },
  {
   "cell_type": "markdown",
   "metadata": {},
   "source": [
    "The default score  \n",
    "for `LinearRegression`  \n",
    "is the $R^2$ score"
   ]
  },
  {
   "cell_type": "code",
   "execution_count": 70,
   "metadata": {},
   "outputs": [],
   "source": [
    "model.score?"
   ]
  },
  {
   "cell_type": "code",
   "execution_count": 71,
   "metadata": {},
   "outputs": [
    {
     "data": {
      "text/plain": [
       "0.9862303246979223"
      ]
     },
     "execution_count": 71,
     "metadata": {},
     "output_type": "execute_result"
    }
   ],
   "source": [
    "model.score(X, y)"
   ]
  },
  {
   "cell_type": "code",
   "execution_count": 72,
   "metadata": {},
   "outputs": [
    {
     "data": {
      "text/plain": [
       "0.9862303246979222"
      ]
     },
     "execution_count": 72,
     "metadata": {},
     "output_type": "execute_result"
    }
   ],
   "source": [
    "from sklearn.metrics import r2_score\n",
    "r2_score(y, y_model)"
   ]
  },
  {
   "cell_type": "code",
   "execution_count": 77,
   "metadata": {},
   "outputs": [
    {
     "data": {
      "text/plain": [
       "0.031968249148189604"
      ]
     },
     "execution_count": 77,
     "metadata": {},
     "output_type": "execute_result"
    }
   ],
   "source": [
    "from sklearn.metrics import mean_squared_error\n",
    "u = mean_squared_error(y, y_model)\n",
    "u"
   ]
  },
  {
   "cell_type": "code",
   "execution_count": 78,
   "metadata": {},
   "outputs": [
    {
     "data": {
      "text/plain": [
       "2.321641465530105"
      ]
     },
     "execution_count": 78,
     "metadata": {},
     "output_type": "execute_result"
    }
   ],
   "source": [
    "### mean of y - y_mean square\n",
    "v = ((y - y.mean())**2).mean()\n",
    "v"
   ]
  },
  {
   "cell_type": "code",
   "execution_count": 79,
   "metadata": {},
   "outputs": [
    {
     "data": {
      "text/plain": [
       "0.9862303246979222"
      ]
     },
     "execution_count": 79,
     "metadata": {},
     "output_type": "execute_result"
    }
   ],
   "source": [
    "1 - u/v"
   ]
  },
  {
   "cell_type": "markdown",
   "metadata": {},
   "source": [
    "## Save and load a model\n",
    "One may use thye joblib package  \n",
    "to save and load a model  \n",
    "`pip install joblib`"
   ]
  },
  {
   "cell_type": "code",
   "execution_count": 1,
   "metadata": {},
   "outputs": [],
   "source": [
    "import os\n",
    "from joblib import dump, load"
   ]
  },
  {
   "cell_type": "markdown",
   "metadata": {},
   "source": [
    "Training a model  \n",
    "can possibly take a long time"
   ]
  },
  {
   "cell_type": "markdown",
   "metadata": {},
   "source": [
    "Once a `model` is trained  \n",
    "use `dump(model, 'filename.joblib') ` to save the model"
   ]
  },
  {
   "cell_type": "code",
   "execution_count": null,
   "metadata": {},
   "outputs": [],
   "source": [
    "### make sample data\n",
    "x = np.linspace(0,10,20)\n",
    "y = 3 + 0.5*x + 0.2*np.random.randn(20)"
   ]
  },
  {
   "cell_type": "code",
   "execution_count": null,
   "metadata": {},
   "outputs": [],
   "source": [
    "from sklearn.linear_model import LinearRegression\n",
    "model = LinearRegression()\n",
    "X = x[:, np.newaxis]\n",
    "model.fit(X, y)\n",
    "y_model = model.predict(X)"
   ]
  },
  {
   "cell_type": "code",
   "execution_count": 83,
   "metadata": {},
   "outputs": [
    {
     "data": {
      "text/plain": [
       "['linear_model.joblib']"
      ]
     },
     "execution_count": 83,
     "metadata": {},
     "output_type": "execute_result"
    }
   ],
   "source": [
    "dump(model, 'linear_model.joblib')"
   ]
  },
  {
   "cell_type": "code",
   "execution_count": 86,
   "metadata": {},
   "outputs": [
    {
     "data": {
      "text/plain": [
       "['Introduction-to-scikit-learn.ipynb',\n",
       " 'linear_classifier.png',\n",
       " '256px-Colored_neural_network.svg.png',\n",
       " 'Algorithms-spectral-embedding.ipynb',\n",
       " 'A-taste-of-data-science.ipynb',\n",
       " 'Complexity-sorting-and-vectorization.ipynb',\n",
       " 'A-taste-of-feature-engineering.ipynb',\n",
       " 'Introduction-to-NetworkX.ipynb',\n",
       " '.git',\n",
       " 'Algorithms-linear-classifier.ipynb',\n",
       " 'linear_model.joblib',\n",
       " 'Algorithms-neural-network-feedforward-and-accuracy.ipynb',\n",
       " 'Algorithms-data-to-graph.ipynb',\n",
       " '.ipynb_checkpoints',\n",
       " 'LICENSE',\n",
       " 'Algorithms-k-mean-clustering.ipynb',\n",
       " '256px-SVM_margin.png',\n",
       " 'kmean.png',\n",
       " 'spectral_embedding.png',\n",
       " 'kNN.png',\n",
       " 'README.md',\n",
       " 'NeuralNetwork1.ipynb',\n",
       " 'eball.png',\n",
       " 'Algorithms-searching-algorithms.ipynb']"
      ]
     },
     "execution_count": 86,
     "metadata": {},
     "output_type": "execute_result"
    }
   ],
   "source": [
    "os.listdir('.')"
   ]
  },
  {
   "cell_type": "markdown",
   "metadata": {},
   "source": [
    "Use  \n",
    "`model = load('filename.joblib')`  \n",
    "to retrieve a model"
   ]
  },
  {
   "cell_type": "code",
   "execution_count": 87,
   "metadata": {},
   "outputs": [],
   "source": [
    "new_model = load('linear_model.joblib')"
   ]
  },
  {
   "cell_type": "code",
   "execution_count": 88,
   "metadata": {
    "scrolled": true
   },
   "outputs": [
    {
     "data": {
      "text/plain": [
       "{'_residues': 0.639364982963793,\n",
       " 'coef_': array([0.49859111]),\n",
       " 'copy_X': True,\n",
       " 'fit_intercept': True,\n",
       " 'intercept_': 3.0738209729588046,\n",
       " 'n_jobs': None,\n",
       " 'normalize': False,\n",
       " 'rank_': 1,\n",
       " 'singular_': array([13.57241785])}"
      ]
     },
     "execution_count": 88,
     "metadata": {},
     "output_type": "execute_result"
    }
   ],
   "source": [
    "vars(new_model)"
   ]
  },
  {
   "cell_type": "code",
   "execution_count": 3,
   "metadata": {},
   "outputs": [],
   "source": [
    "### since this is only for illustration\n",
    "### let's remove the file  \n",
    "### to keep the folder clean\n",
    "os.remove('linear_model.joblib')"
   ]
  },
  {
   "cell_type": "code",
   "execution_count": null,
   "metadata": {},
   "outputs": [],
   "source": []
  }
 ],
 "metadata": {
  "kernelspec": {
   "display_name": "Python 3",
   "language": "python",
   "name": "python3"
  },
  "language_info": {
   "codemirror_mode": {
    "name": "ipython",
    "version": 3
   },
   "file_extension": ".py",
   "mimetype": "text/x-python",
   "name": "python",
   "nbconvert_exporter": "python",
   "pygments_lexer": "ipython3",
   "version": "3.6.9"
  }
 },
 "nbformat": 4,
 "nbformat_minor": 2
}
