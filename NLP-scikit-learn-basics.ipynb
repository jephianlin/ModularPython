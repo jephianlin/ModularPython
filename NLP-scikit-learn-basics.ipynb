{
 "cells": [
  {
   "cell_type": "markdown",
   "id": "0890095f",
   "metadata": {},
   "source": [
    "# NLP: scikit-learn basics"
   ]
  },
  {
   "cell_type": "markdown",
   "id": "21774cfc",
   "metadata": {},
   "source": [
    "![Creative Commons License](https://i.creativecommons.org/l/by/4.0/88x31.png)  \n",
    "This work by Jephian Lin is licensed under a [Creative Commons Attribution 4.0 International License](http://creativecommons.org/licenses/by/4.0/)."
   ]
  },
  {
   "cell_type": "code",
   "execution_count": null,
   "id": "42f18cf5",
   "metadata": {},
   "outputs": [],
   "source": [
    "import numpy as np\n",
    "import pandas as pd"
   ]
  },
  {
   "cell_type": "markdown",
   "id": "df3b8158",
   "metadata": {},
   "source": [
    "### scikit-learn API"
   ]
  },
  {
   "cell_type": "markdown",
   "id": "023903b6",
   "metadata": {},
   "source": [
    "The scikit-learn (or sklearn) package provides lots of ready-to-use models and datasets.  The algorithms are implemented in a fundamental way without much heuristic modifications, which is good for teaching.  Most importantly, it has a consistent API --- that is, the workflow to use each model are the same as follows.  \n",
    "\n",
    "```python\n",
    "from sklearn.decomposition import PCA # import the model\n",
    "model = PCA(2) # select the model and setup hyperparameter\n",
    "X_new = model.fit_transform(X) # fit (train) the model and make transformation / prediction\n",
    "```\n",
    "\n",
    "**Terminologies**:  \n",
    "\n",
    "- data: a collection of information, can be numbers, texts, pictures, voices, etc.\n",
    "- label: the answers corresponding to each sample, e.g., the score of a product review\n",
    "- model: a function that can be used for transformation or prediction, usually created by an algorithm run on data\n",
    "- fit or train: use the data to create a model\n",
    "- transformation: use data to create new data\n",
    "- prediction: use data to guess the answer"
   ]
  },
  {
   "cell_type": "markdown",
   "id": "a8c5d9d4",
   "metadata": {},
   "source": [
    "We will use the following data to demonstrate two algorithms, PCA and $k$-means."
   ]
  },
  {
   "cell_type": "code",
   "execution_count": null,
   "id": "31e49215",
   "metadata": {},
   "outputs": [],
   "source": [
    "import nltk\n",
    "nltk.download('inaugural')\n",
    "\n",
    "from nltk.corpus import inaugural\n",
    "\n",
    "files = inaugural.fileids()\n",
    "texts = [inaugural.raw(file) for file in files]\n",
    "years = [file[:-4].split(\"-\")[0] for file in files]\n",
    "presidents = [file[:-4].split(\"-\")[1] for file in files]\n",
    "df = pd.DataFrame({\n",
    "    \"year\": years,\n",
    "    \"president\": presidents,\n",
    "    \"file\": files,\n",
    "    \"text\": texts\n",
    "})\n",
    "df.set_index(\"year\", inplace=True)\n",
    "df.tail() # print last few files"
   ]
  },
  {
   "cell_type": "code",
   "execution_count": null,
   "id": "98e2fe26",
   "metadata": {},
   "outputs": [],
   "source": [
    "from sklearn.feature_extraction.text import TfidfVectorizer\n",
    "tfidf = TfidfVectorizer(stop_words='english')\n",
    "X = tfidf.fit_transform(texts).toarray()\n",
    "print(X.shape)"
   ]
  },
  {
   "cell_type": "markdown",
   "id": "aa928790",
   "metadata": {},
   "source": [
    "### Principal component analysis (PCA)"
   ]
  },
  {
   "cell_type": "markdown",
   "id": "1dd31e3f",
   "metadata": {},
   "source": [
    "In our data, each sample is a vector of 8984 entries.  We usually consider it as a point in an 8984-dimensional space.  However, it is almost impossible for us to see such a high-dimensional space.  We will transform the data into lower dimension, with the minimum loss of information.  \n",
    "\n",
    "PCA is a dimensionality reduction algorithm."
   ]
  },
  {
   "cell_type": "code",
   "execution_count": null,
   "id": "63aa18c2",
   "metadata": {},
   "outputs": [],
   "source": [
    "from sklearn.decomposition import PCA\n",
    "model = PCA(2)\n",
    "X_new = model.fit_transform(X)\n",
    "X_new.shape"
   ]
  },
  {
   "cell_type": "code",
   "execution_count": null,
   "id": "a2f45970",
   "metadata": {},
   "outputs": [],
   "source": [
    "df['x0'] = X_new[:,0]\n",
    "df['x1'] = X_new[:,1]\n",
    "df.plot(kind='scatter', x='x0', y='x1', \n",
    "        color=df.index.astype(int), hover_data=['president'], \n",
    "        backend='plotly')"
   ]
  },
  {
   "cell_type": "markdown",
   "id": "0435c3c2",
   "metadata": {},
   "source": [
    "### $k$-means clustering"
   ]
  },
  {
   "cell_type": "markdown",
   "id": "9e584c2c",
   "metadata": {},
   "source": [
    "When a dataset is given, one may try to partition the data points into several clusters and predict their labels.\n",
    "\n",
    "The $k$-means clustering algorithm will give a \"reasonable\" clustering label to each point."
   ]
  },
  {
   "cell_type": "markdown",
   "id": "20b831fc",
   "metadata": {},
   "source": [
    "_The code below use the same data as above and use the PCA-transformed feature to plot the points._"
   ]
  },
  {
   "cell_type": "code",
   "execution_count": null,
   "id": "98eae9e6",
   "metadata": {},
   "outputs": [],
   "source": [
    "from sklearn.cluster import KMeans\n",
    "model = KMeans(3)\n",
    "y = model.fit_predict(X)"
   ]
  },
  {
   "cell_type": "code",
   "execution_count": null,
   "id": "6ffbc52a",
   "metadata": {},
   "outputs": [],
   "source": [
    "df['y'] = y.astype('object')\n",
    "df.plot(kind='scatter', x='x0', y='x1', \n",
    "        color='y', hover_data=['president'],  \n",
    "        backend='plotly')"
   ]
  },
  {
   "cell_type": "markdown",
   "id": "e7c279d9",
   "metadata": {},
   "source": [
    "### Further reading"
   ]
  },
  {
   "cell_type": "markdown",
   "id": "0a96b8ef",
   "metadata": {},
   "source": [
    "- [_Python Data Science Handbook_](https://jakevdp.github.io/PythonDataScienceHandbook/) by Jake VanderPlas"
   ]
  }
 ],
 "metadata": {
  "kernelspec": {
   "display_name": "Python 3 (ipykernel)",
   "language": "python",
   "name": "python3"
  },
  "language_info": {
   "codemirror_mode": {
    "name": "ipython",
    "version": 3
   },
   "file_extension": ".py",
   "mimetype": "text/x-python",
   "name": "python",
   "nbconvert_exporter": "python",
   "pygments_lexer": "ipython3",
   "version": "3.11.3"
  }
 },
 "nbformat": 4,
 "nbformat_minor": 5
}
