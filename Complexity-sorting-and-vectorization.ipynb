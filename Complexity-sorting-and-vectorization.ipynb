{
 "cells": [
  {
   "cell_type": "markdown",
   "metadata": {},
   "source": [
    "# Complexity: sorting and vectorization"
   ]
  },
  {
   "cell_type": "markdown",
   "metadata": {},
   "source": [
    "![Creative Commons License](https://i.creativecommons.org/l/by/4.0/88x31.png)  \n",
    "This work by Jephian Lin is licensed under a [Creative Commons Attribution 4.0 International License](http://creativecommons.org/licenses/by/4.0/)."
   ]
  },
  {
   "cell_type": "markdown",
   "metadata": {},
   "source": [
    "Note:  Many materials in this notebook file comes from  \n",
    "the section [Sorting array](https://jakevdp.github.io/PythonDataScienceHandbook/02.08-sorting.html) in  \n",
    "[*Python Data Science Handbook*](https://jakevdp.github.io/PythonDataScienceHandbook/), O'Reilly Media, 2016 by Jake VanderPlas"
   ]
  },
  {
   "cell_type": "markdown",
   "metadata": {},
   "source": [
    "## Using NumPy to perform efficient computation\n",
    "NumPy already implemented various high-performance algorithms.  \n",
    "Using the idea of vectorization and broadcasing  \n",
    "allows us to do computation efficiently and effectively."
   ]
  },
  {
   "cell_type": "markdown",
   "metadata": {},
   "source": [
    "### Time complexity\n",
    "A function $f(n)$ is in $O(g(n))$  \n",
    "if there is a constant $C$ and an integer $N$  \n",
    "such that $|f(n)|< C|g(n)|$ for any $n\\geq N$."
   ]
  },
  {
   "cell_type": "markdown",
   "metadata": {},
   "source": [
    "The notation $O(\\cdot)$ reads as  \n",
    "\"order\" or \"big oh\"."
   ]
  },
  {
   "cell_type": "markdown",
   "metadata": {},
   "source": [
    "For example,  \n",
    "$n^2 + n$ is $O(n^2)$ and in $O(n^3)$,  \n",
    "$e^n$ is not in $O(n^k)$ for any $k$,  \n",
    "$2^n$ is in $O(5^n)$."
   ]
  },
  {
   "cell_type": "markdown",
   "metadata": {},
   "source": [
    "An algorithm is **polynomial-time** if  \n",
    "it takes $O(n^k)$ steps to run for some $k$.\n",
    "\n",
    "An algorithm is **exponential-time** if   \n",
    "it takes $2^{O(n^k)}$ steps to run for some $k$."
   ]
  },
  {
   "cell_type": "markdown",
   "metadata": {},
   "source": [
    "### Sorting\n",
    "Make the elements of a list  \n",
    "from small to large."
   ]
  },
  {
   "cell_type": "markdown",
   "metadata": {},
   "source": [
    "**Selection sort** keep moving the smallest element  \n",
    "to the front."
   ]
  },
  {
   "cell_type": "code",
   "execution_count": 1,
   "metadata": {},
   "outputs": [],
   "source": [
    "import numpy as np\n",
    "import matplotlib.pyplot as plt"
   ]
  },
  {
   "cell_type": "code",
   "execution_count": 12,
   "metadata": {},
   "outputs": [
    {
     "data": {
      "text/plain": [
       "array([ 3,  2, 10,  2,  9,  7,  9,  6, 10,  3])"
      ]
     },
     "execution_count": 12,
     "metadata": {},
     "output_type": "execute_result"
    }
   ],
   "source": [
    "arr = np.random.randint(0,11,(10,))\n",
    "arr"
   ]
  },
  {
   "cell_type": "code",
   "execution_count": 13,
   "metadata": {},
   "outputs": [
    {
     "data": {
      "text/plain": [
       "1"
      ]
     },
     "execution_count": 13,
     "metadata": {},
     "output_type": "execute_result"
    }
   ],
   "source": [
    "arr.argmin()"
   ]
  },
  {
   "cell_type": "code",
   "execution_count": 14,
   "metadata": {},
   "outputs": [],
   "source": [
    "def selection_sort(arr):\n",
    "    new_arr = arr.copy()\n",
    "    n = len(new_arr)\n",
    "    for i in range(n):\n",
    "        min_ind = new_arr[i:].argmin()\n",
    "        new_arr[i], new_arr[i + min_ind] = new_arr[i + min_ind], new_arr[i]\n",
    "    return new_arr"
   ]
  },
  {
   "cell_type": "code",
   "execution_count": 15,
   "metadata": {},
   "outputs": [
    {
     "data": {
      "text/plain": [
       "array([ 2,  2,  3,  3,  6,  7,  9,  9, 10, 10])"
      ]
     },
     "execution_count": 15,
     "metadata": {},
     "output_type": "execute_result"
    }
   ],
   "source": [
    "selection_sort(arr)"
   ]
  },
  {
   "cell_type": "markdown",
   "metadata": {},
   "source": [
    "**Bogosort** is an algorithm that  \n",
    "keeps shuffling the numbers until  \n",
    "it is, by luck, from small to large."
   ]
  },
  {
   "cell_type": "code",
   "execution_count": 16,
   "metadata": {},
   "outputs": [],
   "source": [
    "def bogosort(arr):\n",
    "    new_arr = arr.copy()\n",
    "    again = True\n",
    "    while again:\n",
    "        np.random.shuffle(new_arr)\n",
    "        if np.all(new_arr[:-1] <= new_arr[1:]):\n",
    "            again = False\n",
    "    return new_arr"
   ]
  },
  {
   "cell_type": "code",
   "execution_count": 17,
   "metadata": {},
   "outputs": [
    {
     "data": {
      "text/plain": [
       "array([ 2,  2,  3,  3,  6,  7,  9,  9, 10, 10])"
      ]
     },
     "execution_count": 17,
     "metadata": {},
     "output_type": "execute_result"
    }
   ],
   "source": [
    "bogosort(arr)"
   ]
  },
  {
   "cell_type": "markdown",
   "metadata": {},
   "source": [
    "You may use `%%timeit` to  \n",
    "test the speed.  \n",
    "\n",
    "But in general the difference is very obvious."
   ]
  },
  {
   "cell_type": "markdown",
   "metadata": {},
   "source": [
    "The time complexity of `selection_sort` is $O(n^2)$,  \n",
    "while the time complexity of `bogosort` is on average $O(n!)$,  \n",
    "which is worse than $O(2^n)$."
   ]
  },
  {
   "cell_type": "markdown",
   "metadata": {},
   "source": [
    "The best soring algorithms can be done in $O(n\\log n)$, and  \n",
    "they have been implemented in NumPy."
   ]
  },
  {
   "cell_type": "code",
   "execution_count": 18,
   "metadata": {},
   "outputs": [
    {
     "data": {
      "text/plain": [
       "array([ 2,  2,  3,  3,  6,  7,  9,  9, 10, 10])"
      ]
     },
     "execution_count": 18,
     "metadata": {},
     "output_type": "execute_result"
    }
   ],
   "source": [
    "np.sort(arr) ### easy easy"
   ]
  },
  {
   "cell_type": "markdown",
   "metadata": {},
   "source": [
    "### Vectorization\n",
    "The idea of **vectorization** is to   \n",
    "use efficient matrix/vector algorithm in Numpy (or MATLAB)  \n",
    "to do the task.  "
   ]
  },
  {
   "cell_type": "code",
   "execution_count": 22,
   "metadata": {},
   "outputs": [],
   "source": [
    "N = 1000000\n",
    "a = np.random.randn(N)\n",
    "b = np.random.randn(N)"
   ]
  },
  {
   "cell_type": "code",
   "execution_count": 24,
   "metadata": {},
   "outputs": [
    {
     "name": "stdout",
     "output_type": "stream",
     "text": [
      "1 loop, best of 3: 605 ms per loop\n"
     ]
    }
   ],
   "source": [
    "%%timeit\n",
    "\n",
    "c = []\n",
    "for i in range(N):\n",
    "    c.append(a[i] + b[i])\n",
    "np.array(c)"
   ]
  },
  {
   "cell_type": "code",
   "execution_count": 26,
   "metadata": {
    "scrolled": true
   },
   "outputs": [
    {
     "name": "stdout",
     "output_type": "stream",
     "text": [
      "100 loops, best of 3: 2.4 ms per loop\n"
     ]
    }
   ],
   "source": [
    "%%timeit\n",
    "\n",
    "a + b"
   ]
  },
  {
   "cell_type": "markdown",
   "metadata": {},
   "source": [
    "Using `for` loops is, in general, slower.  "
   ]
  },
  {
   "cell_type": "markdown",
   "metadata": {},
   "source": [
    "The computation is not always easy  \n",
    "to be implemented by built-in functions of NumPy.  \n",
    "\n",
    "You may still use `np.vectorize` to create one."
   ]
  },
  {
   "cell_type": "markdown",
   "metadata": {},
   "source": [
    "For example,  \n",
    "let $f(x) = \\begin{cases} \n",
    "1 & \\text{if }x\\geq 0.5 \\\\\n",
    "0 & \\text{if }x< 0.5 \\\\\n",
    "\\end{cases}$.  \n",
    "\n",
    "Say, you want to apply $f$ to every element  \n",
    "in an array `a`.  \n",
    "How to do this?"
   ]
  },
  {
   "cell_type": "code",
   "execution_count": 30,
   "metadata": {},
   "outputs": [
    {
     "data": {
      "text/plain": [
       "array([0.06708702, 0.90103127, 0.70099116, 0.87192187, 0.0400433 ,\n",
       "       0.39796714, 0.45084571, 0.31177478, 0.32700703, 0.72718427])"
      ]
     },
     "execution_count": 30,
     "metadata": {},
     "output_type": "execute_result"
    }
   ],
   "source": [
    "a = np.random.rand(10)\n",
    "a"
   ]
  },
  {
   "cell_type": "markdown",
   "metadata": {},
   "source": [
    "In this special case,  \n",
    "you may still cheat by the `np.sign` function.  \n",
    "(And hope there is no entry equal to zero.)"
   ]
  },
  {
   "cell_type": "code",
   "execution_count": 31,
   "metadata": {},
   "outputs": [
    {
     "data": {
      "text/plain": [
       "array([-1.,  1.,  1.,  1., -1., -1., -1., -1., -1.,  1.])"
      ]
     },
     "execution_count": 31,
     "metadata": {},
     "output_type": "execute_result"
    }
   ],
   "source": [
    "np.sign(a - 0.5)"
   ]
  },
  {
   "cell_type": "code",
   "execution_count": 32,
   "metadata": {},
   "outputs": [
    {
     "data": {
      "text/plain": [
       "array([0., 1., 1., 1., 0., 0., 0., 0., 0., 1.])"
      ]
     },
     "execution_count": 32,
     "metadata": {},
     "output_type": "execute_result"
    }
   ],
   "source": [
    "(np.sign(a - 0.5) + 1)/2"
   ]
  },
  {
   "cell_type": "markdown",
   "metadata": {},
   "source": [
    "Here is a better way."
   ]
  },
  {
   "cell_type": "code",
   "execution_count": 33,
   "metadata": {},
   "outputs": [],
   "source": [
    "def f(x):\n",
    "    if x >= 0.5:\n",
    "        return 1\n",
    "    else:\n",
    "        return 0\n",
    "    \n",
    "vec_f = np.vectorize(f)"
   ]
  },
  {
   "cell_type": "code",
   "execution_count": 34,
   "metadata": {},
   "outputs": [
    {
     "data": {
      "text/plain": [
       "array([0, 1, 1, 1, 0, 0, 0, 0, 0, 1])"
      ]
     },
     "execution_count": 34,
     "metadata": {},
     "output_type": "execute_result"
    }
   ],
   "source": [
    "vec_f(a)"
   ]
  },
  {
   "cell_type": "markdown",
   "metadata": {},
   "source": [
    "### Boardcasting\n",
    "NumPy allow binary operations to be applied  \n",
    "to two arrays of different sizes.  \n",
    "This behavior is called **broadcasting**."
   ]
  },
  {
   "cell_type": "code",
   "execution_count": 9,
   "metadata": {},
   "outputs": [
    {
     "data": {
      "text/plain": [
       "array([[0],\n",
       "       [1],\n",
       "       [2]])"
      ]
     },
     "execution_count": 9,
     "metadata": {},
     "output_type": "execute_result"
    }
   ],
   "source": [
    "a = np.arange(3).reshape(3,1) ### a column\n",
    "a"
   ]
  },
  {
   "cell_type": "code",
   "execution_count": 10,
   "metadata": {},
   "outputs": [
    {
     "data": {
      "text/plain": [
       "array([0, 1, 2])"
      ]
     },
     "execution_count": 10,
     "metadata": {},
     "output_type": "execute_result"
    }
   ],
   "source": [
    "b = np.arange(3) ### a one-dimensional sequence\n",
    "b"
   ]
  },
  {
   "cell_type": "code",
   "execution_count": 11,
   "metadata": {},
   "outputs": [
    {
     "data": {
      "text/plain": [
       "array([[0, 1, 2],\n",
       "       [1, 2, 3],\n",
       "       [2, 3, 4]])"
      ]
     },
     "execution_count": 11,
     "metadata": {},
     "output_type": "execute_result"
    }
   ],
   "source": [
    "a + b"
   ]
  },
  {
   "cell_type": "markdown",
   "metadata": {},
   "source": [
    "Before understanding the broadcasting rules.  \n",
    "Let's recall some terms."
   ]
  },
  {
   "cell_type": "markdown",
   "metadata": {},
   "source": [
    "The **shape** is a tuple indicating the \"height\" and the \"width\".  \n",
    "The **number of dimensions** (`ndim`) is the number of axes."
   ]
  },
  {
   "cell_type": "code",
   "execution_count": 12,
   "metadata": {},
   "outputs": [
    {
     "name": "stdout",
     "output_type": "stream",
     "text": [
      "[[0]\n",
      " [1]\n",
      " [2]]\n",
      "(3, 1)\n",
      "2\n"
     ]
    }
   ],
   "source": [
    "print(a)\n",
    "print(a.shape)\n",
    "print(a.ndim)"
   ]
  },
  {
   "cell_type": "code",
   "execution_count": 13,
   "metadata": {},
   "outputs": [
    {
     "name": "stdout",
     "output_type": "stream",
     "text": [
      "[0 1 2]\n",
      "(3,)\n",
      "1\n"
     ]
    }
   ],
   "source": [
    "print(b)\n",
    "print(b.shape)\n",
    "print(b.ndim)"
   ]
  },
  {
   "cell_type": "markdown",
   "metadata": {},
   "source": [
    "The broadcasting rules:\n",
    "1. If `a.ndim > b.ndim`, pad some `1`'s on the left of `a.shape`.\n",
    "2. When `a.ndim == b.ndim`, if `a.shape[k], b.shape[k] == 1, d`  \n",
    "then duplicate `a` by `d` times so that `a.shape[k] == b.shape[k]`.\n",
    "3. When `a.ndim == b.ndim`, if `a.shape[k] != b.shape[k]` for some `k`  \n",
    "and none of them is `1`, then raise an error."
   ]
  },
  {
   "cell_type": "code",
   "execution_count": 2,
   "metadata": {},
   "outputs": [],
   "source": [
    "def print_ab(a, b):\n",
    "    print(\"a =\")\n",
    "    print(a)\n",
    "    print()\n",
    "    print(a.ndim, a.shape)\n",
    "    print(\"---\")\n",
    "    print(\"b =\")\n",
    "    print(b)\n",
    "    print()\n",
    "    print(b.ndim, b.shape)"
   ]
  },
  {
   "cell_type": "code",
   "execution_count": 3,
   "metadata": {},
   "outputs": [
    {
     "name": "stdout",
     "output_type": "stream",
     "text": [
      "a =\n",
      "[[0]\n",
      " [1]\n",
      " [2]]\n",
      "\n",
      "2 (3, 1)\n",
      "---\n",
      "b =\n",
      "[0 1 2]\n",
      "\n",
      "1 (3,)\n"
     ]
    }
   ],
   "source": [
    "a = np.arange(3).reshape(3,1)\n",
    "b = np.arange(3)\n",
    "\n",
    "print_ab(a, b)"
   ]
  },
  {
   "cell_type": "code",
   "execution_count": 4,
   "metadata": {},
   "outputs": [
    {
     "name": "stdout",
     "output_type": "stream",
     "text": [
      "a =\n",
      "[[0]\n",
      " [1]\n",
      " [2]]\n",
      "\n",
      "2 (3, 1)\n",
      "---\n",
      "b =\n",
      "[[0 1 2]]\n",
      "\n",
      "2 (1, 3)\n"
     ]
    }
   ],
   "source": [
    "b = b[np.newaxis, :]\n",
    "\n",
    "print_ab(a, b)"
   ]
  },
  {
   "cell_type": "code",
   "execution_count": 5,
   "metadata": {
    "scrolled": true
   },
   "outputs": [
    {
     "name": "stdout",
     "output_type": "stream",
     "text": [
      "a =\n",
      "[[0. 0. 0.]\n",
      " [1. 1. 1.]\n",
      " [2. 2. 2.]]\n",
      "\n",
      "2 (3, 3)\n",
      "---\n",
      "b =\n",
      "[[0. 1. 2.]\n",
      " [0. 1. 2.]\n",
      " [0. 1. 2.]]\n",
      "\n",
      "2 (3, 3)\n"
     ]
    }
   ],
   "source": [
    "a = a * np.ones(3)\n",
    "b = b * np.ones(3)[:, np.newaxis]\n",
    "\n",
    "print_ab(a, b)"
   ]
  },
  {
   "cell_type": "markdown",
   "metadata": {},
   "source": [
    "Now add `a` and `b`."
   ]
  },
  {
   "cell_type": "code",
   "execution_count": 28,
   "metadata": {},
   "outputs": [
    {
     "data": {
      "text/plain": [
       "array([[2., 3., 4.],\n",
       "       [3., 4., 5.],\n",
       "       [4., 5., 6.]])"
      ]
     },
     "execution_count": 28,
     "metadata": {},
     "output_type": "execute_result"
    }
   ],
   "source": [
    "a + b"
   ]
  },
  {
   "cell_type": "markdown",
   "metadata": {},
   "source": [
    "##### Exercise\n",
    "Implement the selection sort  \n",
    "by the function `selection_sort_rev`  \n",
    "so that the output is from the largest to the smallest."
   ]
  },
  {
   "cell_type": "code",
   "execution_count": 2,
   "metadata": {},
   "outputs": [],
   "source": [
    "### your answer here\n"
   ]
  },
  {
   "cell_type": "markdown",
   "metadata": {},
   "source": [
    "##### Exercise\n",
    "Obtain `arr` by the following.\n",
    "```Python\n",
    "arr = np.random.randint(0, 11, (5,7))\n",
    "```\n",
    "Apply `np.sort` to `arr` and  \n",
    "guess the meaning of the output."
   ]
  },
  {
   "cell_type": "code",
   "execution_count": 2,
   "metadata": {},
   "outputs": [],
   "source": [
    "### your answer here\n"
   ]
  },
  {
   "cell_type": "markdown",
   "metadata": {},
   "source": [
    "##### Exercise\n",
    "Obtain `arr` by the following.\n",
    "```Python\n",
    "arr = np.random.randint(0, 11, (5,7))\n",
    "```\n",
    "Use `np.sort` to sort each column of `arr`."
   ]
  },
  {
   "cell_type": "code",
   "execution_count": 2,
   "metadata": {},
   "outputs": [],
   "source": [
    "### your answer here\n"
   ]
  },
  {
   "cell_type": "markdown",
   "metadata": {},
   "source": [
    "##### Exercise\n",
    "Obtain `arr` by the following.\n",
    "```Python\n",
    "arr = np.random.randint(0, 11, (15,))\n",
    "```\n",
    "Apply `np.argsort` to `arr` and  \n",
    "guess the meaning of the output."
   ]
  },
  {
   "cell_type": "code",
   "execution_count": 2,
   "metadata": {},
   "outputs": [],
   "source": [
    "### your answer here\n"
   ]
  },
  {
   "cell_type": "markdown",
   "metadata": {},
   "source": [
    "##### Exercise\n",
    "Obtain `arr` by the following.\n",
    "```Python\n",
    "arr = np.random.randint(0, 11, (15,))\n",
    "```\n",
    "Run `np.partition(arr, 3)` and  \n",
    "guess the meaning of the output."
   ]
  },
  {
   "cell_type": "code",
   "execution_count": 2,
   "metadata": {},
   "outputs": [],
   "source": [
    "### your answer here\n"
   ]
  },
  {
   "cell_type": "markdown",
   "metadata": {},
   "source": [
    "##### Exercise\n",
    "Obtain `arr` by the following.\n",
    "```Python\n",
    "arr = np.random.randint(0, 11, (15,))\n",
    "```\n",
    "Run `np.argpartition(arr, 3)` and  \n",
    "guess the meaning of the output."
   ]
  },
  {
   "cell_type": "code",
   "execution_count": 2,
   "metadata": {},
   "outputs": [],
   "source": [
    "### your answer here\n"
   ]
  },
  {
   "cell_type": "markdown",
   "metadata": {},
   "source": [
    "##### Exercise\n",
    "Create a function `f(x)` that returns   \n",
    "`0` if `x < 0.5`,  \n",
    "`1` if `0.5 <= x <= 1.5`, and  \n",
    "`2` if `x > 1.5`.  \n",
    "\n",
    "Then create a vectorized function from `f`."
   ]
  },
  {
   "cell_type": "code",
   "execution_count": 2,
   "metadata": {},
   "outputs": [],
   "source": [
    "### your answer here\n"
   ]
  },
  {
   "cell_type": "markdown",
   "metadata": {},
   "source": [
    "##### Exercise\n",
    "Let `a = np.arange(3)`.  \n",
    "Print the shapes of  \n",
    "`a[:, np.newaxis]` and `a[np.newaxis, :]`."
   ]
  },
  {
   "cell_type": "code",
   "execution_count": 2,
   "metadata": {},
   "outputs": [],
   "source": [
    "### your answer here\n"
   ]
  },
  {
   "cell_type": "markdown",
   "metadata": {},
   "source": [
    "##### Exercise\n",
    "Let `a = np.random.randint(0, 10, (5,7))`  \n",
    "and `mean = a.mean(axis=1)`.  \n",
    "\n",
    "Adjust the shape of `a` or `mean` if necessary,  \n",
    "then use `a - mean` to normalize each row,  \n",
    "so that each row has mean equal to zero."
   ]
  },
  {
   "cell_type": "code",
   "execution_count": 2,
   "metadata": {},
   "outputs": [],
   "source": [
    "### your answer here\n"
   ]
  },
  {
   "cell_type": "markdown",
   "metadata": {},
   "source": [
    "##### Exercise\n",
    "Let `X = np.random.randn(5,2)`.  \n",
    "\n",
    "Thinking `X` as `5` samples of points in $\\mathbb{R}^2$,  \n",
    "what is the meaning of  \n",
    "`X[:, np.newaxis, :] - X[np.newaxis, :, :]`?"
   ]
  },
  {
   "cell_type": "code",
   "execution_count": 2,
   "metadata": {},
   "outputs": [],
   "source": [
    "### your answer here\n"
   ]
  },
  {
   "cell_type": "code",
   "execution_count": null,
   "metadata": {},
   "outputs": [],
   "source": []
  }
 ],
 "metadata": {
  "kernelspec": {
   "display_name": "Python 3",
   "language": "python",
   "name": "python3"
  },
  "language_info": {
   "codemirror_mode": {
    "name": "ipython",
    "version": 3
   },
   "file_extension": ".py",
   "mimetype": "text/x-python",
   "name": "python",
   "nbconvert_exporter": "python",
   "pygments_lexer": "ipython3",
   "version": "3.8.1"
  }
 },
 "nbformat": 4,
 "nbformat_minor": 2
}
