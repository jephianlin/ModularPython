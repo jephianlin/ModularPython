{
 "cells": [
  {
   "cell_type": "markdown",
   "metadata": {},
   "source": [
    "# Algorithms: linear classifier"
   ]
  },
  {
   "cell_type": "markdown",
   "metadata": {},
   "source": [
    "![Creative Commons License](https://i.creativecommons.org/l/by/4.0/88x31.png)  \n",
    "This work by Jephian Lin is licensed under a [Creative Commons Attribution 4.0 International License](http://creativecommons.org/licenses/by/4.0/)."
   ]
  },
  {
   "cell_type": "code",
   "execution_count": 2,
   "metadata": {},
   "outputs": [],
   "source": [
    "import numpy as np\n",
    "import matplotlib.pyplot as plt\n",
    "import pandas as pd"
   ]
  },
  {
   "cell_type": "markdown",
   "metadata": {},
   "source": [
    "## Linear classifier\n",
    "The concept of a linear classifier  \n",
    "is to find a line (or hyperplane)  \n",
    "that separates two groups data points  \n",
    "(each data points have labels either $1$ or $-1$).  \n",
    "\n",
    "The normal vector of this line (or hyperplane)  \n",
    "is then called the **linear classifier**.\n",
    "\n",
    "The line (or hyperplane)  \n",
    "separates the space into two parts.  \n",
    "When a new data point is given,  \n",
    "we may check which part does this point belong to  \n",
    "and then predict the label."
   ]
  },
  {
   "cell_type": "markdown",
   "metadata": {},
   "source": [
    "![Linear classifier](linear_classifier.png \"Linear classifier\")"
   ]
  },
  {
   "cell_type": "markdown",
   "metadata": {},
   "source": [
    "### Linear classifier and inner product\n",
    "Let ${\\bf v}$ be a vector.  \n",
    "Then ${\\bf v}$ separate the space into two parts,  \n",
    "$H_+ = \\{{\\bf p}\\in\\mathbb{R}^d: {\\bf p}\\cdot {\\bf v} > 0\\}$  \n",
    "and  \n",
    "$H_- = \\{{\\bf p}\\in\\mathbb{R}^d: {\\bf p}\\cdot {\\bf v} < 0\\}$."
   ]
  },
  {
   "cell_type": "markdown",
   "metadata": {},
   "source": [
    "Let $\\{{\\bf x}\\}_{i=1}^N$ be a set of $N$ points  \n",
    "with each point labeled as $1$ or $-1$.  \n",
    "Let $y_i$ be the label of ${\\bf x}_i$.  \n",
    "\n",
    "We say ${\\bf v}$ is a **linear classifier** if  \n",
    "* ${\\bf x}_i\\cdot{\\bf v} > 0 \\iff y_i = 1$ for all $i$\n",
    "* ${\\bf x}_i\\cdot{\\bf v} < 0 \\iff y_i = -1$ for all $i$"
   ]
  },
  {
   "cell_type": "markdown",
   "metadata": {},
   "source": [
    "### `normal` being a linear classifier\n",
    "Let `normal` be a vector.  \n",
    "Let `X` be a dataset of shape `(N, d)`.  \n",
    "(`X` has `N` samples with `d` features.)  \n",
    "Let `y` be the label of shape `(N, )`.\n",
    "\n",
    "Through Numpy,  \n",
    "whether `normal` is a linear classifier  \n",
    "can be checked by  \n",
    "`np.all( np.sign(np.dot(X, normal))== y )`. "
   ]
  },
  {
   "cell_type": "markdown",
   "metadata": {},
   "source": [
    "### `normal` not being a linear classifier\n",
    "If `normal` is not a linear classifier,  \n",
    "then there must be a data point `X[i]`  such that  \n",
    "`np.dot(X[i], normal)` and `y[i]` have the opposite signs.  \n",
    "Equivalently, `np.dot(X[i], normal) * y[i] < 0`.  \n",
    "\n",
    "In this case, we say  \n",
    "`normal` is not a linear classifier  \n",
    "witnessed by `X[i]` and `y[i]`."
   ]
  },
  {
   "cell_type": "markdown",
   "metadata": {},
   "source": [
    "### Algorithm\n",
    "Let `X` be a dataset.  \n",
    "Each data point is labled by `1` or `-1`.  \n",
    "The label is recorded by `y`.\n",
    "\n",
    "The goal is to find a normal vector `normal`  \n",
    "such that `np.sign(np.dot(X, normal))` is `y` (if possible).  "
   ]
  },
  {
   "cell_type": "markdown",
   "metadata": {},
   "source": [
    "1. Set `normal` as the zero vector (or any vector).  \n",
    "2. If `normal` is not a linear classifier witnessed by `X[i]` and `y[i]`,  \n",
    "then update `normal` by  \n",
    "  * `normal -= X[i]` if `np.dot(X[i], normal) > 0` and `y[i] < 0`\n",
    "  * `normal += X[i]` if `np.dot(X[i], normal) > 0` and `y[i] < 0`  \n",
    "3. Repeat Step 2 until `normal` becomes a linear classifier."
   ]
  },
  {
   "cell_type": "markdown",
   "metadata": {},
   "source": [
    "Note:  \n",
    "The update process can be simplified into one line below.  \n",
    "```Python\n",
    "normal = normal + y[i]*X[i]\n",
    "```"
   ]
  },
  {
   "cell_type": "markdown",
   "metadata": {},
   "source": [
    "### Pseudocode\n",
    "**Input**:  \n",
    "a dataset `X` of shape `(N, d)` and  \n",
    "the label `y` of shape `(N,)`  \n",
    "(the label is either `1` or `-1`)  \n",
    "**Output**:\n",
    "an array `normal = [c1 ... cd]`  \n",
    "such that `np.sign(np.dot(X, normal))` is `y`\n",
    "\n",
    "```Python\n",
    "normal = zero vector of dimension d (or any vector)\n",
    "again = True\n",
    "while again:\n",
    "    again = False\n",
    "    if `normal` is not a linear classifier  \n",
    "    (witnessed by X[i] and y[i]):\n",
    "        update normal\n",
    "        again = True\n",
    "```"
   ]
  },
  {
   "cell_type": "markdown",
   "metadata": {},
   "source": [
    "##### Exercise\n",
    "Given `d = 2`,  \n",
    "create a zero array `normal` of shape `(d, )`."
   ]
  },
  {
   "cell_type": "code",
   "execution_count": null,
   "metadata": {},
   "outputs": [],
   "source": [
    "### your answer here\n"
   ]
  },
  {
   "cell_type": "markdown",
   "metadata": {},
   "source": [
    "##### Exercise  \n",
    "Let `X = np.random.randn(100, 2)`,  \n",
    "`normal = np.random.randn(2)`, and  \n",
    "`y = np.random.choice([-1,1], 100)`.\n",
    "\n",
    "Write a `for` loop to find every pair `X[i]` and `y[i]`  \n",
    "that witness `normal` not being a linear classifier."
   ]
  },
  {
   "cell_type": "code",
   "execution_count": null,
   "metadata": {},
   "outputs": [],
   "source": [
    "### your asnwer here\n"
   ]
  },
  {
   "cell_type": "markdown",
   "metadata": {},
   "source": [
    "##### Exercise\n",
    "Following the setting of the previous exercise,  \n",
    "sometimes you just want to find  \n",
    "one pair of `X[i]` and `y[i]`  \n",
    "that witness `normal` not being a linear classifier.  \n",
    "\n",
    "Use `break` to stop the `for` loop when you find one."
   ]
  },
  {
   "cell_type": "code",
   "execution_count": null,
   "metadata": {},
   "outputs": [],
   "source": [
    "### your asnwer here\n"
   ]
  },
  {
   "cell_type": "markdown",
   "metadata": {},
   "source": [
    "##### Exercise  \n",
    "Obtain `X` and `y` by the code below.  \n",
    "```Python \n",
    "X = np.random.randn(100, 2)\n",
    "y = np.sign(np.dot(X, np.random.randn(2)))\n",
    "```"
   ]
  },
  {
   "cell_type": "code",
   "execution_count": 5,
   "metadata": {},
   "outputs": [],
   "source": [
    "### your answer here\n"
   ]
  },
  {
   "cell_type": "markdown",
   "metadata": {},
   "source": [
    "##### Exercise\n",
    "Write a function `linear_classifier(X, y)`  \n",
    "that returns a linear classifier `normal`."
   ]
  },
  {
   "cell_type": "code",
   "execution_count": 19,
   "metadata": {},
   "outputs": [],
   "source": [
    "### your answer here\n"
   ]
  },
  {
   "cell_type": "markdown",
   "metadata": {},
   "source": [
    "##### Exercise  \n",
    "Let `X = np.random.randn(100, 2)` and  \n",
    "`normal = np.random.randn(2)`.  \n",
    "\n",
    "Compute the accuracy of `normal`.  \n",
    "That is, calculate the number of pairs `X[i]` and `y[i]`  \n",
    "such that `np.dot(X[i], normal)` and `y[i]` have the same sign,  \n",
    "and divide this number by the total number of samples  \n",
    "to get the accuracy."
   ]
  },
  {
   "cell_type": "code",
   "execution_count": 19,
   "metadata": {},
   "outputs": [],
   "source": [
    "### your answer here\n"
   ]
  },
  {
   "cell_type": "markdown",
   "metadata": {},
   "source": [
    "##### Exercise\n",
    "Add a new keyword `acc` to your `linear_classifier` function.  \n",
    "When `acc` is `True`,  \n",
    "print the current accuracy  \n",
    "whenever `normal` is updated."
   ]
  },
  {
   "cell_type": "code",
   "execution_count": 19,
   "metadata": {},
   "outputs": [],
   "source": [
    "### your answer here\n"
   ]
  },
  {
   "cell_type": "markdown",
   "metadata": {},
   "source": [
    "##### Exercise\n",
    "You `linear_classifier` can be very powerful.  \n",
    "\n",
    "Obtain the required settings below.\n",
    "```Python\n",
    "X = np.random.randn(100, 2)\n",
    "y = np.sign(np.dot(X, np.random.randn(2)) + 0.1)\n",
    "plt.scatter(X[:,0], X[:,1], c=y, cmap='viridis')\n",
    "df = pd.DataFrame(X, columns=['x1', 'x2'])\n",
    "df['1'] = 1\n",
    "```\n",
    "\n",
    "It is likely that `linear_classifier(X, y, acc=True)` never stops.  \n",
    "But `linear_classifier(df.values, y, acc=True)` will work.  \n",
    "\n",
    "Why?  What is the meaning of the output?"
   ]
  },
  {
   "cell_type": "code",
   "execution_count": 19,
   "metadata": {},
   "outputs": [],
   "source": [
    "### your answer here\n"
   ]
  },
  {
   "cell_type": "markdown",
   "metadata": {},
   "source": [
    "##### Exercise\n",
    "You `linear_classifier` can be very powerful.  \n",
    "\n",
    "Obtain the required settings below.\n",
    "```Python\n",
    "X = np.random.randn(100, 2)\n",
    "y = np.sign(np.sum(X**2, axis=1) - 0.5)\n",
    "plt.scatter(X[:,0], X[:,1], c=y, cmap='viridis')\n",
    "df = pd.DataFrame(X, columns=['x1', 'x2'])\n",
    "df['x1^2'] = df['x1']**2\n",
    "df['x2^2'] = df['x2']**2\n",
    "df['1'] = 1\n",
    "```\n",
    "\n",
    "It is likely that `linear_classifier(X, y, acc=True)` never stops.  \n",
    "But `linear_classifier(df.values, y, acc=True)` will work.  \n",
    "\n",
    "Why? What is the meaning of the output?"
   ]
  },
  {
   "cell_type": "code",
   "execution_count": 19,
   "metadata": {},
   "outputs": [],
   "source": [
    "### your answer here\n"
   ]
  },
  {
   "cell_type": "code",
   "execution_count": null,
   "metadata": {},
   "outputs": [],
   "source": []
  },
  {
   "cell_type": "markdown",
   "metadata": {},
   "source": [
    "##### Sample code for a linear classifier passing through the origin"
   ]
  },
  {
   "cell_type": "code",
   "execution_count": 3,
   "metadata": {},
   "outputs": [],
   "source": [
    "def linear_classifier(X, y, acc=False):\n",
    "    \"\"\"\n",
    "    Input:\n",
    "        X: array of shape (N, d) with N samples and d features\n",
    "        y: array of shape (N,); labels of points (-1 or 1)\n",
    "    Output:\n",
    "        an array normal = [c1, ..., cd] of shape (d,)  \n",
    "        such that np.sign(np.dot(X, ans)) is y.\n",
    "    \"\"\"\n",
    "    N,d = X.shape\n",
    "    normal = np.array([0]*d, X.dtype)\n",
    "    \n",
    "    again = True\n",
    "    while again:\n",
    "        again = False\n",
    "        for i in range(N):\n",
    "            row = X[i]\n",
    "            label = y[i]\n",
    "            if np.dot(row, normal) * label <= 0:\n",
    "                normal += label * row\n",
    "                again = True\n",
    "                break\n",
    "        if acc:\n",
    "            print((np.sign(np.dot(X, normal)) == y).mean())\n",
    "    return normal"
   ]
  },
  {
   "cell_type": "code",
   "execution_count": 15,
   "metadata": {
    "scrolled": false
   },
   "outputs": [
    {
     "data": {
      "text/plain": [
       "<matplotlib.collections.PathCollection at 0x7f2f3ca3b780>"
      ]
     },
     "execution_count": 15,
     "metadata": {},
     "output_type": "execute_result"
    },
    {
     "data": {
      "image/png": "[encoded data removed]",
      "text/plain": [
       "<Figure size 432x288 with 1 Axes>"
      ]
     },
     "metadata": {
      "image/png": {
       "height": 248,
       "width": 370
      }
     },
     "output_type": "display_data"
    }
   ],
   "source": [
    "N = 100\n",
    "d = 2\n",
    "X = np.random.randn(N, d)\n",
    "y = np.sign(np.dot(X, np.random.randn(d)))\n",
    "\n",
    "plt.scatter(X[:,0], X[:,1], c=y, cmap='viridis')"
   ]
  },
  {
   "cell_type": "code",
   "execution_count": 16,
   "metadata": {
    "scrolled": true
   },
   "outputs": [
    {
     "name": "stdout",
     "output_type": "stream",
     "text": [
      "0.4\n",
      "0.48\n",
      "0.97\n",
      "0.92\n",
      "0.93\n",
      "0.97\n",
      "0.79\n",
      "0.82\n",
      "0.85\n",
      "0.98\n",
      "0.93\n",
      "0.95\n",
      "0.97\n",
      "0.82\n",
      "0.82\n",
      "0.87\n",
      "0.98\n",
      "0.96\n",
      "0.96\n",
      "0.98\n",
      "0.82\n",
      "0.82\n",
      "0.87\n",
      "0.98\n",
      "0.97\n",
      "0.82\n",
      "0.83\n",
      "0.87\n",
      "0.98\n",
      "0.96\n",
      "0.98\n",
      "0.97\n",
      "0.82\n",
      "0.83\n",
      "0.9\n",
      "0.98\n",
      "0.96\n",
      "0.98\n",
      "0.97\n",
      "0.82\n",
      "0.84\n",
      "0.91\n",
      "0.98\n",
      "0.97\n",
      "0.82\n",
      "0.87\n",
      "0.93\n",
      "0.99\n",
      "0.96\n",
      "0.98\n",
      "0.97\n",
      "0.83\n",
      "0.87\n",
      "0.94\n",
      "0.99\n",
      "0.96\n",
      "0.98\n",
      "0.97\n",
      "0.83\n",
      "0.87\n",
      "0.95\n",
      "0.99\n",
      "0.97\n",
      "0.84\n",
      "0.87\n",
      "0.96\n",
      "0.99\n",
      "0.96\n",
      "0.99\n",
      "0.97\n",
      "0.85\n",
      "0.87\n",
      "0.97\n",
      "0.99\n",
      "0.96\n",
      "0.99\n",
      "0.97\n",
      "0.87\n",
      "0.89\n",
      "0.97\n",
      "0.99\n",
      "0.97\n",
      "0.87\n",
      "0.93\n",
      "0.98\n",
      "0.99\n",
      "0.96\n",
      "0.99\n",
      "0.97\n",
      "0.87\n",
      "0.93\n",
      "0.98\n",
      "0.99\n",
      "0.96\n",
      "0.99\n",
      "0.97\n",
      "0.87\n",
      "0.93\n",
      "0.98\n",
      "0.99\n",
      "0.96\n",
      "0.99\n",
      "0.97\n",
      "0.87\n",
      "0.93\n",
      "0.98\n",
      "0.99\n",
      "0.97\n",
      "0.87\n",
      "0.95\n",
      "0.98\n",
      "0.99\n",
      "0.96\n",
      "0.99\n",
      "0.97\n",
      "0.87\n",
      "0.95\n",
      "0.98\n",
      "0.99\n",
      "0.96\n",
      "0.99\n",
      "0.97\n",
      "0.89\n",
      "0.96\n",
      "0.98\n",
      "0.99\n",
      "0.97\n",
      "0.92\n",
      "0.96\n",
      "0.98\n",
      "1.0\n",
      "1.0\n"
     ]
    }
   ],
   "source": [
    "normal = linear_classifier(X, y, acc=True)"
   ]
  },
  {
   "cell_type": "code",
   "execution_count": 4,
   "metadata": {},
   "outputs": [],
   "source": [
    "def draw_classifier_origin(X, y, normal):\n",
    "    \"\"\"\n",
    "    Input:\n",
    "        X, y: the X, y to be used for linear_classifier\n",
    "        normal: a normal vector\n",
    "    Output:\n",
    "        an illustration of the classifier\n",
    "        This function works only when X.shape[1] == 2.\n",
    "    \"\"\"\n",
    "    fig = plt.figure(figsize=(5,5))\n",
    "    ax = plt.axes()\n",
    "    ### draw data points\n",
    "    ax.scatter(X[:,0], X[:,1], c=y, cmap='viridis')\n",
    "    \n",
    "    ### set boundary\n",
    "    xleft, xright = X[:,0].min(), X[:,0].max()\n",
    "    yleft, yright = X[:,1].min(), X[:,1].max()\n",
    "    xwidth = xright - xleft\n",
    "    ywidth = yright - yleft\n",
    "    width = max([xwidth, ywidth])\n",
    "    xleft, xright = xleft - (width-xwidth)/2, xright + (width-xwidth)/2\n",
    "    yleft, yright = yleft - (width-ywidth)/2, yright + (width-ywidth)/2\n",
    "    ax.set_xlim(xleft, xright)\n",
    "    ax.set_ylim(yleft, yright)\n",
    "    \n",
    "    ### draw normal vector and the line\n",
    "    length = np.sqrt(np.sum(normal ** 2))\n",
    "    c1,c2 = normal / length * (0.25*width)\n",
    "    ax.arrow(0, 0, c1, c2, color='red', head_width=0.05*width)\n",
    "    ax.plot([-4*width*c2, 4*width*c2], [4*width*c1, -4*width*c1], color='red')\n",
    "#     fig.savefig('linear_classifier.png')"
   ]
  },
  {
   "cell_type": "code",
   "execution_count": 18,
   "metadata": {
    "scrolled": true
   },
   "outputs": [
    {
     "data": {
      "image/png": "[encoded data removed]",
      "text/plain": [
       "<Figure size 360x360 with 1 Axes>"
      ]
     },
     "metadata": {
      "image/png": {
       "height": 302,
       "width": 315
      }
     },
     "output_type": "display_data"
    }
   ],
   "source": [
    "draw_classifier_origin(X, y, normal)"
   ]
  },
  {
   "cell_type": "code",
   "execution_count": null,
   "metadata": {},
   "outputs": [],
   "source": []
  }
 ],
 "metadata": {
  "kernelspec": {
   "display_name": "Python 3",
   "language": "python",
   "name": "python3"
  },
  "language_info": {
   "codemirror_mode": {
    "name": "ipython",
    "version": 3
   },
   "file_extension": ".py",
   "mimetype": "text/x-python",
   "name": "python",
   "nbconvert_exporter": "python",
   "pygments_lexer": "ipython3",
   "version": "3.8.1"
  }
 },
 "nbformat": 4,
 "nbformat_minor": 2
}
