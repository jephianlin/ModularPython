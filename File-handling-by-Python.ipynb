{
 "cells": [
  {
   "cell_type": "markdown",
   "metadata": {},
   "source": [
    "# File handling by Python"
   ]
  },
  {
   "cell_type": "markdown",
   "metadata": {},
   "source": [
    "![Creative Commons License](https://i.creativecommons.org/l/by/4.0/88x31.png)  \n",
    "This work by Jephian Lin and Chang-Yu Pan is licensed under a [Creative Commons Attribution 4.0 International License](http://creativecommons.org/licenses/by/4.0/)."
   ]
  },
  {
   "cell_type": "markdown",
   "metadata": {},
   "source": [
    "## Introduction to command line"
   ]
  },
  {
   "cell_type": "markdown",
   "metadata": {},
   "source": [
    "Command line interface (CLI)  \n",
    "provides **efficient** (though not intuitive) ways  \n",
    "to control the machine.  "
   ]
  },
  {
   "cell_type": "markdown",
   "metadata": {},
   "source": [
    "#### CLI is more than enough for many basic tasks\n",
    "For example, Linux or Mac machines  \n",
    "use `ls`, `cd`, ... to navigate the file systems.  \n",
    "(MS-DOS uses `dir`, `cd`, ...)  \n",
    "\n",
    "Various apps are available for high-level tasks:  \n",
    "Emacs and Vim are text editors,  \n",
    "`zip` (or `tar`) compresses files,  \n",
    "`latex` generates high-quality PDFs,  \n",
    "`ssh` provides a secure connection to a remote server, and  \n",
    "`git` do the version control."
   ]
  },
  {
   "cell_type": "markdown",
   "metadata": {},
   "source": [
    "#### Default interface on many workstations\n",
    "Graphical user interface (GUI)  \n",
    "is slower and occupies  \n",
    "larger bandwitdh of the connection.  \n",
    "\n",
    "As a result,  \n",
    "many workstations by default  \n",
    "only have the CLI,  \n",
    "while the GUI is limited  \n",
    "to certain tasks (e.g., YouTube, FTP)."
   ]
  },
  {
   "cell_type": "markdown",
   "metadata": {},
   "source": [
    "#### CLI allows you to talk to different programming languages\n",
    "In general, different programming languages  \n",
    "do not talk to others.  \n",
    "(However, Python can call R, and vice versa.)\n",
    "\n",
    "Almost all programming languages  \n",
    "allows you to store your data  \n",
    "into a text file (e.g., `txt` or `csv`).\n",
    "\n",
    "Using CLI,  \n",
    "you may easily run an R script  \n",
    "(which generates some files)  \n",
    "and then ask Python do further tasks  \n",
    "(based on the generated files)."
   ]
  },
  {
   "cell_type": "markdown",
   "metadata": {},
   "source": [
    "## Interact with system shell"
   ]
  },
  {
   "cell_type": "markdown",
   "metadata": {},
   "source": [
    "Use the **subprocess** module  \n",
    "to open a process in your OS  \n",
    "and interact with it."
   ]
  },
  {
   "cell_type": "code",
   "execution_count": 1,
   "metadata": {},
   "outputs": [],
   "source": [
    "import subprocess"
   ]
  },
  {
   "cell_type": "markdown",
   "metadata": {},
   "source": [
    "This is a Python code  \n",
    "which asks for your name  \n",
    "and say hello to you."
   ]
  },
  {
   "cell_type": "code",
   "execution_count": 2,
   "metadata": {},
   "outputs": [
    {
     "name": "stdout",
     "output_type": "stream",
     "text": [
      "Please tell me your name:\n",
      "Taiwan\n",
      "Hello Taiwan!\n"
     ]
    }
   ],
   "source": [
    "print('Please tell me your name:')\n",
    "name = input()\n",
    "print('Hello %s!'%name)"
   ]
  },
  {
   "cell_type": "markdown",
   "metadata": {},
   "source": [
    "With the magic method `%%writefile`  \n",
    "you may write the content of the cell  \n",
    "into a file."
   ]
  },
  {
   "cell_type": "code",
   "execution_count": 3,
   "metadata": {},
   "outputs": [
    {
     "name": "stdout",
     "output_type": "stream",
     "text": [
      "Writing hello.py\n"
     ]
    }
   ],
   "source": [
    "%%writefile hello.py\n",
    "\n",
    "print('Please tell me your name:')\n",
    "name = input()\n",
    "print('Hello %s!'%name)"
   ]
  },
  {
   "cell_type": "markdown",
   "metadata": {},
   "source": [
    "Now `subprocess.run(command)`  \n",
    "allows you to run your `command`.  \n",
    "\n",
    "The `input` keyword allow you to  \n",
    "provide your input (in `bytes` format).  \n",
    "\n",
    "The default output will go to the terminal  \n",
    "(so you cannot see it).  \n",
    "Use `capture_output=True` to keep the output."
   ]
  },
  {
   "cell_type": "code",
   "execution_count": 4,
   "metadata": {},
   "outputs": [],
   "source": [
    "run = subprocess.run(['python', 'hello.py'], input=b'Taiwan', capture_output=True)"
   ]
  },
  {
   "cell_type": "markdown",
   "metadata": {},
   "source": [
    "The standard input and output  \n",
    "formats are in `bytes`."
   ]
  },
  {
   "cell_type": "code",
   "execution_count": 5,
   "metadata": {},
   "outputs": [
    {
     "data": {
      "text/plain": [
       "b'Please tell me your name:\\nHello Taiwan!\\n'"
      ]
     },
     "execution_count": 5,
     "metadata": {},
     "output_type": "execute_result"
    }
   ],
   "source": [
    "run.stdout"
   ]
  },
  {
   "cell_type": "markdown",
   "metadata": {},
   "source": [
    "Use `.decode()` to change it to `str`."
   ]
  },
  {
   "cell_type": "code",
   "execution_count": 6,
   "metadata": {},
   "outputs": [
    {
     "name": "stdout",
     "output_type": "stream",
     "text": [
      "Please tell me your name:\n",
      "Hello Taiwan!\n",
      "\n"
     ]
    }
   ],
   "source": [
    "print(run.stdout.decode())"
   ]
  },
  {
   "cell_type": "markdown",
   "metadata": {},
   "source": [
    "You may try other commands.  \n",
    "To list the content of the folder  \n",
    "use `ls` for Linux and Mac,  \n",
    "or `dir` for Windows."
   ]
  },
  {
   "cell_type": "code",
   "execution_count": 7,
   "metadata": {
    "scrolled": true
   },
   "outputs": [
    {
     "name": "stdout",
     "output_type": "stream",
     "text": [
      "256px-Colored_neural_network.svg.png\n",
      "256px-SVM_margin.png\n",
      "Algorithms-data-to-graph.ipynb\n",
      "Algorithms-k-mean-clustering.ipynb\n",
      "Algorithms-linear-classifier.ipynb\n",
      "Algorithms-neural-network-feedforward-and-accuracy.ipynb\n",
      "Algorithms-searching-algorithms.ipynb\n",
      "Algorithms-spectral-embedding.ipynb\n",
      "A-taste-of-data-science.ipynb\n",
      "A-taste-of-feature-engineering.ipynb\n",
      "Complexity-sorting-and-vectorization.ipynb\n",
      "eball.png\n",
      "File-handling-by-Python.ipynb\n",
      "hello.py\n",
      "Introduction-to-NetworkX.ipynb\n",
      "Introduction-to-scikit-learn.ipynb\n",
      "kmean.png\n",
      "kNN.png\n",
      "LICENSE\n",
      "linear_classifier.png\n",
      "NeuralNetwork1.ipynb\n",
      "README.md\n",
      "spectral_embedding.png\n",
      "\n"
     ]
    }
   ],
   "source": [
    "run = subprocess.run('ls', capture_output=True)\n",
    "print(run.stdout.decode())"
   ]
  },
  {
   "cell_type": "code",
   "execution_count": 8,
   "metadata": {
    "scrolled": true
   },
   "outputs": [
    {
     "data": {
      "text/plain": [
       "0"
      ]
     },
     "execution_count": 8,
     "metadata": {},
     "output_type": "execute_result"
    }
   ],
   "source": [
    "### remove the file hello.py\n",
    "### returncode 0 means the process is doen without error\n",
    "### returncode 1 means there is an error\n",
    "run = subprocess.run(['rm', 'hello.py'])\n",
    "run.returncode"
   ]
  },
  {
   "cell_type": "markdown",
   "metadata": {},
   "source": [
    "## Handle files by Python\n",
    "The **os** module allows you  \n",
    "to do many basic tasks in Python.  \n",
    "\n",
    "The syntax is cross-platform."
   ]
  },
  {
   "cell_type": "code",
   "execution_count": 9,
   "metadata": {},
   "outputs": [],
   "source": [
    "import os"
   ]
  },
  {
   "cell_type": "markdown",
   "metadata": {},
   "source": [
    "Use `os.getcwd()`  \n",
    "to get **current working directory**."
   ]
  },
  {
   "cell_type": "code",
   "execution_count": 10,
   "metadata": {
    "scrolled": true
   },
   "outputs": [
    {
     "data": {
      "text/plain": [
       "'/home/jephian/cache/ModularPython'"
      ]
     },
     "execution_count": 10,
     "metadata": {},
     "output_type": "execute_result"
    }
   ],
   "source": [
    "os.getcwd()"
   ]
  },
  {
   "cell_type": "markdown",
   "metadata": {},
   "source": [
    "Use `os.listdir(path)`  \n",
    "to **list** the content in `path`.  \n",
    "\n",
    "The default path is `'.'`  \n",
    "which means the current working directory."
   ]
  },
  {
   "cell_type": "code",
   "execution_count": 11,
   "metadata": {
    "scrolled": true
   },
   "outputs": [
    {
     "data": {
      "text/plain": [
       "['kmean.png',\n",
       " 'Introduction-to-NetworkX.ipynb',\n",
       " 'Complexity-sorting-and-vectorization.ipynb',\n",
       " 'Introduction-to-scikit-learn.ipynb',\n",
       " 'Algorithms-k-mean-clustering.ipynb',\n",
       " 'linear_classifier.png',\n",
       " '.ipynb_checkpoints',\n",
       " 'A-taste-of-data-science.ipynb',\n",
       " 'kNN.png',\n",
       " 'spectral_embedding.png',\n",
       " 'File-handling-by-Python.ipynb',\n",
       " 'NeuralNetwork1.ipynb',\n",
       " 'Algorithms-data-to-graph.ipynb',\n",
       " 'A-taste-of-feature-engineering.ipynb',\n",
       " '.git',\n",
       " '256px-SVM_margin.png',\n",
       " 'Algorithms-linear-classifier.ipynb',\n",
       " 'LICENSE',\n",
       " 'Algorithms-spectral-embedding.ipynb',\n",
       " 'README.md',\n",
       " '256px-Colored_neural_network.svg.png',\n",
       " 'eball.png',\n",
       " 'Algorithms-neural-network-feedforward-and-accuracy.ipynb',\n",
       " 'Algorithms-searching-algorithms.ipynb']"
      ]
     },
     "execution_count": 11,
     "metadata": {},
     "output_type": "execute_result"
    }
   ],
   "source": [
    "os.listdir()"
   ]
  },
  {
   "cell_type": "markdown",
   "metadata": {},
   "source": [
    "Use `os.mkdir(folder_name)`  \n",
    "to **create a folder** called `folder_name`."
   ]
  },
  {
   "cell_type": "code",
   "execution_count": 13,
   "metadata": {
    "scrolled": true
   },
   "outputs": [
    {
     "data": {
      "text/plain": [
       "['kmean.png',\n",
       " 'Introduction-to-NetworkX.ipynb',\n",
       " 'Complexity-sorting-and-vectorization.ipynb',\n",
       " 'Introduction-to-scikit-learn.ipynb',\n",
       " 'Algorithms-k-mean-clustering.ipynb',\n",
       " 'linear_classifier.png',\n",
       " '.ipynb_checkpoints',\n",
       " 'A-taste-of-data-science.ipynb',\n",
       " 'kNN.png',\n",
       " 'spectral_embedding.png',\n",
       " 'File-handling-by-Python.ipynb',\n",
       " 'NeuralNetwork1.ipynb',\n",
       " 'folder_1',\n",
       " 'Algorithms-data-to-graph.ipynb',\n",
       " 'A-taste-of-feature-engineering.ipynb',\n",
       " '.git',\n",
       " '256px-SVM_margin.png',\n",
       " 'Algorithms-linear-classifier.ipynb',\n",
       " 'LICENSE',\n",
       " 'Algorithms-spectral-embedding.ipynb',\n",
       " 'README.md',\n",
       " '256px-Colored_neural_network.svg.png',\n",
       " 'eball.png',\n",
       " 'Algorithms-neural-network-feedforward-and-accuracy.ipynb',\n",
       " 'Algorithms-searching-algorithms.ipynb']"
      ]
     },
     "execution_count": 13,
     "metadata": {},
     "output_type": "execute_result"
    }
   ],
   "source": [
    "os.mkdir('folder_1')\n",
    "os.listdir()"
   ]
  },
  {
   "cell_type": "markdown",
   "metadata": {},
   "source": [
    "Use `os.chdir(path)`  \n",
    "to **change working directory** to `path`."
   ]
  },
  {
   "cell_type": "code",
   "execution_count": 14,
   "metadata": {},
   "outputs": [
    {
     "data": {
      "text/plain": [
       "[]"
      ]
     },
     "execution_count": 14,
     "metadata": {},
     "output_type": "execute_result"
    }
   ],
   "source": [
    "os.chdir('folder_1/')\n",
    "os.listdir()"
   ]
  },
  {
   "cell_type": "markdown",
   "metadata": {},
   "source": [
    "Create and write into a file."
   ]
  },
  {
   "cell_type": "code",
   "execution_count": 15,
   "metadata": {},
   "outputs": [
    {
     "data": {
      "text/plain": [
       "['sample.txt']"
      ]
     },
     "execution_count": 15,
     "metadata": {},
     "output_type": "execute_result"
    }
   ],
   "source": [
    "f = open('sample.txt','w+')\n",
    "f.write(\"This is a line.\")\n",
    "f.close()\n",
    "os.listdir()"
   ]
  },
  {
   "cell_type": "markdown",
   "metadata": {},
   "source": [
    "Use `os.rename(name1, name2)`  \n",
    "to **rename** the file."
   ]
  },
  {
   "cell_type": "code",
   "execution_count": 16,
   "metadata": {
    "scrolled": true
   },
   "outputs": [
    {
     "data": {
      "text/plain": [
       "['sample_new.txt']"
      ]
     },
     "execution_count": 16,
     "metadata": {},
     "output_type": "execute_result"
    }
   ],
   "source": [
    "os.rename('sample.txt','sample_new.txt')\n",
    "os.listdir()"
   ]
  },
  {
   "cell_type": "markdown",
   "metadata": {},
   "source": [
    "`os.rename` can also be used  \n",
    "to **move** a file.\n",
    "\n",
    "Here `'..'` stands for the parent folder."
   ]
  },
  {
   "cell_type": "code",
   "execution_count": 17,
   "metadata": {
    "scrolled": true
   },
   "outputs": [
    {
     "data": {
      "text/plain": [
       "['kmean.png',\n",
       " 'Introduction-to-NetworkX.ipynb',\n",
       " 'Complexity-sorting-and-vectorization.ipynb',\n",
       " 'Introduction-to-scikit-learn.ipynb',\n",
       " 'Algorithms-k-mean-clustering.ipynb',\n",
       " 'linear_classifier.png',\n",
       " '.ipynb_checkpoints',\n",
       " 'A-taste-of-data-science.ipynb',\n",
       " 'kNN.png',\n",
       " 'spectral_embedding.png',\n",
       " 'File-handling-by-Python.ipynb',\n",
       " 'NeuralNetwork1.ipynb',\n",
       " 'folder_1',\n",
       " 'Algorithms-data-to-graph.ipynb',\n",
       " 'A-taste-of-feature-engineering.ipynb',\n",
       " 'sample.txt',\n",
       " '.git',\n",
       " '256px-SVM_margin.png',\n",
       " 'Algorithms-linear-classifier.ipynb',\n",
       " 'LICENSE',\n",
       " 'Algorithms-spectral-embedding.ipynb',\n",
       " 'README.md',\n",
       " '256px-Colored_neural_network.svg.png',\n",
       " 'eball.png',\n",
       " 'Algorithms-neural-network-feedforward-and-accuracy.ipynb',\n",
       " 'Algorithms-searching-algorithms.ipynb']"
      ]
     },
     "execution_count": 17,
     "metadata": {},
     "output_type": "execute_result"
    }
   ],
   "source": [
    "os.chdir('..')\n",
    "os.rename('folder_1/sample_new.txt','sample.txt')\n",
    "os.listdir()"
   ]
  },
  {
   "cell_type": "markdown",
   "metadata": {},
   "source": [
    "Use `os.remove(file_name)`  \n",
    "to **remove** a file `file_name`."
   ]
  },
  {
   "cell_type": "code",
   "execution_count": 18,
   "metadata": {
    "scrolled": true
   },
   "outputs": [
    {
     "data": {
      "text/plain": [
       "['kmean.png',\n",
       " 'Introduction-to-NetworkX.ipynb',\n",
       " 'Complexity-sorting-and-vectorization.ipynb',\n",
       " 'Introduction-to-scikit-learn.ipynb',\n",
       " 'Algorithms-k-mean-clustering.ipynb',\n",
       " 'linear_classifier.png',\n",
       " '.ipynb_checkpoints',\n",
       " 'A-taste-of-data-science.ipynb',\n",
       " 'kNN.png',\n",
       " 'spectral_embedding.png',\n",
       " 'File-handling-by-Python.ipynb',\n",
       " 'NeuralNetwork1.ipynb',\n",
       " 'folder_1',\n",
       " 'Algorithms-data-to-graph.ipynb',\n",
       " 'A-taste-of-feature-engineering.ipynb',\n",
       " '.git',\n",
       " '256px-SVM_margin.png',\n",
       " 'Algorithms-linear-classifier.ipynb',\n",
       " 'LICENSE',\n",
       " 'Algorithms-spectral-embedding.ipynb',\n",
       " 'README.md',\n",
       " '256px-Colored_neural_network.svg.png',\n",
       " 'eball.png',\n",
       " 'Algorithms-neural-network-feedforward-and-accuracy.ipynb',\n",
       " 'Algorithms-searching-algorithms.ipynb']"
      ]
     },
     "execution_count": 18,
     "metadata": {},
     "output_type": "execute_result"
    }
   ],
   "source": [
    "os.remove('sample.txt')\n",
    "os.listdir()"
   ]
  },
  {
   "cell_type": "markdown",
   "metadata": {},
   "source": [
    "Use `os.rmdir(folder_name)`  \n",
    "to **remove** a folder `folder_name`."
   ]
  },
  {
   "cell_type": "code",
   "execution_count": 19,
   "metadata": {
    "scrolled": true
   },
   "outputs": [
    {
     "data": {
      "text/plain": [
       "['kmean.png',\n",
       " 'Introduction-to-NetworkX.ipynb',\n",
       " 'Complexity-sorting-and-vectorization.ipynb',\n",
       " 'Introduction-to-scikit-learn.ipynb',\n",
       " 'Algorithms-k-mean-clustering.ipynb',\n",
       " 'linear_classifier.png',\n",
       " '.ipynb_checkpoints',\n",
       " 'A-taste-of-data-science.ipynb',\n",
       " 'kNN.png',\n",
       " 'spectral_embedding.png',\n",
       " 'File-handling-by-Python.ipynb',\n",
       " 'NeuralNetwork1.ipynb',\n",
       " 'Algorithms-data-to-graph.ipynb',\n",
       " 'A-taste-of-feature-engineering.ipynb',\n",
       " '.git',\n",
       " '256px-SVM_margin.png',\n",
       " 'Algorithms-linear-classifier.ipynb',\n",
       " 'LICENSE',\n",
       " 'Algorithms-spectral-embedding.ipynb',\n",
       " 'README.md',\n",
       " '256px-Colored_neural_network.svg.png',\n",
       " 'eball.png',\n",
       " 'Algorithms-neural-network-feedforward-and-accuracy.ipynb',\n",
       " 'Algorithms-searching-algorithms.ipynb']"
      ]
     },
     "execution_count": 19,
     "metadata": {},
     "output_type": "execute_result"
    }
   ],
   "source": [
    "os.rmdir('folder_1')\n",
    "os.listdir()"
   ]
  },
  {
   "cell_type": "markdown",
   "metadata": {},
   "source": [
    "If a folder is not empty,  \n",
    "you actually have to **remove the whole directory tree**."
   ]
  },
  {
   "cell_type": "code",
   "execution_count": null,
   "metadata": {},
   "outputs": [],
   "source": [
    "import shutil\n",
    "shutil.rmtree('folder_1/')\n",
    "os.listdir()"
   ]
  },
  {
   "cell_type": "code",
   "execution_count": null,
   "metadata": {},
   "outputs": [],
   "source": []
  }
 ],
 "metadata": {
  "kernelspec": {
   "display_name": "Python 3",
   "language": "python",
   "name": "python3"
  },
  "language_info": {
   "codemirror_mode": {
    "name": "ipython",
    "version": 3
   },
   "file_extension": ".py",
   "mimetype": "text/x-python",
   "name": "python",
   "nbconvert_exporter": "python",
   "pygments_lexer": "ipython3",
   "version": "3.8.1"
  }
 },
 "nbformat": 4,
 "nbformat_minor": 2
}
