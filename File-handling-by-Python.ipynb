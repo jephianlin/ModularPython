{
 "cells": [
  {
   "cell_type": "markdown",
   "metadata": {},
   "source": [
    "# File handling by Python"
   ]
  },
  {
   "cell_type": "markdown",
   "metadata": {},
   "source": [
    "![Creative Commons License](https://i.creativecommons.org/l/by/4.0/88x31.png)  \n",
    "This work by Jephian Lin and Chang-Yu Pan is licensed under a [Creative Commons Attribution 4.0 International License](http://creativecommons.org/licenses/by/4.0/)."
   ]
  },
  {
   "cell_type": "markdown",
   "metadata": {},
   "source": [
    "## Introduction to command line"
   ]
  },
  {
   "cell_type": "markdown",
   "metadata": {},
   "source": [
    "Command line interface (CLI)  \n",
    "provides **efficient** (though not intuitive) ways  \n",
    "to control the machine.  "
   ]
  },
  {
   "cell_type": "markdown",
   "metadata": {},
   "source": [
    "#### CLI is more than enough for many basic tasks\n",
    "For example, Linux or Mac machines  \n",
    "use `ls`, `cd`, ... to navigate the file systems.  \n",
    "(MS-DOS uses `dir`, `cd`, ...)  \n",
    "\n",
    "Various apps are available for high-level tasks:  \n",
    "Emacs and Vim are text editors,  \n",
    "`zip` (or `tar`) compresses files,  \n",
    "`latex` generates high-quality PDFs,  \n",
    "`ssh` provides a secure connection to a remote server, and  \n",
    "`git` do the version control."
   ]
  },
  {
   "cell_type": "markdown",
   "metadata": {},
   "source": [
    "#### Default interface on many workstations\n",
    "Graphical user interface (GUI)  \n",
    "is slower and occupies  \n",
    "larger bandwitdh of the connection.  \n",
    "\n",
    "As a result,  \n",
    "many workstations by default  \n",
    "only have the CLI,  \n",
    "while the GUI is limited  \n",
    "to certain tasks (e.g., YouTube, FTP)."
   ]
  },
  {
   "cell_type": "markdown",
   "metadata": {},
   "source": [
    "#### CLI allows you to talk to different programming languages\n",
    "In general, different programming languages  \n",
    "do not talk to others.  \n",
    "(However, Python can call R, and vice versa.)\n",
    "\n",
    "Almost all programming languages  \n",
    "allows you to store your data  \n",
    "into a text file (e.g., `txt` or `csv`).\n",
    "\n",
    "Using CLI,  \n",
    "you may easily run an R script  \n",
    "(which generates some files)  \n",
    "and then ask Python do further tasks  \n",
    "(based on the generated files)."
   ]
  },
  {
   "cell_type": "markdown",
   "metadata": {},
   "source": [
    "## Interact with system shell"
   ]
  },
  {
   "cell_type": "markdown",
   "metadata": {},
   "source": [
    "Use the **subprocess** module  \n",
    "to open a process in your OS  \n",
    "and interact with it."
   ]
  },
  {
   "cell_type": "code",
   "execution_count": 91,
   "metadata": {},
   "outputs": [],
   "source": [
    "import subprocess"
   ]
  },
  {
   "cell_type": "markdown",
   "metadata": {},
   "source": [
    "This is a Python code  \n",
    "which asks for your name  \n",
    "and say hello to you."
   ]
  },
  {
   "cell_type": "code",
   "execution_count": 84,
   "metadata": {},
   "outputs": [
    {
     "name": "stdout",
     "output_type": "stream",
     "text": [
      "Please tell me your name:\n",
      "Taiwan\n",
      "Hello Taiwan!\n"
     ]
    }
   ],
   "source": [
    "print('Please tell me your name:')\n",
    "name = input()\n",
    "print('Hello %s!'%name)"
   ]
  },
  {
   "cell_type": "markdown",
   "metadata": {},
   "source": [
    "With the magic method `%%writefile`  \n",
    "you may write the content of the cell  \n",
    "into a file."
   ]
  },
  {
   "cell_type": "code",
   "execution_count": 85,
   "metadata": {},
   "outputs": [
    {
     "name": "stdout",
     "output_type": "stream",
     "text": [
      "Writing hello.py\n"
     ]
    }
   ],
   "source": [
    "%%writefile hello.py\n",
    "\n",
    "print('Please tell me your name:')\n",
    "name = input()\n",
    "print('Hello %s!'%name)"
   ]
  },
  {
   "cell_type": "markdown",
   "metadata": {},
   "source": [
    "Now `subprocess.run(command)`  \n",
    "allows you to run your `command`.  \n",
    "\n",
    "The `input` keyword allow you to  \n",
    "provide your input (in `bytes` format).  \n",
    "\n",
    "The default output will go to the terminal  \n",
    "(so you cannot see it).  \n",
    "Use `capture_output=True` to keep the output."
   ]
  },
  {
   "cell_type": "code",
   "execution_count": 86,
   "metadata": {},
   "outputs": [],
   "source": [
    "run = subprocess.run(['python', 'hello.py'], input=b'Taiwan', capture_output=True)"
   ]
  },
  {
   "cell_type": "markdown",
   "metadata": {},
   "source": [
    "The standard input and output  \n",
    "formats are in `bytes`."
   ]
  },
  {
   "cell_type": "code",
   "execution_count": 87,
   "metadata": {},
   "outputs": [
    {
     "data": {
      "text/plain": [
       "b'Please tell me your name:\\nHello Taiwan!\\n'"
      ]
     },
     "execution_count": 87,
     "metadata": {},
     "output_type": "execute_result"
    }
   ],
   "source": [
    "run.stdout"
   ]
  },
  {
   "cell_type": "markdown",
   "metadata": {},
   "source": [
    "Use `.decode()` to change it to `str`."
   ]
  },
  {
   "cell_type": "code",
   "execution_count": 88,
   "metadata": {},
   "outputs": [
    {
     "name": "stdout",
     "output_type": "stream",
     "text": [
      "Please tell me your name:\n",
      "Hello Taiwan!\n",
      "\n"
     ]
    }
   ],
   "source": [
    "print(run.stdout.decode())"
   ]
  },
  {
   "cell_type": "markdown",
   "metadata": {},
   "source": [
    "You may try other commands.  \n",
    "To list the content of the folder  \n",
    "use `ls` for Linux and Mac,  \n",
    "or `dir` for Windows."
   ]
  },
  {
   "cell_type": "code",
   "execution_count": 89,
   "metadata": {
    "scrolled": true
   },
   "outputs": [
    {
     "name": "stdout",
     "output_type": "stream",
     "text": [
      "137669277.docx\n",
      "4034658.pdf\n",
      "A2-1-Linear-algebra-k-mean-clustering.pdf\n",
      "AerLingusReceipt2-2U3ML6.pdf\n",
      "AerLingusReceipt.pdf\n",
      "AG84.pdf\n",
      "AK97.pdf\n",
      "BLS07.pdf\n",
      "Chladni.ipynb\n",
      "fernandes2009.pdf\n",
      "File-handling-by-Python.ipynb\n",
      "gssp\n",
      "hello.py\n",
      "HLS_IEPG-ZF_part-draft.pdf\n",
      "ILAS2020-abstract.pdf\n",
      "ILAS2020-abstract.tex\n",
      "JephianLin.aux\n",
      "JephianLin.log\n",
      "JephianLin.out\n",
      "JephianLin.pdf\n",
      "JephianLin.tex\n",
      "JOC1901-002RA0.pdf\n",
      "JT2020.pdf\n",
      "learnc\n",
      "Manual\n",
      "MRChen-REU.pdf\n",
      "Pauline-Jephian\n",
      "photos\n",
      "Photos (1).zip\n",
      "Photos.zip\n",
      "research\n",
      "Response_to_reviewers.tex\n",
      "sdsafe\n",
      "ssp\n",
      "ssp-0210.zip\n",
      "ssp-1227.zip\n",
      "ssp-1229.zip\n",
      "ssp (1).pdf\n",
      "ssp (1).tex\n",
      "ssp-active.pdf\n",
      "ssp.bib\n",
      "ssp.pdf\n",
      "ssp.tex\n",
      "test\n",
      "test2\n",
      "Victoria-pix\n",
      "website\n",
      "xgboost.ipynb\n",
      "Zpower.ipynb\n",
      "\n"
     ]
    }
   ],
   "source": [
    "run = subprocess.run('ls', capture_output=True)\n",
    "print(run.stdout.decode())"
   ]
  },
  {
   "cell_type": "code",
   "execution_count": 90,
   "metadata": {
    "scrolled": true
   },
   "outputs": [
    {
     "data": {
      "text/plain": [
       "0"
      ]
     },
     "execution_count": 90,
     "metadata": {},
     "output_type": "execute_result"
    }
   ],
   "source": [
    "### remove the file hello.py\n",
    "### returncode 0 means the process is doen without error\n",
    "### returncode 1 means there is an error\n",
    "run = subprocess.run(['rm', 'hello.py'])\n",
    "run.returncode"
   ]
  },
  {
   "cell_type": "markdown",
   "metadata": {},
   "source": [
    "## Handle files by Python\n",
    "The **os** module allows you  \n",
    "to do many basic tasks in Python.  \n",
    "\n",
    "The syntax is cross-platform."
   ]
  },
  {
   "cell_type": "code",
   "execution_count": 94,
   "metadata": {},
   "outputs": [],
   "source": [
    "import os"
   ]
  },
  {
   "cell_type": "markdown",
   "metadata": {},
   "source": [
    "Use `os.getcwd()`  \n",
    "to get **current working directory**."
   ]
  },
  {
   "cell_type": "code",
   "execution_count": 95,
   "metadata": {
    "scrolled": true
   },
   "outputs": [
    {
     "data": {
      "text/plain": [
       "'/home/jephian/Downloads'"
      ]
     },
     "execution_count": 95,
     "metadata": {},
     "output_type": "execute_result"
    }
   ],
   "source": [
    "os.getcwd()"
   ]
  },
  {
   "cell_type": "markdown",
   "metadata": {},
   "source": [
    "Use `os.listdir(path)`  \n",
    "to **list** the content in `path`.  \n",
    "\n",
    "The default path is `'.'`  \n",
    "which means the current working directory."
   ]
  },
  {
   "cell_type": "code",
   "execution_count": 98,
   "metadata": {
    "scrolled": true
   },
   "outputs": [
    {
     "data": {
      "text/plain": [
       "['ssp.bib',\n",
       " 'MRChen-REU.pdf',\n",
       " 'A2-1-Linear-algebra-k-mean-clustering.pdf',\n",
       " 'Zpower.ipynb',\n",
       " 'JephianLin.tex',\n",
       " 'AerLingusReceipt2-2U3ML6.pdf',\n",
       " 'JephianLin.pdf',\n",
       " 'Photos (1).zip',\n",
       " 'Victoria-pix',\n",
       " 'ssp-0210.zip',\n",
       " 'test',\n",
       " 'photos',\n",
       " 'BLS07.pdf',\n",
       " 'Manual',\n",
       " 'Chladni.ipynb',\n",
       " 'ssp (1).tex',\n",
       " '137669277.docx',\n",
       " '.ipynb_checkpoints',\n",
       " 'ssp',\n",
       " 'JephianLin.log',\n",
       " 'xgboost.ipynb',\n",
       " 'ILAS2020-abstract.pdf',\n",
       " 'Pauline-Jephian',\n",
       " 'File-handling-by-Python.ipynb',\n",
       " 'fernandes2009.pdf',\n",
       " 'ILAS2020-abstract.tex',\n",
       " '..html',\n",
       " 'ssp.pdf',\n",
       " 'JT2020.pdf',\n",
       " 'ssp (1).pdf',\n",
       " 'JephianLin.out',\n",
       " 'sdsafe',\n",
       " 'Photos.zip',\n",
       " 'ssp-1227.zip',\n",
       " 'AK97.pdf',\n",
       " '4034658.pdf',\n",
       " 'test2',\n",
       " '._files',\n",
       " 'research',\n",
       " 'ssp-1229.zip',\n",
       " 'gssp',\n",
       " 'learnc',\n",
       " 'AerLingusReceipt.pdf',\n",
       " 'JephianLin.aux',\n",
       " 'JOC1901-002RA0.pdf',\n",
       " 'Response_to_reviewers.tex',\n",
       " 'HLS_IEPG-ZF_part-draft.pdf',\n",
       " 'website',\n",
       " 'ssp-active.pdf',\n",
       " 'AG84.pdf',\n",
       " 'ssp.tex']"
      ]
     },
     "execution_count": 98,
     "metadata": {},
     "output_type": "execute_result"
    }
   ],
   "source": [
    "os.listdir()"
   ]
  },
  {
   "cell_type": "markdown",
   "metadata": {},
   "source": [
    "Use `os.mkdir(folder_name)`  \n",
    "to **create a folder** called `folder_name`."
   ]
  },
  {
   "cell_type": "code",
   "execution_count": 99,
   "metadata": {
    "scrolled": true
   },
   "outputs": [
    {
     "data": {
      "text/plain": [
       "['ssp.bib',\n",
       " 'MRChen-REU.pdf',\n",
       " 'A2-1-Linear-algebra-k-mean-clustering.pdf',\n",
       " 'Zpower.ipynb',\n",
       " 'JephianLin.tex',\n",
       " 'AerLingusReceipt2-2U3ML6.pdf',\n",
       " 'JephianLin.pdf',\n",
       " 'Photos (1).zip',\n",
       " 'Victoria-pix',\n",
       " 'ssp-0210.zip',\n",
       " 'test',\n",
       " 'photos',\n",
       " 'folder_2',\n",
       " 'BLS07.pdf',\n",
       " 'Manual',\n",
       " 'Chladni.ipynb',\n",
       " 'ssp (1).tex',\n",
       " '137669277.docx',\n",
       " '.ipynb_checkpoints',\n",
       " 'ssp',\n",
       " 'JephianLin.log',\n",
       " 'xgboost.ipynb',\n",
       " 'ILAS2020-abstract.pdf',\n",
       " 'Pauline-Jephian',\n",
       " 'File-handling-by-Python.ipynb',\n",
       " 'fernandes2009.pdf',\n",
       " 'folder_1',\n",
       " 'ILAS2020-abstract.tex',\n",
       " '..html',\n",
       " 'ssp.pdf',\n",
       " 'JT2020.pdf',\n",
       " 'ssp (1).pdf',\n",
       " 'JephianLin.out',\n",
       " 'sdsafe',\n",
       " 'Photos.zip',\n",
       " 'ssp-1227.zip',\n",
       " 'AK97.pdf',\n",
       " '4034658.pdf',\n",
       " 'test2',\n",
       " '._files',\n",
       " 'research',\n",
       " 'ssp-1229.zip',\n",
       " 'gssp',\n",
       " 'learnc',\n",
       " 'AerLingusReceipt.pdf',\n",
       " 'JephianLin.aux',\n",
       " 'JOC1901-002RA0.pdf',\n",
       " 'Response_to_reviewers.tex',\n",
       " 'HLS_IEPG-ZF_part-draft.pdf',\n",
       " 'website',\n",
       " 'ssp-active.pdf',\n",
       " 'AG84.pdf',\n",
       " 'ssp.tex']"
      ]
     },
     "execution_count": 99,
     "metadata": {},
     "output_type": "execute_result"
    }
   ],
   "source": [
    "os.mkdir('folder_1')\n",
    "os.listdir()"
   ]
  },
  {
   "cell_type": "markdown",
   "metadata": {},
   "source": [
    "Use `os.chdir(path)`  \n",
    "to **change working directory** to `path`."
   ]
  },
  {
   "cell_type": "code",
   "execution_count": 100,
   "metadata": {},
   "outputs": [
    {
     "data": {
      "text/plain": [
       "[]"
      ]
     },
     "execution_count": 100,
     "metadata": {},
     "output_type": "execute_result"
    }
   ],
   "source": [
    "os.chdir('folder_1/')\n",
    "os.listdir()"
   ]
  },
  {
   "cell_type": "markdown",
   "metadata": {},
   "source": [
    "Create and write into a file."
   ]
  },
  {
   "cell_type": "code",
   "execution_count": 8,
   "metadata": {},
   "outputs": [
    {
     "data": {
      "text/plain": [
       "['sample.txt']"
      ]
     },
     "execution_count": 8,
     "metadata": {},
     "output_type": "execute_result"
    }
   ],
   "source": [
    "f = open('sample.txt','w+')\n",
    "f.write(\"This is a line.\")\n",
    "f.close()\n",
    "os.listdir()"
   ]
  },
  {
   "cell_type": "markdown",
   "metadata": {},
   "source": [
    "Use `os.rename(name1, name2)`  \n",
    "to **rename** the file."
   ]
  },
  {
   "cell_type": "code",
   "execution_count": 10,
   "metadata": {
    "scrolled": true
   },
   "outputs": [
    {
     "data": {
      "text/plain": [
       "['sample.txt', 'sample_2.txt']"
      ]
     },
     "execution_count": 10,
     "metadata": {},
     "output_type": "execute_result"
    }
   ],
   "source": [
    "os.rename('sample.txt','sample_new.txt')\n",
    "os.listdir()"
   ]
  },
  {
   "cell_type": "markdown",
   "metadata": {},
   "source": [
    "`os.rename` can also be used  \n",
    "to **move** a file.\n",
    "\n",
    "Here `'..'` stands for the parent folder."
   ]
  },
  {
   "cell_type": "code",
   "execution_count": 11,
   "metadata": {},
   "outputs": [
    {
     "data": {
      "text/plain": [
       "['.ipynb_checkpoints',\n",
       " 'File-handling-by-Python.ipynb',\n",
       " 'folder_1',\n",
       " 'folder_2',\n",
       " 'sample.txt',\n",
       " 'Untitled.ipynb']"
      ]
     },
     "execution_count": 11,
     "metadata": {},
     "output_type": "execute_result"
    }
   ],
   "source": [
    "os.chdir('..')\n",
    "os.rename('folder_1/sample_new.txt','sample.txt')\n",
    "os.listdir()"
   ]
  },
  {
   "cell_type": "markdown",
   "metadata": {},
   "source": [
    "Use `os.remove(file_name)`  \n",
    "to **remove** a file `file_name`."
   ]
  },
  {
   "cell_type": "code",
   "execution_count": 12,
   "metadata": {},
   "outputs": [
    {
     "data": {
      "text/plain": [
       "['.ipynb_checkpoints',\n",
       " 'File-handling-by-Python.ipynb',\n",
       " 'folder_1',\n",
       " 'folder_2',\n",
       " 'Untitled.ipynb']"
      ]
     },
     "execution_count": 12,
     "metadata": {},
     "output_type": "execute_result"
    }
   ],
   "source": [
    "os.remove('sample.txt')\n",
    "os.listdir()"
   ]
  },
  {
   "cell_type": "markdown",
   "metadata": {},
   "source": [
    "Use `os.rmdir(folder_name)`  \n",
    "to **remove** a folder `folder_name`."
   ]
  },
  {
   "cell_type": "code",
   "execution_count": 13,
   "metadata": {
    "scrolled": false
   },
   "outputs": [
    {
     "data": {
      "text/plain": [
       "['.ipynb_checkpoints',\n",
       " 'File-handling-by-Python.ipynb',\n",
       " 'folder_1',\n",
       " 'Untitled.ipynb']"
      ]
     },
     "execution_count": 13,
     "metadata": {},
     "output_type": "execute_result"
    }
   ],
   "source": [
    "os.rmdir('folder_1')\n",
    "os.listdir()"
   ]
  },
  {
   "cell_type": "markdown",
   "metadata": {},
   "source": [
    "If a folder is not empty,  \n",
    "you actually have to **remove the whole directory tree**."
   ]
  },
  {
   "cell_type": "code",
   "execution_count": 14,
   "metadata": {},
   "outputs": [
    {
     "data": {
      "text/plain": [
       "['.ipynb_checkpoints', 'File-handling-by-Python.ipynb', 'Untitled.ipynb']"
      ]
     },
     "execution_count": 14,
     "metadata": {},
     "output_type": "execute_result"
    }
   ],
   "source": [
    "import shutil\n",
    "shutil.rmtree('folder_1/')\n",
    "os.listdir()"
   ]
  },
  {
   "cell_type": "code",
   "execution_count": null,
   "metadata": {},
   "outputs": [],
   "source": []
  }
 ],
 "metadata": {
  "kernelspec": {
   "display_name": "Python 3",
   "language": "python",
   "name": "python3"
  },
  "language_info": {
   "codemirror_mode": {
    "name": "ipython",
    "version": 3
   },
   "file_extension": ".py",
   "mimetype": "text/x-python",
   "name": "python",
   "nbconvert_exporter": "python",
   "pygments_lexer": "ipython3",
   "version": "3.8.1"
  }
 },
 "nbformat": 4,
 "nbformat_minor": 2
}
