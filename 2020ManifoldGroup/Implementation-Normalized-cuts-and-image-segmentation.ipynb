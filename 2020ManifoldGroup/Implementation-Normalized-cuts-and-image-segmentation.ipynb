{
 "cells": [
  {
   "cell_type": "markdown",
   "metadata": {},
   "source": [
    "# Implementation: Normalized Cuts and Image Segmentation"
   ]
  },
  {
   "cell_type": "markdown",
   "metadata": {},
   "source": [
    "![Creative Commons License](https://i.creativecommons.org/l/by/4.0/88x31.png)  \n",
    "This work by Wei-Chen Pan is licensed under a [Creative Commons Attribution 4.0 International License](http://creativecommons.org/licenses/by/4.0/)."
   ]
  },
  {
   "cell_type": "markdown",
   "metadata": {},
   "source": [
    "## Reference\n",
    "This work is based on the theory and algorithms provided in [1].\n",
    "\n",
    "[[1]](https://www.sciencedirect.com/science/article/pii/S089812210500204X) J. Shi and J. Malik.  Normalized Cuts and Image Segmentation.  *IEEE Transactions on Pattern Analysis and Machine Intelligence*, 22:888&ndash;905, 2000."
   ]
  },
  {
   "cell_type": "markdown",
   "metadata": {},
   "source": [
    "## Pseudocode"
   ]
  },
  {
   "cell_type": "markdown",
   "metadata": {},
   "source": [
    "#### Input\n",
    "1. $G=(V,E)$, taking each pixel as a node $(V)$ and connecting each pair of pixels in radius$(r)$ by an edge $(E)$.\n",
    "2. $w_{ij}$, the weight on the edge connecting two nodes to be a measure of the similarity between the two nodes\n",
    "\n",
    "#### Output\n",
    "&#8195; &#8195;&#8194; $x_i = 1$ if node $i$ is in partition $A$ and $0$, otherwise.\n",
    "\n",
    "#### Steps\n",
    "1. Let $D$ be the $N \\times N$ diagonal matrix whose $i,i$-entry is $\\sum_{j} w_{ij}$\n",
    "2. Let $W$ be the $N \\times N$ symmetrical matrix whose $i,j$-entry is $w_{ij}$\n",
    "3. Solve the eigenproblem $(D-W) 𝑦=λD𝑦$ such that the eigenvalues are in descending. \n",
    "4. Split y by some splitting point, and also ignore all those eigenvectors which have smoothly varying eigenvector values.\n",
    "(threshold : 0.06 ratio between the minimum and maximum values of the eigenvector values)\n",
    "5. $𝑦=(1+ x)-b(1- x)$, where $b=\\frac{\\sum_{x_i>0}}{\\sum_{x_i<0}} ⇒ x=\\frac{y−1+b}{1+b}$"
   ]
  },
  {
   "cell_type": "markdown",
   "metadata": {},
   "source": [
    "## Implementation"
   ]
  },
  {
   "cell_type": "code",
   "execution_count": 1,
   "metadata": {},
   "outputs": [],
   "source": [
    "import scipy.linalg as LA\n",
    "import numpy as np\n",
    "import pandas as pd\n",
    "from collections import Counter\n",
    "np.set_printoptions(precision=2)"
   ]
  },
  {
   "cell_type": "markdown",
   "metadata": {},
   "source": [
    "##### Input data\n",
    "data_s is an $n \\times 2$ matrix that represents the 2-dim coordinate (spatial location) of $n$ nodes.  \n",
    "data_F is the feature vectors.  \n",
    "r is the boundary that if the distance between node i and j less than r, than there exist weight on the edge between them."
   ]
  },
  {
   "cell_type": "code",
   "execution_count": 2,
   "metadata": {},
   "outputs": [],
   "source": [
    "class Ncut:\n",
    "    def __init__(self, data_s, data_F, r, c=10):\n",
    "        self.data_s = data_s\n",
    "        self.data_F = data_F\n",
    "        self.n, self.m = data_s.shape\n",
    "        self.r = r\n",
    "        self.W = np.zeros(self.n**2).reshape(self.n,self.n)\n",
    "        self.D = np.zeros(self.n**2).reshape(self.n,self.n)\n",
    "        self.L = []\n",
    "        self.x = []\n",
    "        self.c = c           #The number of cuts when ignoring the ratio in ig_partition.\n",
    "        self.ig_x = []\n",
    "    \n",
    "    def lap_matrix(self):\n",
    "        for i in range(self.n):\n",
    "            for j in range(self.n):\n",
    "                dsij = np.linalg.norm(np.subtract(self.data_s[i],self.data_s[j]))\n",
    "                if dsij < self.r and i != j:\n",
    "                    dFij = np.linalg.norm(self.data_F[i]-self.data_F[j])\n",
    "                    self.W[i,j] = np.exp(-dFij**2) * np.exp(-dsij**2)\n",
    "                else:\n",
    "                    self.W[i,j] = 0\n",
    "        \n",
    "        self.D = np.zeros_like(self.W)    # degrees matrix\n",
    "        self.D[np.arange(self.n), np.arange(self.n)] = self.W.sum(axis=1)\n",
    "#         for i in range(self.n):\n",
    "#             self.D[i,i] = np.sum(self.W[i])\n",
    "        self.L = self.D - self.W\n",
    "#         self.L = np.subtract(self.D,self.W)\n",
    "        return self.L\n",
    "    \n",
    "    def full_partition(self):\n",
    "        eigs, vecs = LA.eigh(self.L, self.D)\n",
    "        y = vecs #* np.array([-1,1,1,-1,-1,-1,-1,1,-1])\n",
    "        split_y = np.zeros((self.n,self.n))\n",
    "#         split_y = np.zeros(self.n**2).reshape(self.n,self.n)\n",
    "        for j in range(self.n):     #split\n",
    "            mu = y[:,j].mean()\n",
    "            for i in range(self.n):\n",
    "                if y[i,j] >= mu:\n",
    "                    split_y[i,j] = 1\n",
    "                else:\n",
    "                    split_y[i,j] = 0\n",
    "        self.x = split_y\n",
    "        return self.x\n",
    "    \n",
    "    def ig_partition(self):\n",
    "        #ignore those eigenvectors that the ratio > 0.06.\n",
    "        eigs, vecs = LA.eigh(self.L, self.D)\n",
    "        y = vecs #* np.array([-1,1,1,-1,-1,-1,-1,1,-1])\n",
    "        u = np.zeros(self.n)\n",
    "        for j in range(self.n):\n",
    "            z = np.array(Counter(pd.cut(y[:,j],self.c)).most_common())[:,1]\n",
    "            if z.shape[0]==self.c: u[j] = min(z)/max(z)   #u is the ratio between min and max of the eigenvector values.\n",
    "            else: u[j] = 0\n",
    "        ig_y = np.zeros_like(y).astype(float)\n",
    "        split_y = np.zeros_like(y).astype(float)\n",
    "        for i in range(self.n):\n",
    "            if u[i]<0.06: ig_y[:,i] = y[:,i]   #ignore\n",
    "            else: ig_y[:,i] = 0\n",
    "        for j in range(self.n):                #split\n",
    "            for i in range(self.n):\n",
    "                if ig_y[i,j] > np.mean(ig_y[:,j]):\n",
    "                    split_y[i,j] = 1\n",
    "                else:\n",
    "                    split_y[i,j] = 0\n",
    "        self.ig_x = split_y\n",
    "        return self.ig_x"
   ]
  },
  {
   "cell_type": "markdown",
   "metadata": {},
   "source": [
    "## Examples"
   ]
  },
  {
   "cell_type": "code",
   "execution_count": 3,
   "metadata": {},
   "outputs": [],
   "source": [
    "s = np.array([[1,1],[1,2],[1,3],[2,1],[2,2],[2,3],[3,1],[3,2],[3,3]])   #spacial\n",
    "# F = np.array([1,2,3,1,4,3,1,2,6])                                       #feature (can be vector)\n",
    "F = np.array([1,2,3,4,5,6,7,8,9])                                       #feature (can be vector)\n",
    "\n",
    "model = Ncut(s, F, r=2, c=3)"
   ]
  },
  {
   "cell_type": "code",
   "execution_count": 4,
   "metadata": {
    "scrolled": true
   },
   "outputs": [
    {
     "data": {
      "text/plain": [
       "array([[ 1.35e-01, -1.35e-01,  0.00e+00, -4.54e-05, -1.52e-08,  0.00e+00,\n",
       "         0.00e+00,  0.00e+00,  0.00e+00],\n",
       "       [-1.35e-01,  2.73e-01, -1.35e-01, -2.48e-03, -4.54e-05, -1.52e-08,\n",
       "         0.00e+00,  0.00e+00,  0.00e+00],\n",
       "       [ 0.00e+00, -1.35e-01,  1.38e-01,  0.00e+00, -2.48e-03, -4.54e-05,\n",
       "         0.00e+00,  0.00e+00,  0.00e+00],\n",
       "       [-4.54e-05, -2.48e-03,  0.00e+00,  1.38e-01, -1.35e-01,  0.00e+00,\n",
       "        -4.54e-05, -1.52e-08,  0.00e+00],\n",
       "       [-1.52e-08, -4.54e-05, -2.48e-03, -1.35e-01,  2.76e-01, -1.35e-01,\n",
       "        -2.48e-03, -4.54e-05, -1.52e-08],\n",
       "       [ 0.00e+00, -1.52e-08, -4.54e-05,  0.00e+00, -1.35e-01,  1.38e-01,\n",
       "         0.00e+00, -2.48e-03, -4.54e-05],\n",
       "       [ 0.00e+00,  0.00e+00,  0.00e+00, -4.54e-05, -2.48e-03,  0.00e+00,\n",
       "         1.38e-01, -1.35e-01,  0.00e+00],\n",
       "       [ 0.00e+00,  0.00e+00,  0.00e+00, -1.52e-08, -4.54e-05, -2.48e-03,\n",
       "        -1.35e-01,  2.73e-01, -1.35e-01],\n",
       "       [ 0.00e+00,  0.00e+00,  0.00e+00,  0.00e+00, -1.52e-08, -4.54e-05,\n",
       "         0.00e+00, -1.35e-01,  1.35e-01]])"
      ]
     },
     "execution_count": 4,
     "metadata": {},
     "output_type": "execute_result"
    }
   ],
   "source": [
    "model.lap_matrix()"
   ]
  },
  {
   "cell_type": "markdown",
   "metadata": {},
   "source": [
    "###### For the following matrix. Each column is a cut(except for the first column). The index =1 means those nodes are a partition.\n",
    "The values in first column are not all 1 is because of the numerical error for computing eigenvectors. Shown in the upper cell."
   ]
  },
  {
   "cell_type": "code",
   "execution_count": 5,
   "metadata": {},
   "outputs": [
    {
     "data": {
      "text/plain": [
       "array([[1., 0., 1., 0., 1., 1., 0., 1., 1.],\n",
       "       [1., 0., 1., 1., 0., 0., 1., 0., 0.],\n",
       "       [1., 0., 1., 1., 0., 0., 0., 1., 1.],\n",
       "       [1., 0., 0., 0., 1., 0., 1., 1., 1.],\n",
       "       [1., 0., 0., 1., 0., 1., 0., 0., 0.],\n",
       "       [1., 1., 0., 1., 1., 1., 1., 0., 1.],\n",
       "       [0., 1., 1., 0., 0., 1., 0., 0., 1.],\n",
       "       [0., 1., 1., 0., 0., 1., 1., 1., 0.],\n",
       "       [0., 1., 1., 1., 1., 0., 0., 0., 1.]])"
      ]
     },
     "execution_count": 5,
     "metadata": {},
     "output_type": "execute_result"
    }
   ],
   "source": [
    "model.full_partition()"
   ]
  },
  {
   "cell_type": "code",
   "execution_count": 6,
   "metadata": {},
   "outputs": [
    {
     "data": {
      "text/plain": [
       "array([[0., 0., 1., 0., 0., 0., 0., 0., 1.],\n",
       "       [0., 0., 1., 0., 0., 0., 1., 0., 0.],\n",
       "       [0., 0., 1., 0., 0., 0., 0., 0., 1.],\n",
       "       [0., 0., 0., 0., 0., 0., 1., 0., 1.],\n",
       "       [0., 0., 0., 0., 0., 0., 0., 0., 0.],\n",
       "       [0., 0., 0., 0., 0., 0., 1., 0., 1.],\n",
       "       [0., 0., 1., 0., 0., 0., 0., 0., 1.],\n",
       "       [0., 0., 1., 0., 0., 0., 1., 0., 0.],\n",
       "       [0., 0., 1., 0., 0., 0., 0., 0., 1.]])"
      ]
     },
     "execution_count": 6,
     "metadata": {},
     "output_type": "execute_result"
    }
   ],
   "source": [
    "model.ig_partition()                #because the values(ratio) in u are all <0.06, so the ignored partitions is same as the full one."
   ]
  },
  {
   "cell_type": "code",
   "execution_count": 0,
   "metadata": {},
   "outputs": [],
   "source": []
  }
 ],
 "metadata": {
  "kernelspec": {
   "display_name": "Python 3 (system-wide)",
   "language": "python",
   "name": "python3"
  },
  "language_info": {
   "codemirror_mode": {
    "name": "ipython",
    "version": 3
   },
   "file_extension": ".py",
   "mimetype": "text/x-python",
   "name": "python",
   "nbconvert_exporter": "python",
   "pygments_lexer": "ipython3",
   "version": "3.6.9"
  }
 },
 "nbformat": 4,
 "nbformat_minor": 4
}
