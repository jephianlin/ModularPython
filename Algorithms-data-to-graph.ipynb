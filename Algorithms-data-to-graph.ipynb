{
 "cells": [
  {
   "cell_type": "markdown",
   "metadata": {},
   "source": [
    "# Algorithms: data to graph"
   ]
  },
  {
   "cell_type": "markdown",
   "metadata": {},
   "source": [
    "![Creative Commons License](https://i.creativecommons.org/l/by/4.0/88x31.png)  \n",
    "This work by Jephian Lin is licensed under a [Creative Commons Attribution 4.0 International License](http://creativecommons.org/licenses/by/4.0/)."
   ]
  },
  {
   "cell_type": "markdown",
   "metadata": {},
   "source": [
    "## Similarity graph\n",
    "In many cases,  \n",
    "we are only interested in the \"closeness\" of points,  \n",
    "but not the actual position of the points.  \n",
    "\n",
    "Thus, we may draw a graph  \n",
    "whose vertices are the points and  \n",
    "whose edges are pairs that are \"close\" to each other.  \n",
    "\n",
    "Such a graph is called the **similarity graph**."
   ]
  },
  {
   "cell_type": "markdown",
   "metadata": {},
   "source": [
    "For example, each vertex is a person  \n",
    "while two vertices are adjacent  \n",
    "if the two persons share enough common interests."
   ]
  },
  {
   "cell_type": "markdown",
   "metadata": {},
   "source": [
    "### $k$-nearest neighborhood (kNN)\n",
    "Suppose there are $N$ points.  \n",
    "We may compute the distance between every two points.  "
   ]
  },
  {
   "cell_type": "markdown",
   "metadata": {},
   "source": [
    "![kNN similarity graph](kNN.png \"kNN similarity graph\")"
   ]
  },
  {
   "cell_type": "markdown",
   "metadata": {},
   "source": [
    "Fix a positive integer $k$.  \n",
    "The notation $u\\leftarrow v$ means\n",
    "$v$ is one of the $k$ nearest points to $u$."
   ]
  },
  {
   "cell_type": "markdown",
   "metadata": {},
   "source": [
    "Construct a graph $G$ so that  \n",
    "each vertex represents a point.\n",
    "Two vertices $u$ and $v$ are adjacent  \n",
    "if $u\\leftarrow v$ *and* $v\\leftarrow u$. \n",
    "\n",
    "(You may also define the graph by \"or\".)"
   ]
  },
  {
   "cell_type": "markdown",
   "metadata": {},
   "source": [
    "### $\\epsilon$-ball\n",
    "Suppose there are $N$ points.  \n",
    "We may compute the distance between every two points.  "
   ]
  },
  {
   "cell_type": "markdown",
   "metadata": {},
   "source": [
    "![Epsilon ball similarity graph](eball.png \"Epsilon ball similarity graph\")"
   ]
  },
  {
   "cell_type": "markdown",
   "metadata": {},
   "source": [
    "Fix a small positive value $\\epsilon$.\n",
    "\n",
    "Construct a graph $G$ so that  \n",
    "each vertex represents a point.\n",
    "Two vertices $u$ and $v$ are adjacent  \n",
    "if the distance between $u$ and $v$ is less than $\\epsilon$."
   ]
  },
  {
   "cell_type": "markdown",
   "metadata": {},
   "source": [
    "### Distance matrix  \n",
    "In either case,  \n",
    "the distance of every pair of vertices is required.  \n",
    "Let's see how to generate these distance."
   ]
  },
  {
   "cell_type": "markdown",
   "metadata": {},
   "source": [
    "Let `X` be an array of shape `(N, d)`.  \n",
    "That is, there are `N` points,  \n",
    "and each point is in $\\mathbb{R}^d$."
   ]
  },
  {
   "cell_type": "code",
   "execution_count": 4,
   "metadata": {},
   "outputs": [],
   "source": [
    "import numpy as np\n",
    "import matplotlib.pyplot as plt"
   ]
  },
  {
   "cell_type": "code",
   "execution_count": 5,
   "metadata": {},
   "outputs": [],
   "source": [
    "N = 10\n",
    "d = 2\n",
    "\n",
    "X = np.random.rand(N, d)"
   ]
  },
  {
   "cell_type": "code",
   "execution_count": 6,
   "metadata": {},
   "outputs": [
    {
     "data": {
      "text/plain": [
       "(10, 1, 2)"
      ]
     },
     "execution_count": 6,
     "metadata": {},
     "output_type": "execute_result"
    }
   ],
   "source": [
    "### think of X_col as a column of N points [v1, ..., vN]\n",
    "X_col = X[:, np.newaxis, :]\n",
    "X_col.shape"
   ]
  },
  {
   "cell_type": "code",
   "execution_count": 7,
   "metadata": {},
   "outputs": [
    {
     "data": {
      "text/plain": [
       "(1, 10, 2)"
      ]
     },
     "execution_count": 7,
     "metadata": {},
     "output_type": "execute_result"
    }
   ],
   "source": [
    "### think of X_row as a row of N points [v1, ..., vN]\n",
    "X_row = X[np.newaxis, :, :]\n",
    "X_row.shape"
   ]
  },
  {
   "cell_type": "code",
   "execution_count": 9,
   "metadata": {},
   "outputs": [
    {
     "data": {
      "text/plain": [
       "(10, 10, 2)"
      ]
     },
     "execution_count": 9,
     "metadata": {},
     "output_type": "execute_result"
    }
   ],
   "source": [
    "### diff is an N x N array\n",
    "### whose i,j-entry is vi - vj\n",
    "diff = X_col - X_row\n",
    "diff.shape"
   ]
  },
  {
   "cell_type": "code",
   "execution_count": 11,
   "metadata": {},
   "outputs": [
    {
     "data": {
      "text/plain": [
       "(10, 10)"
      ]
     },
     "execution_count": 11,
     "metadata": {},
     "output_type": "execute_result"
    }
   ],
   "source": [
    "### dist is an N x N array\n",
    "### whose i,j-entry is \n",
    "### dist(vi, vj) = sqrt( square sum of entries of vi - vj )\n",
    "dist = np.sqrt(np.sum(diff**2, axis=-1))\n",
    "dist.shape"
   ]
  },
  {
   "cell_type": "code",
   "execution_count": 15,
   "metadata": {},
   "outputs": [],
   "source": [
    "### set the printing precision to 2 for NumPy arrays\n",
    "np.set_printoptions(precision=2)"
   ]
  },
  {
   "cell_type": "code",
   "execution_count": 16,
   "metadata": {},
   "outputs": [
    {
     "data": {
      "text/plain": [
       "array([[0.  , 0.56, 0.96, 0.67, 0.68, 0.78, 0.64, 0.38, 0.86, 0.59],\n",
       "       [0.56, 0.  , 0.55, 0.17, 0.8 , 0.4 , 0.25, 0.64, 0.4 , 0.23],\n",
       "       [0.96, 0.55, 0.  , 0.38, 0.75, 0.18, 0.33, 0.79, 0.15, 0.37],\n",
       "       [0.67, 0.17, 0.38, 0.  , 0.76, 0.25, 0.13, 0.66, 0.24, 0.14],\n",
       "       [0.68, 0.8 , 0.75, 0.76, 0.  , 0.63, 0.64, 0.29, 0.77, 0.62],\n",
       "       [0.78, 0.4 , 0.18, 0.25, 0.63, 0.  , 0.16, 0.63, 0.14, 0.2 ],\n",
       "       [0.64, 0.25, 0.33, 0.13, 0.64, 0.16, 0.  , 0.57, 0.22, 0.05],\n",
       "       [0.38, 0.64, 0.79, 0.66, 0.29, 0.63, 0.57, 0.  , 0.76, 0.53],\n",
       "       [0.86, 0.4 , 0.15, 0.24, 0.77, 0.14, 0.22, 0.76, 0.  , 0.27],\n",
       "       [0.59, 0.23, 0.37, 0.14, 0.62, 0.2 , 0.05, 0.53, 0.27, 0.  ]])"
      ]
     },
     "execution_count": 16,
     "metadata": {},
     "output_type": "execute_result"
    }
   ],
   "source": [
    "dist"
   ]
  },
  {
   "cell_type": "markdown",
   "metadata": {},
   "source": [
    "Let's wrap it into a function."
   ]
  },
  {
   "cell_type": "code",
   "execution_count": 17,
   "metadata": {},
   "outputs": [],
   "source": [
    "def dist_mtx(X):\n",
    "    \"\"\"\n",
    "    Input:\n",
    "        X: an N x d array,  \n",
    "           representing N points in R^d\n",
    "    Output:\n",
    "        an N x N array whose i,j-entry  \n",
    "        is the distance between point_i and point_j\n",
    "    \"\"\"\n",
    "    ### you may combine the following three lines  \n",
    "    ### into one line  \n",
    "    ### to save memory\n",
    "    X_col = X[:, np.newaxis, :]\n",
    "    X_row = X[np.newaxis, :, :]\n",
    "    diff = X_col - X_row\n",
    "    dist = np.sqrt(np.sum(diff**2, axis=-1))\n",
    "    return dist"
   ]
  },
  {
   "cell_type": "markdown",
   "metadata": {},
   "source": [
    "For all exercises below,  \n",
    "we obtain `x` by the following.\n",
    "```Python\n",
    "np.random.seed(10)\n",
    "X = np.random.rand(10, 2)\n",
    "np.random.seed(None)\n",
    "```\n",
    "You may change the seed if you wish."
   ]
  },
  {
   "cell_type": "code",
   "execution_count": 24,
   "metadata": {},
   "outputs": [],
   "source": [
    "np.random.seed(10)\n",
    "X = np.random.rand(10, 2)\n",
    "np.random.seed(None)"
   ]
  },
  {
   "cell_type": "markdown",
   "metadata": {},
   "source": [
    "##### Exercise\n",
    "Use `plt.scatter` to  \n",
    "plot the `N` points in `X`."
   ]
  },
  {
   "cell_type": "code",
   "execution_count": 21,
   "metadata": {},
   "outputs": [],
   "source": [
    "### your answer here\n"
   ]
  },
  {
   "cell_type": "markdown",
   "metadata": {},
   "source": [
    "##### Exercise\n",
    "Let `e = 0.4`.  \n",
    "\n",
    "Use `dist_mtx` to create a list `similarity`  \n",
    "that contains all pairs of indices `(i,j)`  \n",
    "such that the distance betwen  \n",
    "`point_i` and `point_j` is less than `e`."
   ]
  },
  {
   "cell_type": "code",
   "execution_count": 46,
   "metadata": {},
   "outputs": [],
   "source": [
    "### your answer here\n"
   ]
  },
  {
   "cell_type": "markdown",
   "metadata": {},
   "source": [
    "##### Exercise\n",
    "Let `e = 0.4`.  \n",
    "\n",
    "On one figure,  \n",
    "draw the points in `X` and  \n",
    "draw the edges for each pair `(i,j)` in `similarity`."
   ]
  },
  {
   "cell_type": "code",
   "execution_count": 46,
   "metadata": {},
   "outputs": [],
   "source": [
    "### your answer here\n"
   ]
  },
  {
   "cell_type": "markdown",
   "metadata": {},
   "source": [
    "##### Exercise\n",
    "Write a function `eball_sim(X, e)`  \n",
    "whose input is a dataset `X` and a threshold `e` and  \n",
    "whose output is a NetworkX graph `g`,  \n",
    "using `similarity` as the edges."
   ]
  },
  {
   "cell_type": "code",
   "execution_count": 46,
   "metadata": {},
   "outputs": [],
   "source": [
    "### your answer here\n"
   ]
  },
  {
   "cell_type": "markdown",
   "metadata": {},
   "source": [
    "##### Exercise\n",
    "Draw the graph `eball_sim(X, e)`  \n",
    "using `spectral_layout`.  \n",
    "\n",
    "Now you have performed a \"Laplacian eigenmap\"!"
   ]
  },
  {
   "cell_type": "code",
   "execution_count": 46,
   "metadata": {},
   "outputs": [],
   "source": [
    "### your answer here\n"
   ]
  },
  {
   "cell_type": "markdown",
   "metadata": {},
   "source": [
    "##### Exercise\n",
    "Let `k = 2`.  \n",
    "\n",
    "Use `np.argparition` and `dist_mtx`  \n",
    "to create a list `similarity`  \n",
    "that contains all pairs of indices `(i,j)`  \n",
    "such that $i\\leftarrow j$."
   ]
  },
  {
   "cell_type": "code",
   "execution_count": 46,
   "metadata": {},
   "outputs": [],
   "source": [
    "### your answer here\n"
   ]
  },
  {
   "cell_type": "markdown",
   "metadata": {},
   "source": [
    "##### Exercise\n",
    "Let `k = 2`.  \n",
    "\n",
    "On one figure,  \n",
    "draw the points in `X` and  \n",
    "draw the edges for each pair `(i,j)` in `similarity`."
   ]
  },
  {
   "cell_type": "code",
   "execution_count": 46,
   "metadata": {},
   "outputs": [],
   "source": [
    "### your answer here\n"
   ]
  },
  {
   "cell_type": "markdown",
   "metadata": {},
   "source": [
    "##### Exercise\n",
    "Write a function `kNN_sim(X, e)`  \n",
    "whose input is a dataset `X` and a threshold `e` and  \n",
    "whose output is a NetworkX graph `g`,  \n",
    "using `similarity` as the edges."
   ]
  },
  {
   "cell_type": "code",
   "execution_count": 46,
   "metadata": {},
   "outputs": [],
   "source": [
    "### your answer here\n"
   ]
  },
  {
   "cell_type": "markdown",
   "metadata": {},
   "source": [
    "##### Exercise\n",
    "Draw the graph `kNN_sim(X, e)`  \n",
    "using `spectral_layout`.  \n",
    "\n",
    "Now you have performed a \"Laplacian eigenmap\"!"
   ]
  },
  {
   "cell_type": "code",
   "execution_count": 46,
   "metadata": {},
   "outputs": [],
   "source": [
    "### your answer here\n"
   ]
  },
  {
   "cell_type": "markdown",
   "metadata": {},
   "source": [
    "##### Sample code for epsilon ball"
   ]
  },
  {
   "cell_type": "code",
   "execution_count": 53,
   "metadata": {},
   "outputs": [
    {
     "data": {
      "image/png": "[encoded data removed]",
      "text/plain": [
       "<Figure size 432x288 with 1 Axes>"
      ]
     },
     "metadata": {
      "image/png": {
       "height": 248,
       "width": 372
      }
     },
     "output_type": "display_data"
    }
   ],
   "source": [
    "e = 0.4\n",
    "\n",
    "dist = dist_mtx(X)\n",
    "similarity = []\n",
    "N = X.shape[0]\n",
    "for i in range(N-1):\n",
    "    for j in range(i,N):\n",
    "        if dist[i,j] < e:\n",
    "            similarity.append((i,j))\n",
    "            \n",
    "plt.scatter(X[:,0], X[:,1])\n",
    "for i,j in similarity:\n",
    "    plt.plot(*zip(X[i], X[j]), 'black')\n",
    "\n",
    "# fig = plt.gcf()\n",
    "# fig.savefig('eball.png')"
   ]
  },
  {
   "cell_type": "markdown",
   "metadata": {},
   "source": [
    "##### Sample code for kNN"
   ]
  },
  {
   "cell_type": "code",
   "execution_count": 62,
   "metadata": {
    "scrolled": true
   },
   "outputs": [
    {
     "data": {
      "image/png": "[encoded data removed]",
      "text/plain": [
       "<Figure size 432x288 with 1 Axes>"
      ]
     },
     "metadata": {
      "image/png": {
       "height": 248,
       "width": 372
      }
     },
     "output_type": "display_data"
    }
   ],
   "source": [
    "k = 2\n",
    "\n",
    "dist = dist_mtx(X)\n",
    "\n",
    "### the diagonal entries are always the smallest\n",
    "argpar = np.argpartition(dist, k+1) \n",
    "\n",
    "similarity = []\n",
    "N = X.shape[0]\n",
    "for i in range(N):\n",
    "    for j in range(k+1):\n",
    "        similarity.append((i,argpar[i,j]))\n",
    "            \n",
    "plt.scatter(X[:,0], X[:,1])\n",
    "for i,j in similarity:\n",
    "    plt.plot(*zip(X[i], X[j]), 'black')\n",
    "\n",
    "# fig = plt.gcf()\n",
    "# fig.savefig('kNN.png')"
   ]
  },
  {
   "cell_type": "code",
   "execution_count": null,
   "metadata": {},
   "outputs": [],
   "source": []
  }
 ],
 "metadata": {
  "kernelspec": {
   "display_name": "Python 3 (Ubuntu Linux)",
   "language": "python",
   "name": "python3"
  },
  "language_info": {
   "codemirror_mode": {
    "name": "ipython",
    "version": 3
   },
   "file_extension": ".py",
   "mimetype": "text/x-python",
   "name": "python",
   "nbconvert_exporter": "python",
   "pygments_lexer": "ipython3",
   "version": "3.6.7"
  }
 },
 "nbformat": 4,
 "nbformat_minor": 2
}
